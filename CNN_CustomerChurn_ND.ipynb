{
 "cells": [
  {
   "cell_type": "code",
   "execution_count": 1,
   "metadata": {},
   "outputs": [
    {
     "name": "stderr",
     "output_type": "stream",
     "text": [
      "Using TensorFlow backend.\n"
     ]
    }
   ],
   "source": [
    "import pandas as pd\n",
    "import numpy as np\n",
    "from matplotlib import pyplot as plt\n",
    "%matplotlib inline\n",
    "import tensorflow as tf\n",
    "from sklearn.metrics import confusion_matrix , classification_report, precision_recall_curve, roc_curve, roc_auc_score\n",
    "from tensorflow.keras import datasets, layers, models\n",
    "from keras.layers import SpatialDropout1D\n",
    "from sklearn.preprocessing import MinMaxScaler\n",
    "from sklearn.model_selection import train_test_split\n",
    "from sklearn.metrics import confusion_matrix , classification_report, precision_recall_curve, roc_curve, roc_auc_score"
   ]
  },
  {
   "cell_type": "code",
   "execution_count": 54,
   "metadata": {},
   "outputs": [
    {
     "data": {
      "text/plain": [
       "['Churn Reason']"
      ]
     },
     "execution_count": 54,
     "metadata": {},
     "output_type": "execute_result"
    }
   ],
   "source": [
    "df=pd.read_excel('E:/SnehaWork/AIProject/Dataset/Big DS/Combined_Sheet_MODIFIED.xlsx')\n",
    "df.columns[df.isnull().any()].tolist() "
   ]
  },
  {
   "cell_type": "code",
   "execution_count": 3,
   "metadata": {},
   "outputs": [],
   "source": [
    "def print_unique_col_values(df):\n",
    "    for column in df:\n",
    "        print(f'{column} : {df[column].unique()}')"
   ]
  },
  {
   "cell_type": "code",
   "execution_count": 68,
   "metadata": {},
   "outputs": [
    {
     "name": "stdout",
     "output_type": "stream",
     "text": [
      "Latitude : [33.964131 34.059281 34.048013 ... 41.813521 39.191797 40.363446]\n",
      "Longitude : [-118.272783 -118.30742  -118.293953 ... -121.492666 -120.212401\n",
      " -123.835041]\n",
      "Under 30 : [0 1]\n",
      "Senior Citizen : [0 1]\n",
      "Partner : [0 1]\n",
      "Number of Dependents : [0 2 3 1 5 4 6 7 8 9]\n",
      "Number of Referrals : [ 0  6  1  4  5  2  3  7  9  8 10 11]\n",
      "Tenure Months : [ 2  8 28 49 10  1 47 17  5 34 11 15 18  9  7 12 25 68 55 37  3 27 20  4\n",
      " 58 53 13  6 19 59 16 52 24 32 38 54 43 63 21 69 22 61 60 48 40 23 39 35\n",
      " 56 65 33 30 45 46 62 70 50 44 71 26 14 41 66 64 29 42 67 51 31 57 36 72]\n",
      "Satisfaction Score : [1 2 3 4 5]\n",
      "Phone Service : [1 0]\n",
      "Multiple Lines : [0 1]\n",
      "Online Security : [1 0]\n",
      "Online Backup : [1 0]\n",
      "Device Protection : [0 1]\n",
      "Tech Support : [0 1]\n",
      "Premium Tech Support : [0 1]\n",
      "Unlimited Data : [1 0]\n",
      "Streaming Music : [0 1]\n",
      "Streaming TV : [0 1]\n",
      "Streaming Movies : [0 1]\n",
      "Avg Monthly GB Download : [21 51 26 47 11 69  8  0 16 58 41 28 18 19 20 17 52 29 57 53 56 12 27 14\n",
      " 30 71 48 22  3 24 73 76  9  7 15  2 10  5 59 13 25 23 82  4 42  6 39 85\n",
      " 46 75]\n",
      "Avg Monthly Long Distance Charges : [10.47  9.12 12.15 ... 44.98  8.62  9.08]\n",
      "Total Refunds : [ 0.   45.61 13.43  8.74  4.48 36.6  33.43 40.95 45.44 18.55 11.05 33.21\n",
      " 48.25 21.72 21.69 14.22 45.37 27.6  10.17 36.44 13.03 23.89 11.   34.29\n",
      " 48.26 35.82 15.73  9.36 19.67 39.27 41.85 40.   12.81  4.73 27.38 14.24\n",
      " 29.84 49.57 12.07 40.64 10.2  17.88 37.55 48.09 32.46 20.23 12.59 43.31\n",
      "  8.13 46.64 23.33 47.2  33.25 33.73 49.06 25.79 15.24 26.99 44.58 20.16\n",
      "  8.88 12.48  6.79 39.29 44.31 13.01 11.45 28.35  7.39 35.05 41.18 30.46\n",
      " 48.61 26.02 38.48 14.23 40.15 48.95 24.44  9.68 23.72 20.29 48.54  4.96\n",
      " 18.21  1.27 22.96 28.49 19.5   8.35 35.7  17.01 34.69  4.93 35.34 18.39\n",
      " 27.3  44.16 34.09 36.61 18.72 44.63 23.97 38.42  1.48  2.93 10.76 20.28\n",
      " 42.18 40.79 25.67 20.45 41.21  2.29 24.08 36.29 30.26  4.6  41.67 15.62\n",
      " 46.78 14.49 25.84 16.97 23.67 46.56 27.09 10.23 15.57 26.55  3.2  21.6\n",
      " 17.14  5.73 32.09  1.83 47.19 14.21 38.15  8.3  31.39 12.55 11.48 43.38\n",
      " 49.37  9.34 38.61 37.06 43.25 23.28 45.07 44.9  23.61 19.89 38.84  1.01\n",
      " 14.67 37.37 21.32 36.04 49.51 47.91 11.72 29.76  1.99 40.62 18.84 47.04\n",
      "  5.49  9.49 29.17 19.25 45.69 29.88 39.93 26.98 11.83 16.58 17.16 18.85\n",
      " 37.64 41.2  12.19  9.22 33.8   9.73 46.07 47.87 39.99 14.76  2.24 42.89\n",
      " 16.12 38.37 47.36 33.76 12.8  23.01 12.16 45.75 28.42 37.03 38.46 46.66\n",
      " 35.61 18.89  1.66 17.6  21.35 29.32 23.92 45.81 49.53 21.52 29.   29.99\n",
      " 21.08 36.4  21.17  6.26 17.91 34.67 28.93 41.23 47.73 40.46 15.41 29.5\n",
      " 16.86 42.64  1.31 10.57 34.44 13.07 22.34 43.95 37.44 25.57 14.93 46.75\n",
      " 38.98 28.7   2.28 47.02 16.85 29.11 32.55  5.44 27.79 43.68 41.74 16.73\n",
      "  2.18  3.26 26.87 10.47 27.15 45.82 39.18 31.05  6.65 15.2   1.69 43.66\n",
      " 24.36 27.89  6.11  7.43 25.07 37.45 34.16 17.5  11.37 46.81 48.66 15.02\n",
      " 36.52 38.09 19.63 45.47 39.92 22.55 24.98  3.34 17.05 38.33 47.79 24.92\n",
      " 40.54  5.55 30.22  5.47 44.   28.98 49.38 37.68 18.17 36.38 26.83 29.21\n",
      " 18.88 33.67 17.3  17.03  3.55 25.62 18.62  9.39  5.9   5.01 42.57 42.43\n",
      "  4.7  21.53 21.58 35.28 28.83 38.57 29.41 10.65 42.29 16.38 36.66 39.45\n",
      " 29.64 26.32 11.85 16.26 20.17 32.59 16.36 22.53  6.72 36.22 38.34 28.08\n",
      " 17.96 33.29 21.71 36.78 30.75 25.55 17.19 33.1  32.71  4.76 44.81  3.33\n",
      " 19.16 31.58  1.09 18.64 44.17 24.9  15.38  5.15  6.41 41.66 46.06 33.13\n",
      " 12.66 48.79  3.59 44.86 34.83 49.79 44.53 47.45 13.37  2.81 44.13 23.13\n",
      "  2.76 46.99 23.16 44.42 48.59 11.8  17.17 15.76  2.97 15.31 45.54 14.15\n",
      " 32.53 22.97 21.25 36.02 39.68 23.39 20.87 17.76 33.07 26.7   3.85  3.51\n",
      " 35.23  9.48 36.13 44.51  4.08 34.45 16.96 16.91 43.12 49.76 23.5  29.95\n",
      "  9.99 33.24 28.63 10.7  36.92 27.01 42.34 34.47  9.79 26.37  8.96 21.9\n",
      "  4.25 16.56 10.28 46.67 14.78 49.23 35.01  9.35 37.04 49.24 32.65 39.15\n",
      " 18.78 14.57 49.22 16.27  5.83 35.44 29.29 47.59 46.39 24.07  8.5  23.47\n",
      " 29.59 28.09  6.49 34.59 47.55 37.01 43.76 25.98 12.26 37.49 19.13  1.65\n",
      " 31.9  21.81 15.17 14.3  22.72  8.53 46.26 15.43 25.49 17.33 45.6  25.24\n",
      "  2.62 36.07 29.93 23.79 22.4  16.89  7.3  16.99 41.33 30.45 30.14 24.99\n",
      " 30.53 32.24  4.68  4.18  2.21 19.32 25.92 45.46 25.42 43.96 38.65 49.02\n",
      " 19.12 20.19 26.84 40.41 19.31 48.23 45.38 27.24]\n",
      "Total Extra Data Charges : [  0  20  80  10  40 120  90 140 100  30  60 110 130  70 150  50]\n",
      "Monthly Charges : [ 53.85  70.7   99.65 ... 108.35  63.1   78.7 ]\n",
      "Total Charges : [ 108.15  151.65  820.5  ... 7362.9   346.45 6844.5 ]\n",
      "Total Long Distance Charges : [  20.94   18.24   97.2  ...  865.2  2135.52 2043.36]\n",
      "Total Revenue : [ 129.09  169.89  917.7  ... 9453.04  319.21 8887.86]\n",
      "CLTV : [3239 2701 5372 ... 2770 4645 5553]\n",
      "Churn Value : [1 0]\n",
      "Gender_Female : [0 1]\n",
      "Gender_Male : [1 0]\n",
      "Internet Service_DSL : [1 0]\n",
      "Internet Service_Fiber optic : [0 1]\n",
      "Internet Service_No : [0 1]\n",
      "Contract_Month-to-month : [1 0]\n",
      "Contract_One year : [0 1]\n",
      "Contract_Two year : [0 1]\n",
      "Paperless Billing_No : [0 1]\n",
      "Paperless Billing_Yes : [1 0]\n",
      "Payment Method_Bank transfer (automatic) : [0 1]\n",
      "Payment Method_Credit card (automatic) : [0 1]\n",
      "Payment Method_Electronic check : [0 1]\n",
      "Payment Method_Mailed check : [1 0]\n"
     ]
    }
   ],
   "source": [
    "print_unique_col_values(df)"
   ]
  },
  {
   "cell_type": "code",
   "execution_count": 59,
   "metadata": {},
   "outputs": [
    {
     "ename": "KeyError",
     "evalue": "'Churn Label'",
     "output_type": "error",
     "traceback": [
      "\u001b[1;31m---------------------------------------------------------------------------\u001b[0m",
      "\u001b[1;31mKeyError\u001b[0m                                  Traceback (most recent call last)",
      "\u001b[1;32m~\\Anaconda3\\lib\\site-packages\\pandas\\core\\indexes\\base.py\u001b[0m in \u001b[0;36mget_loc\u001b[1;34m(self, key, method, tolerance)\u001b[0m\n\u001b[0;32m   2896\u001b[0m             \u001b[1;32mtry\u001b[0m\u001b[1;33m:\u001b[0m\u001b[1;33m\u001b[0m\u001b[1;33m\u001b[0m\u001b[0m\n\u001b[1;32m-> 2897\u001b[1;33m                 \u001b[1;32mreturn\u001b[0m \u001b[0mself\u001b[0m\u001b[1;33m.\u001b[0m\u001b[0m_engine\u001b[0m\u001b[1;33m.\u001b[0m\u001b[0mget_loc\u001b[0m\u001b[1;33m(\u001b[0m\u001b[0mkey\u001b[0m\u001b[1;33m)\u001b[0m\u001b[1;33m\u001b[0m\u001b[1;33m\u001b[0m\u001b[0m\n\u001b[0m\u001b[0;32m   2898\u001b[0m             \u001b[1;32mexcept\u001b[0m \u001b[0mKeyError\u001b[0m\u001b[1;33m:\u001b[0m\u001b[1;33m\u001b[0m\u001b[1;33m\u001b[0m\u001b[0m\n",
      "\u001b[1;32mpandas\\_libs\\index.pyx\u001b[0m in \u001b[0;36mpandas._libs.index.IndexEngine.get_loc\u001b[1;34m()\u001b[0m\n",
      "\u001b[1;32mpandas\\_libs\\index.pyx\u001b[0m in \u001b[0;36mpandas._libs.index.IndexEngine.get_loc\u001b[1;34m()\u001b[0m\n",
      "\u001b[1;32mpandas\\_libs\\hashtable_class_helper.pxi\u001b[0m in \u001b[0;36mpandas._libs.hashtable.PyObjectHashTable.get_item\u001b[1;34m()\u001b[0m\n",
      "\u001b[1;32mpandas\\_libs\\hashtable_class_helper.pxi\u001b[0m in \u001b[0;36mpandas._libs.hashtable.PyObjectHashTable.get_item\u001b[1;34m()\u001b[0m\n",
      "\u001b[1;31mKeyError\u001b[0m: 'Churn Label'",
      "\nDuring handling of the above exception, another exception occurred:\n",
      "\u001b[1;31mKeyError\u001b[0m                                  Traceback (most recent call last)",
      "\u001b[1;32m<ipython-input-59-49d623cc02cd>\u001b[0m in \u001b[0;36m<module>\u001b[1;34m\u001b[0m\n\u001b[1;32m----> 1\u001b[1;33m \u001b[0mChurned\u001b[0m \u001b[1;33m=\u001b[0m \u001b[0mdf\u001b[0m\u001b[1;33m[\u001b[0m\u001b[0mdf\u001b[0m\u001b[1;33m[\u001b[0m\u001b[1;34m'Churn Label'\u001b[0m\u001b[1;33m]\u001b[0m \u001b[1;33m==\u001b[0m \u001b[1;34m'Yes'\u001b[0m\u001b[1;33m]\u001b[0m\u001b[1;33m\u001b[0m\u001b[1;33m\u001b[0m\u001b[0m\n\u001b[0m\u001b[0;32m      2\u001b[0m \u001b[0mNonChurned\u001b[0m \u001b[1;33m=\u001b[0m \u001b[0mdf\u001b[0m\u001b[1;33m[\u001b[0m\u001b[0mdf\u001b[0m\u001b[1;33m[\u001b[0m\u001b[1;34m'Churn Label'\u001b[0m\u001b[1;33m]\u001b[0m \u001b[1;33m==\u001b[0m \u001b[1;34m'No'\u001b[0m\u001b[1;33m]\u001b[0m\u001b[1;33m\u001b[0m\u001b[1;33m\u001b[0m\u001b[0m\n\u001b[0;32m      3\u001b[0m \u001b[1;33m\u001b[0m\u001b[0m\n\u001b[0;32m      4\u001b[0m \u001b[0mnumber_of_Churned\u001b[0m \u001b[1;33m=\u001b[0m \u001b[0mlen\u001b[0m\u001b[1;33m(\u001b[0m\u001b[0mChurned\u001b[0m\u001b[1;33m)\u001b[0m\u001b[1;33m\u001b[0m\u001b[1;33m\u001b[0m\u001b[0m\n\u001b[0;32m      5\u001b[0m \u001b[0mnumber_of_NonChurned\u001b[0m \u001b[1;33m=\u001b[0m \u001b[0mlen\u001b[0m\u001b[1;33m(\u001b[0m\u001b[0mNonChurned\u001b[0m\u001b[1;33m)\u001b[0m\u001b[1;33m\u001b[0m\u001b[1;33m\u001b[0m\u001b[0m\n",
      "\u001b[1;32m~\\Anaconda3\\lib\\site-packages\\pandas\\core\\frame.py\u001b[0m in \u001b[0;36m__getitem__\u001b[1;34m(self, key)\u001b[0m\n\u001b[0;32m   2978\u001b[0m             \u001b[1;32mif\u001b[0m \u001b[0mself\u001b[0m\u001b[1;33m.\u001b[0m\u001b[0mcolumns\u001b[0m\u001b[1;33m.\u001b[0m\u001b[0mnlevels\u001b[0m \u001b[1;33m>\u001b[0m \u001b[1;36m1\u001b[0m\u001b[1;33m:\u001b[0m\u001b[1;33m\u001b[0m\u001b[1;33m\u001b[0m\u001b[0m\n\u001b[0;32m   2979\u001b[0m                 \u001b[1;32mreturn\u001b[0m \u001b[0mself\u001b[0m\u001b[1;33m.\u001b[0m\u001b[0m_getitem_multilevel\u001b[0m\u001b[1;33m(\u001b[0m\u001b[0mkey\u001b[0m\u001b[1;33m)\u001b[0m\u001b[1;33m\u001b[0m\u001b[1;33m\u001b[0m\u001b[0m\n\u001b[1;32m-> 2980\u001b[1;33m             \u001b[0mindexer\u001b[0m \u001b[1;33m=\u001b[0m \u001b[0mself\u001b[0m\u001b[1;33m.\u001b[0m\u001b[0mcolumns\u001b[0m\u001b[1;33m.\u001b[0m\u001b[0mget_loc\u001b[0m\u001b[1;33m(\u001b[0m\u001b[0mkey\u001b[0m\u001b[1;33m)\u001b[0m\u001b[1;33m\u001b[0m\u001b[1;33m\u001b[0m\u001b[0m\n\u001b[0m\u001b[0;32m   2981\u001b[0m             \u001b[1;32mif\u001b[0m \u001b[0mis_integer\u001b[0m\u001b[1;33m(\u001b[0m\u001b[0mindexer\u001b[0m\u001b[1;33m)\u001b[0m\u001b[1;33m:\u001b[0m\u001b[1;33m\u001b[0m\u001b[1;33m\u001b[0m\u001b[0m\n\u001b[0;32m   2982\u001b[0m                 \u001b[0mindexer\u001b[0m \u001b[1;33m=\u001b[0m \u001b[1;33m[\u001b[0m\u001b[0mindexer\u001b[0m\u001b[1;33m]\u001b[0m\u001b[1;33m\u001b[0m\u001b[1;33m\u001b[0m\u001b[0m\n",
      "\u001b[1;32m~\\Anaconda3\\lib\\site-packages\\pandas\\core\\indexes\\base.py\u001b[0m in \u001b[0;36mget_loc\u001b[1;34m(self, key, method, tolerance)\u001b[0m\n\u001b[0;32m   2897\u001b[0m                 \u001b[1;32mreturn\u001b[0m \u001b[0mself\u001b[0m\u001b[1;33m.\u001b[0m\u001b[0m_engine\u001b[0m\u001b[1;33m.\u001b[0m\u001b[0mget_loc\u001b[0m\u001b[1;33m(\u001b[0m\u001b[0mkey\u001b[0m\u001b[1;33m)\u001b[0m\u001b[1;33m\u001b[0m\u001b[1;33m\u001b[0m\u001b[0m\n\u001b[0;32m   2898\u001b[0m             \u001b[1;32mexcept\u001b[0m \u001b[0mKeyError\u001b[0m\u001b[1;33m:\u001b[0m\u001b[1;33m\u001b[0m\u001b[1;33m\u001b[0m\u001b[0m\n\u001b[1;32m-> 2899\u001b[1;33m                 \u001b[1;32mreturn\u001b[0m \u001b[0mself\u001b[0m\u001b[1;33m.\u001b[0m\u001b[0m_engine\u001b[0m\u001b[1;33m.\u001b[0m\u001b[0mget_loc\u001b[0m\u001b[1;33m(\u001b[0m\u001b[0mself\u001b[0m\u001b[1;33m.\u001b[0m\u001b[0m_maybe_cast_indexer\u001b[0m\u001b[1;33m(\u001b[0m\u001b[0mkey\u001b[0m\u001b[1;33m)\u001b[0m\u001b[1;33m)\u001b[0m\u001b[1;33m\u001b[0m\u001b[1;33m\u001b[0m\u001b[0m\n\u001b[0m\u001b[0;32m   2900\u001b[0m         \u001b[0mindexer\u001b[0m \u001b[1;33m=\u001b[0m \u001b[0mself\u001b[0m\u001b[1;33m.\u001b[0m\u001b[0mget_indexer\u001b[0m\u001b[1;33m(\u001b[0m\u001b[1;33m[\u001b[0m\u001b[0mkey\u001b[0m\u001b[1;33m]\u001b[0m\u001b[1;33m,\u001b[0m \u001b[0mmethod\u001b[0m\u001b[1;33m=\u001b[0m\u001b[0mmethod\u001b[0m\u001b[1;33m,\u001b[0m \u001b[0mtolerance\u001b[0m\u001b[1;33m=\u001b[0m\u001b[0mtolerance\u001b[0m\u001b[1;33m)\u001b[0m\u001b[1;33m\u001b[0m\u001b[1;33m\u001b[0m\u001b[0m\n\u001b[0;32m   2901\u001b[0m         \u001b[1;32mif\u001b[0m \u001b[0mindexer\u001b[0m\u001b[1;33m.\u001b[0m\u001b[0mndim\u001b[0m \u001b[1;33m>\u001b[0m \u001b[1;36m1\u001b[0m \u001b[1;32mor\u001b[0m \u001b[0mindexer\u001b[0m\u001b[1;33m.\u001b[0m\u001b[0msize\u001b[0m \u001b[1;33m>\u001b[0m \u001b[1;36m1\u001b[0m\u001b[1;33m:\u001b[0m\u001b[1;33m\u001b[0m\u001b[1;33m\u001b[0m\u001b[0m\n",
      "\u001b[1;32mpandas\\_libs\\index.pyx\u001b[0m in \u001b[0;36mpandas._libs.index.IndexEngine.get_loc\u001b[1;34m()\u001b[0m\n",
      "\u001b[1;32mpandas\\_libs\\index.pyx\u001b[0m in \u001b[0;36mpandas._libs.index.IndexEngine.get_loc\u001b[1;34m()\u001b[0m\n",
      "\u001b[1;32mpandas\\_libs\\hashtable_class_helper.pxi\u001b[0m in \u001b[0;36mpandas._libs.hashtable.PyObjectHashTable.get_item\u001b[1;34m()\u001b[0m\n",
      "\u001b[1;32mpandas\\_libs\\hashtable_class_helper.pxi\u001b[0m in \u001b[0;36mpandas._libs.hashtable.PyObjectHashTable.get_item\u001b[1;34m()\u001b[0m\n",
      "\u001b[1;31mKeyError\u001b[0m: 'Churn Label'"
     ]
    }
   ],
   "source": [
    "Churned = df[df['Churn Label'] == 'Yes']\n",
    "NonChurned = df[df['Churn Label'] == 'No']\n",
    "\n",
    "number_of_Churned = len(Churned)\n",
    "number_of_NonChurned = len(NonChurned)\n",
    "\n",
    "Churned_percentage = round((number_of_Churned / (number_of_Churned + number_of_NonChurned)) * 100, 2)\n",
    "valid_percentage = round((number_of_NonChurned / (number_of_Churned + number_of_NonChurned)) * 100, 2)\n",
    "print(number_of_NonChurned,number_of_Churned)\n",
    "#df.columns.tolist()"
   ]
  },
  {
   "cell_type": "code",
   "execution_count": 57,
   "metadata": {},
   "outputs": [],
   "source": [
    "#Unnecessary columns\n",
    "drop_cols=['CustomerID','Count','Country','State','Age','Churn Label','Churn Reason','Churn Score','City','Lat Long']\n",
    "df.drop(drop_cols,axis=1,inplace=True)"
   ]
  },
  {
   "cell_type": "code",
   "execution_count": 9,
   "metadata": {},
   "outputs": [
    {
     "data": {
      "text/html": [
       "<div>\n",
       "<style scoped>\n",
       "    .dataframe tbody tr th:only-of-type {\n",
       "        vertical-align: middle;\n",
       "    }\n",
       "\n",
       "    .dataframe tbody tr th {\n",
       "        vertical-align: top;\n",
       "    }\n",
       "\n",
       "    .dataframe thead th {\n",
       "        text-align: right;\n",
       "    }\n",
       "</style>\n",
       "<table border=\"1\" class=\"dataframe\">\n",
       "  <thead>\n",
       "    <tr style=\"text-align: right;\">\n",
       "      <th></th>\n",
       "      <th>Zip Code</th>\n",
       "      <th>Latitude</th>\n",
       "      <th>Longitude</th>\n",
       "      <th>Age</th>\n",
       "      <th>Under 30</th>\n",
       "      <th>Senior Citizen</th>\n",
       "      <th>Gender</th>\n",
       "      <th>Partner</th>\n",
       "      <th>Number of Dependents</th>\n",
       "      <th>Number of Referrals</th>\n",
       "      <th>...</th>\n",
       "      <th>Avg Monthly GB Download</th>\n",
       "      <th>Avg Monthly Long Distance Charges</th>\n",
       "      <th>Total Refunds</th>\n",
       "      <th>Total Extra Data Charges</th>\n",
       "      <th>Monthly Charges</th>\n",
       "      <th>Total Charges</th>\n",
       "      <th>Total Long Distance Charges</th>\n",
       "      <th>Total Revenue</th>\n",
       "      <th>CLTV</th>\n",
       "      <th>Churn Value</th>\n",
       "    </tr>\n",
       "  </thead>\n",
       "  <tbody>\n",
       "    <tr>\n",
       "      <td>0</td>\n",
       "      <td>90003</td>\n",
       "      <td>33.964131</td>\n",
       "      <td>-118.272783</td>\n",
       "      <td>37</td>\n",
       "      <td>No</td>\n",
       "      <td>No</td>\n",
       "      <td>Male</td>\n",
       "      <td>No</td>\n",
       "      <td>0</td>\n",
       "      <td>0</td>\n",
       "      <td>...</td>\n",
       "      <td>21</td>\n",
       "      <td>10.47</td>\n",
       "      <td>0.0</td>\n",
       "      <td>0</td>\n",
       "      <td>53.85</td>\n",
       "      <td>108.15</td>\n",
       "      <td>20.94</td>\n",
       "      <td>129.09</td>\n",
       "      <td>3239</td>\n",
       "      <td>1</td>\n",
       "    </tr>\n",
       "    <tr>\n",
       "      <td>1</td>\n",
       "      <td>90005</td>\n",
       "      <td>34.059281</td>\n",
       "      <td>-118.307420</td>\n",
       "      <td>19</td>\n",
       "      <td>Yes</td>\n",
       "      <td>No</td>\n",
       "      <td>Female</td>\n",
       "      <td>No</td>\n",
       "      <td>2</td>\n",
       "      <td>0</td>\n",
       "      <td>...</td>\n",
       "      <td>51</td>\n",
       "      <td>9.12</td>\n",
       "      <td>0.0</td>\n",
       "      <td>0</td>\n",
       "      <td>70.70</td>\n",
       "      <td>151.65</td>\n",
       "      <td>18.24</td>\n",
       "      <td>169.89</td>\n",
       "      <td>2701</td>\n",
       "      <td>1</td>\n",
       "    </tr>\n",
       "    <tr>\n",
       "      <td>2</td>\n",
       "      <td>90006</td>\n",
       "      <td>34.048013</td>\n",
       "      <td>-118.293953</td>\n",
       "      <td>31</td>\n",
       "      <td>No</td>\n",
       "      <td>No</td>\n",
       "      <td>Female</td>\n",
       "      <td>No</td>\n",
       "      <td>2</td>\n",
       "      <td>0</td>\n",
       "      <td>...</td>\n",
       "      <td>26</td>\n",
       "      <td>12.15</td>\n",
       "      <td>0.0</td>\n",
       "      <td>0</td>\n",
       "      <td>99.65</td>\n",
       "      <td>820.5</td>\n",
       "      <td>97.20</td>\n",
       "      <td>917.70</td>\n",
       "      <td>5372</td>\n",
       "      <td>1</td>\n",
       "    </tr>\n",
       "    <tr>\n",
       "      <td>3</td>\n",
       "      <td>90010</td>\n",
       "      <td>34.062125</td>\n",
       "      <td>-118.315709</td>\n",
       "      <td>23</td>\n",
       "      <td>Yes</td>\n",
       "      <td>No</td>\n",
       "      <td>Female</td>\n",
       "      <td>Yes</td>\n",
       "      <td>3</td>\n",
       "      <td>0</td>\n",
       "      <td>...</td>\n",
       "      <td>47</td>\n",
       "      <td>4.89</td>\n",
       "      <td>0.0</td>\n",
       "      <td>0</td>\n",
       "      <td>104.80</td>\n",
       "      <td>3046.05</td>\n",
       "      <td>136.92</td>\n",
       "      <td>3182.97</td>\n",
       "      <td>5003</td>\n",
       "      <td>1</td>\n",
       "    </tr>\n",
       "    <tr>\n",
       "      <td>4</td>\n",
       "      <td>90015</td>\n",
       "      <td>34.039224</td>\n",
       "      <td>-118.266293</td>\n",
       "      <td>38</td>\n",
       "      <td>No</td>\n",
       "      <td>No</td>\n",
       "      <td>Male</td>\n",
       "      <td>No</td>\n",
       "      <td>1</td>\n",
       "      <td>0</td>\n",
       "      <td>...</td>\n",
       "      <td>11</td>\n",
       "      <td>44.33</td>\n",
       "      <td>0.0</td>\n",
       "      <td>0</td>\n",
       "      <td>103.70</td>\n",
       "      <td>5036.3</td>\n",
       "      <td>2172.17</td>\n",
       "      <td>7208.47</td>\n",
       "      <td>5340</td>\n",
       "      <td>1</td>\n",
       "    </tr>\n",
       "  </tbody>\n",
       "</table>\n",
       "<p>5 rows × 37 columns</p>\n",
       "</div>"
      ],
      "text/plain": [
       "   Zip Code   Latitude   Longitude  Age Under 30 Senior Citizen  Gender  \\\n",
       "0     90003  33.964131 -118.272783   37       No             No    Male   \n",
       "1     90005  34.059281 -118.307420   19      Yes             No  Female   \n",
       "2     90006  34.048013 -118.293953   31       No             No  Female   \n",
       "3     90010  34.062125 -118.315709   23      Yes             No  Female   \n",
       "4     90015  34.039224 -118.266293   38       No             No    Male   \n",
       "\n",
       "  Partner  Number of Dependents  Number of Referrals  ...  \\\n",
       "0      No                     0                    0  ...   \n",
       "1      No                     2                    0  ...   \n",
       "2      No                     2                    0  ...   \n",
       "3     Yes                     3                    0  ...   \n",
       "4      No                     1                    0  ...   \n",
       "\n",
       "   Avg Monthly GB Download  Avg Monthly Long Distance Charges Total Refunds  \\\n",
       "0                       21                              10.47           0.0   \n",
       "1                       51                               9.12           0.0   \n",
       "2                       26                              12.15           0.0   \n",
       "3                       47                               4.89           0.0   \n",
       "4                       11                              44.33           0.0   \n",
       "\n",
       "  Total Extra Data Charges Monthly Charges Total Charges  \\\n",
       "0                        0           53.85        108.15   \n",
       "1                        0           70.70        151.65   \n",
       "2                        0           99.65         820.5   \n",
       "3                        0          104.80       3046.05   \n",
       "4                        0          103.70        5036.3   \n",
       "\n",
       "  Total Long Distance Charges Total Revenue  CLTV Churn Value  \n",
       "0                       20.94        129.09  3239           1  \n",
       "1                       18.24        169.89  2701           1  \n",
       "2                       97.20        917.70  5372           1  \n",
       "3                      136.92       3182.97  5003           1  \n",
       "4                     2172.17       7208.47  5340           1  \n",
       "\n",
       "[5 rows x 37 columns]"
      ]
     },
     "execution_count": 9,
     "metadata": {},
     "output_type": "execute_result"
    }
   ],
   "source": [
    "df.head()"
   ]
  },
  {
   "cell_type": "code",
   "execution_count": 60,
   "metadata": {},
   "outputs": [
    {
     "data": {
      "text/plain": [
       "(11, 36)"
      ]
     },
     "execution_count": 60,
     "metadata": {},
     "output_type": "execute_result"
    }
   ],
   "source": [
    "#error='coerce' ignores the errors. Conversion for all except for error values i.e. empty spaces. \n",
    "#.isnull() gives columns which have empty spaces\n",
    "#shows the data which has TotalCharges as null. Good to drop these\n",
    "df.columns[df.isnull().any()].tolist() \n",
    "df[pd.to_numeric(df['Total Charges'],errors='coerce').isnull()].shape"
   ]
  },
  {
   "cell_type": "code",
   "execution_count": 61,
   "metadata": {},
   "outputs": [],
   "source": [
    "#Drop rows with TotalCharges as null\n",
    "\n",
    "#df1 = df[df['Total Charges']!=' ']\n",
    "df.drop(df[df['Total Charges'] == \" \"].index, axis = 0, inplace = True)\n",
    "df.reset_index(drop = True, inplace = True)"
   ]
  },
  {
   "cell_type": "code",
   "execution_count": 15,
   "metadata": {},
   "outputs": [
    {
     "data": {
      "text/plain": [
       "(7032, 36)"
      ]
     },
     "execution_count": 15,
     "metadata": {},
     "output_type": "execute_result"
    }
   ],
   "source": [
    "df.shape"
   ]
  },
  {
   "cell_type": "code",
   "execution_count": 62,
   "metadata": {},
   "outputs": [],
   "source": [
    "df['Total Charges'] = df['Total Charges'].astype('float64')"
   ]
  },
  {
   "cell_type": "code",
   "execution_count": 63,
   "metadata": {},
   "outputs": [],
   "source": [
    "df.replace('No internet service','No',inplace=True)\n",
    "df.replace('No phone service','No',inplace=True)"
   ]
  },
  {
   "cell_type": "code",
   "execution_count": 76,
   "metadata": {},
   "outputs": [
    {
     "name": "stdout",
     "output_type": "stream",
     "text": [
      "<class 'pandas.core.frame.DataFrame'>\n",
      "RangeIndex: 7032 entries, 0 to 7031\n",
      "Data columns (total 48 columns):\n",
      "Latitude                                    7032 non-null float64\n",
      "Longitude                                   7032 non-null float64\n",
      "Under 30                                    7032 non-null int64\n",
      "Senior Citizen                              7032 non-null int64\n",
      "Partner                                     7032 non-null int64\n",
      "Number of Dependents                        7032 non-null int64\n",
      "Number of Referrals                         7032 non-null int64\n",
      "Tenure Months                               7032 non-null int64\n",
      "Phone Service                               7032 non-null int64\n",
      "Multiple Lines                              7032 non-null int64\n",
      "Online Security                             7032 non-null int64\n",
      "Online Backup                               7032 non-null int64\n",
      "Device Protection                           7032 non-null int64\n",
      "Tech Support                                7032 non-null int64\n",
      "Premium Tech Support                        7032 non-null int64\n",
      "Unlimited Data                              7032 non-null int64\n",
      "Streaming Music                             7032 non-null int64\n",
      "Streaming TV                                7032 non-null int64\n",
      "Streaming Movies                            7032 non-null int64\n",
      "Avg Monthly GB Download                     7032 non-null int64\n",
      "Avg Monthly Long Distance Charges           7032 non-null float64\n",
      "Total Refunds                               7032 non-null float64\n",
      "Total Extra Data Charges                    7032 non-null int64\n",
      "Monthly Charges                             7032 non-null float64\n",
      "Total Charges                               7032 non-null float64\n",
      "Total Long Distance Charges                 7032 non-null float64\n",
      "Total Revenue                               7032 non-null float64\n",
      "CLTV                                        7032 non-null int64\n",
      "Churn Value                                 7032 non-null int64\n",
      "Gender_Female                               7032 non-null uint8\n",
      "Gender_Male                                 7032 non-null uint8\n",
      "Internet Service_DSL                        7032 non-null uint8\n",
      "Internet Service_Fiber optic                7032 non-null uint8\n",
      "Internet Service_No                         7032 non-null uint8\n",
      "Contract_Month-to-month                     7032 non-null uint8\n",
      "Contract_One year                           7032 non-null uint8\n",
      "Contract_Two year                           7032 non-null uint8\n",
      "Paperless Billing_No                        7032 non-null uint8\n",
      "Paperless Billing_Yes                       7032 non-null uint8\n",
      "Payment Method_Bank transfer (automatic)    7032 non-null uint8\n",
      "Payment Method_Credit card (automatic)      7032 non-null uint8\n",
      "Payment Method_Electronic check             7032 non-null uint8\n",
      "Payment Method_Mailed check                 7032 non-null uint8\n",
      "Satisfaction Score_1                        7032 non-null uint8\n",
      "Satisfaction Score_2                        7032 non-null uint8\n",
      "Satisfaction Score_3                        7032 non-null uint8\n",
      "Satisfaction Score_4                        7032 non-null uint8\n",
      "Satisfaction Score_5                        7032 non-null uint8\n",
      "dtypes: float64(8), int64(21), uint8(19)\n",
      "memory usage: 1.7 MB\n"
     ]
    }
   ],
   "source": [
    "df.info()\n"
   ]
  },
  {
   "cell_type": "code",
   "execution_count": 64,
   "metadata": {},
   "outputs": [],
   "source": [
    "df['Under 30'] = df['Under 30'].astype(str)\n",
    "df['Senior Citizen'] = df['Senior Citizen'].astype(str)"
   ]
  },
  {
   "cell_type": "code",
   "execution_count": 65,
   "metadata": {},
   "outputs": [],
   "source": [
    "#cols_to_convert = ['Partner', 'Dependents', 'Phone Service', 'Paperless Billing']\n",
    "\n",
    "#replace Yes/No to 1/0 since ML doesn't understand text\n",
    "\n",
    "yes_no_columns = ['Under 30','Senior Citizen','Partner','Phone Service','Multiple Lines','Online Security','Online Backup','Device Protection',\n",
    "'Tech Support','Premium Tech Support','Unlimited Data','Streaming Music','Streaming TV','Streaming Movies']\n",
    "\n",
    "for col in yes_no_columns:\n",
    "    df[col].replace({'Yes': 1,'No': 0},inplace=True)"
   ]
  },
  {
   "cell_type": "code",
   "execution_count": 66,
   "metadata": {},
   "outputs": [
    {
     "data": {
      "text/plain": [
       "(7032, 36)"
      ]
     },
     "execution_count": 66,
     "metadata": {},
     "output_type": "execute_result"
    }
   ],
   "source": [
    "df.shape"
   ]
  },
  {
   "cell_type": "code",
   "execution_count": 67,
   "metadata": {},
   "outputs": [
    {
     "data": {
      "text/html": [
       "<div>\n",
       "<style scoped>\n",
       "    .dataframe tbody tr th:only-of-type {\n",
       "        vertical-align: middle;\n",
       "    }\n",
       "\n",
       "    .dataframe tbody tr th {\n",
       "        vertical-align: top;\n",
       "    }\n",
       "\n",
       "    .dataframe thead th {\n",
       "        text-align: right;\n",
       "    }\n",
       "</style>\n",
       "<table border=\"1\" class=\"dataframe\">\n",
       "  <thead>\n",
       "    <tr style=\"text-align: right;\">\n",
       "      <th></th>\n",
       "      <th>Latitude</th>\n",
       "      <th>Longitude</th>\n",
       "      <th>Under 30</th>\n",
       "      <th>Senior Citizen</th>\n",
       "      <th>Partner</th>\n",
       "      <th>Number of Dependents</th>\n",
       "      <th>Number of Referrals</th>\n",
       "      <th>Tenure Months</th>\n",
       "      <th>Satisfaction Score</th>\n",
       "      <th>Phone Service</th>\n",
       "      <th>...</th>\n",
       "      <th>Internet Service_No</th>\n",
       "      <th>Contract_Month-to-month</th>\n",
       "      <th>Contract_One year</th>\n",
       "      <th>Contract_Two year</th>\n",
       "      <th>Paperless Billing_No</th>\n",
       "      <th>Paperless Billing_Yes</th>\n",
       "      <th>Payment Method_Bank transfer (automatic)</th>\n",
       "      <th>Payment Method_Credit card (automatic)</th>\n",
       "      <th>Payment Method_Electronic check</th>\n",
       "      <th>Payment Method_Mailed check</th>\n",
       "    </tr>\n",
       "  </thead>\n",
       "  <tbody>\n",
       "    <tr>\n",
       "      <td>0</td>\n",
       "      <td>33.964131</td>\n",
       "      <td>-118.272783</td>\n",
       "      <td>0</td>\n",
       "      <td>0</td>\n",
       "      <td>0</td>\n",
       "      <td>0</td>\n",
       "      <td>0</td>\n",
       "      <td>2</td>\n",
       "      <td>1</td>\n",
       "      <td>1</td>\n",
       "      <td>...</td>\n",
       "      <td>0</td>\n",
       "      <td>1</td>\n",
       "      <td>0</td>\n",
       "      <td>0</td>\n",
       "      <td>0</td>\n",
       "      <td>1</td>\n",
       "      <td>0</td>\n",
       "      <td>0</td>\n",
       "      <td>0</td>\n",
       "      <td>1</td>\n",
       "    </tr>\n",
       "    <tr>\n",
       "      <td>1</td>\n",
       "      <td>34.059281</td>\n",
       "      <td>-118.307420</td>\n",
       "      <td>1</td>\n",
       "      <td>0</td>\n",
       "      <td>0</td>\n",
       "      <td>2</td>\n",
       "      <td>0</td>\n",
       "      <td>2</td>\n",
       "      <td>2</td>\n",
       "      <td>1</td>\n",
       "      <td>...</td>\n",
       "      <td>0</td>\n",
       "      <td>1</td>\n",
       "      <td>0</td>\n",
       "      <td>0</td>\n",
       "      <td>0</td>\n",
       "      <td>1</td>\n",
       "      <td>0</td>\n",
       "      <td>0</td>\n",
       "      <td>1</td>\n",
       "      <td>0</td>\n",
       "    </tr>\n",
       "    <tr>\n",
       "      <td>2</td>\n",
       "      <td>34.048013</td>\n",
       "      <td>-118.293953</td>\n",
       "      <td>0</td>\n",
       "      <td>0</td>\n",
       "      <td>0</td>\n",
       "      <td>2</td>\n",
       "      <td>0</td>\n",
       "      <td>8</td>\n",
       "      <td>3</td>\n",
       "      <td>1</td>\n",
       "      <td>...</td>\n",
       "      <td>0</td>\n",
       "      <td>1</td>\n",
       "      <td>0</td>\n",
       "      <td>0</td>\n",
       "      <td>0</td>\n",
       "      <td>1</td>\n",
       "      <td>0</td>\n",
       "      <td>0</td>\n",
       "      <td>1</td>\n",
       "      <td>0</td>\n",
       "    </tr>\n",
       "    <tr>\n",
       "      <td>3</td>\n",
       "      <td>34.062125</td>\n",
       "      <td>-118.315709</td>\n",
       "      <td>1</td>\n",
       "      <td>0</td>\n",
       "      <td>1</td>\n",
       "      <td>3</td>\n",
       "      <td>0</td>\n",
       "      <td>28</td>\n",
       "      <td>3</td>\n",
       "      <td>1</td>\n",
       "      <td>...</td>\n",
       "      <td>0</td>\n",
       "      <td>1</td>\n",
       "      <td>0</td>\n",
       "      <td>0</td>\n",
       "      <td>0</td>\n",
       "      <td>1</td>\n",
       "      <td>0</td>\n",
       "      <td>0</td>\n",
       "      <td>1</td>\n",
       "      <td>0</td>\n",
       "    </tr>\n",
       "    <tr>\n",
       "      <td>4</td>\n",
       "      <td>34.039224</td>\n",
       "      <td>-118.266293</td>\n",
       "      <td>0</td>\n",
       "      <td>0</td>\n",
       "      <td>0</td>\n",
       "      <td>1</td>\n",
       "      <td>0</td>\n",
       "      <td>49</td>\n",
       "      <td>1</td>\n",
       "      <td>1</td>\n",
       "      <td>...</td>\n",
       "      <td>0</td>\n",
       "      <td>1</td>\n",
       "      <td>0</td>\n",
       "      <td>0</td>\n",
       "      <td>0</td>\n",
       "      <td>1</td>\n",
       "      <td>1</td>\n",
       "      <td>0</td>\n",
       "      <td>0</td>\n",
       "      <td>0</td>\n",
       "    </tr>\n",
       "  </tbody>\n",
       "</table>\n",
       "<p>5 rows × 44 columns</p>\n",
       "</div>"
      ],
      "text/plain": [
       "    Latitude   Longitude  Under 30  Senior Citizen  Partner  \\\n",
       "0  33.964131 -118.272783         0               0        0   \n",
       "1  34.059281 -118.307420         1               0        0   \n",
       "2  34.048013 -118.293953         0               0        0   \n",
       "3  34.062125 -118.315709         1               0        1   \n",
       "4  34.039224 -118.266293         0               0        0   \n",
       "\n",
       "   Number of Dependents  Number of Referrals  Tenure Months  \\\n",
       "0                     0                    0              2   \n",
       "1                     2                    0              2   \n",
       "2                     2                    0              8   \n",
       "3                     3                    0             28   \n",
       "4                     1                    0             49   \n",
       "\n",
       "   Satisfaction Score  Phone Service  ...  Internet Service_No  \\\n",
       "0                   1              1  ...                    0   \n",
       "1                   2              1  ...                    0   \n",
       "2                   3              1  ...                    0   \n",
       "3                   3              1  ...                    0   \n",
       "4                   1              1  ...                    0   \n",
       "\n",
       "   Contract_Month-to-month  Contract_One year  Contract_Two year  \\\n",
       "0                        1                  0                  0   \n",
       "1                        1                  0                  0   \n",
       "2                        1                  0                  0   \n",
       "3                        1                  0                  0   \n",
       "4                        1                  0                  0   \n",
       "\n",
       "   Paperless Billing_No  Paperless Billing_Yes  \\\n",
       "0                     0                      1   \n",
       "1                     0                      1   \n",
       "2                     0                      1   \n",
       "3                     0                      1   \n",
       "4                     0                      1   \n",
       "\n",
       "   Payment Method_Bank transfer (automatic)  \\\n",
       "0                                         0   \n",
       "1                                         0   \n",
       "2                                         0   \n",
       "3                                         0   \n",
       "4                                         1   \n",
       "\n",
       "   Payment Method_Credit card (automatic)  Payment Method_Electronic check  \\\n",
       "0                                       0                                0   \n",
       "1                                       0                                1   \n",
       "2                                       0                                1   \n",
       "3                                       0                                1   \n",
       "4                                       0                                0   \n",
       "\n",
       "   Payment Method_Mailed check  \n",
       "0                            1  \n",
       "1                            0  \n",
       "2                            0  \n",
       "3                            0  \n",
       "4                            0  \n",
       "\n",
       "[5 rows x 44 columns]"
      ]
     },
     "execution_count": 67,
     "metadata": {},
     "output_type": "execute_result"
    }
   ],
   "source": [
    "#columns with something other than numeric series where we don't know data. One hot encoding\n",
    "df = pd.get_dummies(df.iloc[:, 1 :])\n",
    "df.head()\n"
   ]
  },
  {
   "cell_type": "code",
   "execution_count": 75,
   "metadata": {},
   "outputs": [],
   "source": [
    "#df = pd.get_dummies(data=df,df['Satisfaction Score'])\n",
    "multiclass_col=['Satisfaction Score']\n",
    "df = pd.get_dummies(data=df,columns=multiclass_col)"
   ]
  },
  {
   "cell_type": "code",
   "execution_count": 77,
   "metadata": {},
   "outputs": [
    {
     "name": "stdout",
     "output_type": "stream",
     "text": [
      "variables not normally distributed because all p_values are smaller than 0.05\n"
     ]
    },
    {
     "name": "stderr",
     "output_type": "stream",
     "text": [
      "C:\\Users\\USER\\Anaconda3\\lib\\site-packages\\scipy\\stats\\morestats.py:1676: UserWarning: p-value may not be accurate for N > 5000.\n",
      "  warnings.warn(\"p-value may not be accurate for N > 5000.\")\n"
     ]
    }
   ],
   "source": [
    "#check for normal distribution\n",
    "\n",
    "from scipy import stats\n",
    "\n",
    "k=0\n",
    "for i in df.columns:\n",
    "  test=stats.shapiro(df[i])\n",
    "  if (test[1]>0.05):\n",
    "    k=k+1\n",
    "    print('the p_value of ',i,' is ',test[1])\n",
    "if k==0:\n",
    "  print('variables not normally distributed because all p_values are smaller than 0.05')\n"
   ]
  },
  {
   "cell_type": "code",
   "execution_count": 80,
   "metadata": {},
   "outputs": [
    {
     "name": "stdout",
     "output_type": "stream",
     "text": [
      "Churn Value  Latitude                                    0.003600\n",
      "             Longitude                                   0.004693\n",
      "             Total Extra Data Charges                    0.006885\n",
      "             Avg Monthly Long Distance Charges           0.007952\n",
      "             Gender_Female                               0.008545\n",
      "             Gender_Male                                 0.008545\n",
      "             Phone Service                               0.011691\n",
      "             Total Refunds                               0.033954\n",
      "             Multiple Lines                              0.040033\n",
      "             Streaming Music                             0.045107\n",
      "             Avg Monthly GB Download                     0.048438\n",
      "             Under 30                                    0.054300\n",
      "             Streaming Movies                            0.060860\n",
      "             Streaming TV                                0.063254\n",
      "             Device Protection                           0.066193\n",
      "             Online Backup                               0.082307\n",
      "             Payment Method_Mailed check                 0.090773\n",
      "             Payment Method_Bank transfer (automatic)    0.118136\n",
      "             Internet Service_DSL                        0.124141\n",
      "             CLTV                                        0.128253\n",
      "             Payment Method_Credit card (automatic)      0.134687\n",
      "             Partner                                     0.149982\n",
      "             Senior Citizen                              0.150541\n",
      "             Premium Tech Support                        0.164716\n",
      "             Tech Support                                0.164716\n",
      "             Unlimited Data                              0.166327\n",
      "             Online Security                             0.171270\n",
      "             Contract_One year                           0.178225\n",
      "             Satisfaction Score_3                        0.184856\n",
      "             Paperless Billing_Yes                       0.191454\n",
      "             Paperless Billing_No                        0.191454\n",
      "             Monthly Charges                             0.192858\n",
      "             Total Charges                               0.199484\n",
      "             Number of Dependents                        0.218468\n",
      "             Total Revenue                               0.223986\n",
      "             Total Long Distance Charges                 0.224507\n",
      "             Internet Service_No                         0.227578\n",
      "             Satisfaction Score_5                        0.265621\n",
      "             Number of Referrals                         0.286305\n",
      "             Payment Method_Electronic check             0.301455\n",
      "             Contract_Two year                           0.301552\n",
      "             Internet Service_Fiber optic                0.307463\n",
      "             Satisfaction Score_4                        0.350664\n",
      "             Tenure Months                               0.354049\n",
      "             Contract_Month-to-month                     0.404565\n",
      "             Satisfaction Score_2                        0.468692\n",
      "             Satisfaction Score_1                        0.645641\n",
      "             Churn Value                                 1.000000\n",
      "dtype: float64\n"
     ]
    }
   ],
   "source": [
    "#correlation value with abs and person parameter for better understanding of each feature\n",
    "import seaborn as sns\n",
    "\n",
    "#plt.figure(figsize=(10,5))\n",
    "#fig, ax = plt.subplots(figsize=(15,15)) \n",
    "#sns.heatmap(df.corr()[['Churn Value']],cmap=\"RdBu_r\",center=0.0, annot=True);\n",
    "c=df.corr()[['Churn Value']].abs()\n",
    "s = c.unstack()\n",
    "so = s.sort_values(kind=\"quicksort\")\n",
    "print(so)"
   ]
  },
  {
   "cell_type": "code",
   "execution_count": 81,
   "metadata": {},
   "outputs": [
    {
     "data": {
      "text/plain": [
       "0    5163\n",
       "1    1869\n",
       "Name: Churn Value, dtype: int64"
      ]
     },
     "execution_count": 81,
     "metadata": {},
     "output_type": "execute_result"
    }
   ],
   "source": [
    "#Drop churn \n",
    "X = df.drop('Churn Value',axis=1)  #check axis=0/1\n",
    "Y = df['Churn Value']\n",
    "Y.value_counts()"
   ]
  },
  {
   "cell_type": "code",
   "execution_count": 82,
   "metadata": {},
   "outputs": [],
   "source": [
    "from sklearn.decomposition import PCA\n",
    "from sklearn.preprocessing import StandardScaler\n",
    "\n",
    "sc=StandardScaler()\n",
    "X_pca=sc.fit_transform(X) \n",
    "model=PCA(n_components=15)\n",
    "X_pca_comp=model.fit_transform(X_pca)"
   ]
  },
  {
   "cell_type": "code",
   "execution_count": 110,
   "metadata": {},
   "outputs": [],
   "source": [
    "#X_pca_comp"
   ]
  },
  {
   "cell_type": "code",
   "execution_count": 83,
   "metadata": {},
   "outputs": [],
   "source": [
    "pca_df=pd.DataFrame(X_pca_comp,columns=['pca1','pca2','pca3','pca4','pca5','pca6','pca7','pca8','pca9','pca10','pca11','pca12','pca13','pca14','pca15'])\n",
    "#pca_df=pd.DataFrame(X_pca_comp,columns=['pca1','pca2','pca3','pca4','pca5','pca6','pca7','pca8','pca9','pca10','pca11','pca12','pca13','pca14','pca15','pca16','pca17','pca18','pca19','pca20','pca21','pca22','pca23','pca24','pca25','pca26'])"
   ]
  },
  {
   "cell_type": "code",
   "execution_count": 84,
   "metadata": {},
   "outputs": [],
   "source": [
    "from sklearn.model_selection import train_test_split\n",
    "X_train, X_test, Y_train, Y_test= train_test_split(pca_df,Y, train_size=0.70, random_state=42,stratify=Y)"
   ]
  },
  {
   "cell_type": "code",
   "execution_count": 85,
   "metadata": {},
   "outputs": [],
   "source": [
    "from imblearn.over_sampling import SMOTE\n",
    "\n",
    "smote = SMOTE(sampling_strategy='minority')\n",
    "X_train, Y_train = smote.fit_sample(X_train.astype('float'), Y_train.astype('float'))"
   ]
  },
  {
   "cell_type": "code",
   "execution_count": 86,
   "metadata": {},
   "outputs": [],
   "source": [
    "#X_test.shape\n",
    "X_train=X_train.reshape(X_train.shape[0],X_train.shape[1], 1).astype('float32') \n",
    "X_test=X_test.values.reshape(X_test.shape[0],X_test.shape[1], 1).astype('float32')"
   ]
  },
  {
   "cell_type": "code",
   "execution_count": 87,
   "metadata": {},
   "outputs": [
    {
     "data": {
      "text/plain": [
       "(7228, 15, 1)"
      ]
     },
     "execution_count": 87,
     "metadata": {},
     "output_type": "execute_result"
    }
   ],
   "source": [
    "X_train.shape"
   ]
  },
  {
   "cell_type": "code",
   "execution_count": 99,
   "metadata": {},
   "outputs": [],
   "source": [
    "cnn = models.Sequential([\n",
    "    layers.Conv1D(filters=16, kernel_size=2, activation='relu', input_shape=(X_train[0].shape)),  \n",
    "    layers.MaxPooling1D(pool_size=2),\n",
    "    layers.BatchNormalization(),\n",
    "    layers.Dropout(0.2),\n",
    "    \n",
    "    layers.Conv1D(filters=32, kernel_size=2, activation='relu'),\n",
    "    layers.MaxPooling1D(pool_size=2),\n",
    "    layers.BatchNormalization(),\n",
    "    layers.Dropout(0.6),\n",
    "    \n",
    "    layers.Conv1D(filters=64, kernel_size=2, activation='relu'),\n",
    "    layers.MaxPooling1D(pool_size=2),\n",
    "    layers.BatchNormalization(),\n",
    "    layers.Dropout(0.5),\n",
    "    layers.Flatten(),\n",
    "\n",
    "   layers.Dense(64,kernel_regularizer='l2',activation='relu'),\n",
    "   layers.Dropout(0.5),\n",
    "   layers.Dense(1,activation='sigmoid') \n",
    "])\n",
    "\n",
    "#opt = tf.keras.optimizers.SGD(learning_rate=0.05)\n",
    "#cnn.summary()\n",
    "early_stopping = tf.keras.callbacks.EarlyStopping(monitor='loss', patience=50)\n",
    "cnn.compile(optimizer='Adam',loss='binary_crossentropy',metrics=['accuracy'])\n",
    "            #metrics=['accuracy',f_score(study, compare and put it in report about which is better metrics for your model)],learning_rate= accuracy bumpy so reduce it 0.1-0.5)\n",
    "\n"
   ]
  },
  {
   "cell_type": "code",
   "execution_count": 100,
   "metadata": {},
   "outputs": [
    {
     "name": "stdout",
     "output_type": "stream",
     "text": [
      "Train on 7228 samples, validate on 2110 samples\n",
      "Epoch 1/100\n",
      "7228/7228 [==============================] - 7s 974us/sample - loss: 1.1718 - accuracy: 0.6267 - val_loss: 0.9267 - val_accuracy: 0.7313\n",
      "Epoch 2/100\n",
      "7228/7228 [==============================] - 2s 297us/sample - loss: 0.7987 - accuracy: 0.7341 - val_loss: 0.6687 - val_accuracy: 0.8033\n",
      "Epoch 3/100\n",
      "7228/7228 [==============================] - 2s 282us/sample - loss: 0.6521 - accuracy: 0.7658 - val_loss: 0.5628 - val_accuracy: 0.8033\n",
      "Epoch 4/100\n",
      "7228/7228 [==============================] - 2s 277us/sample - loss: 0.5557 - accuracy: 0.7923 - val_loss: 0.4867 - val_accuracy: 0.8147\n",
      "Epoch 5/100\n",
      "7228/7228 [==============================] - 2s 273us/sample - loss: 0.5059 - accuracy: 0.7986 - val_loss: 0.4609 - val_accuracy: 0.8175\n",
      "Epoch 6/100\n",
      "7228/7228 [==============================] - 2s 267us/sample - loss: 0.4757 - accuracy: 0.8076 - val_loss: 0.4461 - val_accuracy: 0.8175\n",
      "Epoch 7/100\n",
      "7228/7228 [==============================] - 2s 247us/sample - loss: 0.4545 - accuracy: 0.8132 - val_loss: 0.4243 - val_accuracy: 0.8133\n",
      "Epoch 8/100\n",
      "7228/7228 [==============================] - 2s 277us/sample - loss: 0.4435 - accuracy: 0.8084 - val_loss: 0.4111 - val_accuracy: 0.8227\n",
      "Epoch 9/100\n",
      "7228/7228 [==============================] - 2s 274us/sample - loss: 0.4407 - accuracy: 0.8146 - val_loss: 0.4032 - val_accuracy: 0.8313\n",
      "Epoch 10/100\n",
      "7228/7228 [==============================] - 2s 274us/sample - loss: 0.4296 - accuracy: 0.8160 - val_loss: 0.3779 - val_accuracy: 0.8408oss: 0.4306 - accu\n",
      "Epoch 11/100\n",
      "7228/7228 [==============================] - 2s 274us/sample - loss: 0.4243 - accuracy: 0.8196 - val_loss: 0.3916 - val_accuracy: 0.8299\n",
      "Epoch 12/100\n",
      "7228/7228 [==============================] - 2s 274us/sample - loss: 0.4229 - accuracy: 0.8201 - val_loss: 0.3973 - val_accuracy: 0.8294\n",
      "Epoch 13/100\n",
      "7228/7228 [==============================] - 2s 272us/sample - loss: 0.4215 - accuracy: 0.8246 - val_loss: 0.3987 - val_accuracy: 0.8261\n",
      "Epoch 14/100\n",
      "7228/7228 [==============================] - 2s 272us/sample - loss: 0.4149 - accuracy: 0.8276 - val_loss: 0.3802 - val_accuracy: 0.8398\n",
      "Epoch 15/100\n",
      "7228/7228 [==============================] - 2s 240us/sample - loss: 0.4087 - accuracy: 0.8219 - val_loss: 0.3818 - val_accuracy: 0.8422\n",
      "Epoch 16/100\n",
      "7228/7228 [==============================] - 2s 275us/sample - loss: 0.4107 - accuracy: 0.8294 - val_loss: 0.3861 - val_accuracy: 0.8327\n",
      "Epoch 17/100\n",
      "7228/7228 [==============================] - 2s 272us/sample - loss: 0.4105 - accuracy: 0.8276 - val_loss: 0.3911 - val_accuracy: 0.8275\n",
      "Epoch 18/100\n",
      "7228/7228 [==============================] - 2s 275us/sample - loss: 0.4142 - accuracy: 0.8239 - val_loss: 0.3951 - val_accuracy: 0.8289\n",
      "Epoch 19/100\n",
      "7228/7228 [==============================] - 2s 275us/sample - loss: 0.4113 - accuracy: 0.8247 - val_loss: 0.3845 - val_accuracy: 0.8308\n",
      "Epoch 20/100\n",
      "7228/7228 [==============================] - 2s 288us/sample - loss: 0.4045 - accuracy: 0.8266 - val_loss: 0.3728 - val_accuracy: 0.8374\n",
      "Epoch 21/100\n",
      "7228/7228 [==============================] - 2s 272us/sample - loss: 0.4080 - accuracy: 0.8305 - val_loss: 0.3597 - val_accuracy: 0.8498\n",
      "Epoch 22/100\n",
      "7228/7228 [==============================] - 2s 274us/sample - loss: 0.4091 - accuracy: 0.8272 - val_loss: 0.3594 - val_accuracy: 0.8450\n",
      "Epoch 23/100\n",
      "7228/7228 [==============================] - 2s 247us/sample - loss: 0.4021 - accuracy: 0.8291 - val_loss: 0.3628 - val_accuracy: 0.8436\n",
      "Epoch 24/100\n",
      "7228/7228 [==============================] - 2s 272us/sample - loss: 0.3988 - accuracy: 0.8314 - val_loss: 0.3588 - val_accuracy: 0.8412\n",
      "Epoch 25/100\n",
      "7228/7228 [==============================] - 2s 270us/sample - loss: 0.3959 - accuracy: 0.8344 - val_loss: 0.3594 - val_accuracy: 0.8493\n",
      "Epoch 26/100\n",
      "7228/7228 [==============================] - 2s 273us/sample - loss: 0.3997 - accuracy: 0.8311 - val_loss: 0.3659 - val_accuracy: 0.8445\n",
      "Epoch 27/100\n",
      "7228/7228 [==============================] - 2s 273us/sample - loss: 0.3960 - accuracy: 0.8359 - val_loss: 0.3662 - val_accuracy: 0.8417\n",
      "Epoch 28/100\n",
      "7228/7228 [==============================] - 2s 278us/sample - loss: 0.3951 - accuracy: 0.8293 - val_loss: 0.3717 - val_accuracy: 0.8370\n",
      "Epoch 29/100\n",
      "7228/7228 [==============================] - 2s 273us/sample - loss: 0.3960 - accuracy: 0.8347 - val_loss: 0.3644 - val_accuracy: 0.8379\n",
      "Epoch 30/100\n",
      "7228/7228 [==============================] - 2s 271us/sample - loss: 0.3943 - accuracy: 0.8316 - val_loss: 0.3822 - val_accuracy: 0.8412\n",
      "Epoch 31/100\n",
      "7228/7228 [==============================] - 2s 248us/sample - loss: 0.3969 - accuracy: 0.8302 - val_loss: 0.3557 - val_accuracy: 0.8536\n",
      "Epoch 32/100\n",
      "7228/7228 [==============================] - 2s 261us/sample - loss: 0.3996 - accuracy: 0.8312 - val_loss: 0.3643 - val_accuracy: 0.8431\n",
      "Epoch 33/100\n",
      "7228/7228 [==============================] - 2s 267us/sample - loss: 0.3900 - accuracy: 0.8343 - val_loss: 0.3447 - val_accuracy: 0.8455\n",
      "Epoch 34/100\n",
      "7228/7228 [==============================] - 2s 280us/sample - loss: 0.3947 - accuracy: 0.8336 - val_loss: 0.3872 - val_accuracy: 0.8332\n",
      "Epoch 35/100\n",
      "7228/7228 [==============================] - 2s 290us/sample - loss: 0.3808 - accuracy: 0.8402 - val_loss: 0.3407 - val_accuracy: 0.8550\n",
      "Epoch 36/100\n",
      "7228/7228 [==============================] - 2s 277us/sample - loss: 0.3790 - accuracy: 0.8369 - val_loss: 0.3445 - val_accuracy: 0.8502\n",
      "Epoch 37/100\n",
      "7228/7228 [==============================] - 2s 265us/sample - loss: 0.3868 - accuracy: 0.8327 - val_loss: 0.3505 - val_accuracy: 0.8479\n",
      "Epoch 38/100\n",
      "7228/7228 [==============================] - 2s 273us/sample - loss: 0.3834 - accuracy: 0.8383 - val_loss: 0.3542 - val_accuracy: 0.8445\n",
      "Epoch 39/100\n",
      "7228/7228 [==============================] - 2s 261us/sample - loss: 0.3776 - accuracy: 0.8448 - val_loss: 0.3383 - val_accuracy: 0.8512\n",
      "Epoch 40/100\n",
      "7228/7228 [==============================] - 2s 258us/sample - loss: 0.3884 - accuracy: 0.8341 - val_loss: 0.3406 - val_accuracy: 0.8545\n",
      "Epoch 41/100\n",
      "7228/7228 [==============================] - 2s 267us/sample - loss: 0.3850 - accuracy: 0.8380 - val_loss: 0.3381 - val_accuracy: 0.8536\n",
      "Epoch 42/100\n",
      "7228/7228 [==============================] - 2s 266us/sample - loss: 0.3842 - accuracy: 0.8344 - val_loss: 0.3480 - val_accuracy: 0.8464\n",
      "Epoch 43/100\n",
      "7228/7228 [==============================] - 2s 265us/sample - loss: 0.3870 - accuracy: 0.8377 - val_loss: 0.3633 - val_accuracy: 0.8427\n",
      "Epoch 44/100\n",
      "7228/7228 [==============================] - 2s 267us/sample - loss: 0.3796 - accuracy: 0.8416 - val_loss: 0.3529 - val_accuracy: 0.8493\n",
      "Epoch 45/100\n",
      "7228/7228 [==============================] - 2s 268us/sample - loss: 0.3719 - accuracy: 0.8445 - val_loss: 0.3365 - val_accuracy: 0.8597\n",
      "Epoch 46/100\n",
      "7228/7228 [==============================] - 2s 262us/sample - loss: 0.3809 - accuracy: 0.8428 - val_loss: 0.3414 - val_accuracy: 0.8536\n",
      "Epoch 47/100\n",
      "7228/7228 [==============================] - 2s 259us/sample - loss: 0.3781 - accuracy: 0.8367 - val_loss: 0.3407 - val_accuracy: 0.8483\n",
      "Epoch 48/100\n",
      "7228/7228 [==============================] - 2s 246us/sample - loss: 0.3833 - accuracy: 0.8352 - val_loss: 0.3420 - val_accuracy: 0.8450\n",
      "Epoch 49/100\n",
      "7228/7228 [==============================] - 2s 264us/sample - loss: 0.3804 - accuracy: 0.8395 - val_loss: 0.3300 - val_accuracy: 0.8597\n",
      "Epoch 50/100\n",
      "7228/7228 [==============================] - 2s 266us/sample - loss: 0.3819 - accuracy: 0.8367 - val_loss: 0.3328 - val_accuracy: 0.8540\n",
      "Epoch 51/100\n",
      "7228/7228 [==============================] - 2s 266us/sample - loss: 0.3661 - accuracy: 0.8439 - val_loss: 0.3296 - val_accuracy: 0.8536\n",
      "Epoch 52/100\n",
      "7228/7228 [==============================] - 2s 261us/sample - loss: 0.3756 - accuracy: 0.8439 - val_loss: 0.3327 - val_accuracy: 0.8521\n",
      "Epoch 53/100\n",
      "7228/7228 [==============================] - 2s 262us/sample - loss: 0.3752 - accuracy: 0.8391 - val_loss: 0.3355 - val_accuracy: 0.8545\n",
      "Epoch 54/100\n",
      "7228/7228 [==============================] - 2s 273us/sample - loss: 0.3748 - accuracy: 0.8448 - val_loss: 0.3342 - val_accuracy: 0.8583\n",
      "Epoch 55/100\n"
     ]
    },
    {
     "name": "stdout",
     "output_type": "stream",
     "text": [
      "7228/7228 [==============================] - 2s 275us/sample - loss: 0.3723 - accuracy: 0.8419 - val_loss: 0.3439 - val_accuracy: 0.8488\n",
      "Epoch 56/100\n",
      "7228/7228 [==============================] - 2s 242us/sample - loss: 0.3712 - accuracy: 0.8449 - val_loss: 0.3299 - val_accuracy: 0.8621\n",
      "Epoch 57/100\n",
      "7228/7228 [==============================] - 2s 264us/sample - loss: 0.3770 - accuracy: 0.8413 - val_loss: 0.3281 - val_accuracy: 0.8607\n",
      "Epoch 58/100\n",
      "7228/7228 [==============================] - 2s 274us/sample - loss: 0.3713 - accuracy: 0.8427 - val_loss: 0.3347 - val_accuracy: 0.8583\n",
      "Epoch 59/100\n",
      "7228/7228 [==============================] - 2s 279us/sample - loss: 0.3809 - accuracy: 0.8354 - val_loss: 0.3225 - val_accuracy: 0.8630\n",
      "Epoch 60/100\n",
      "7228/7228 [==============================] - 2s 273us/sample - loss: 0.3670 - accuracy: 0.8460 - val_loss: 0.3538 - val_accuracy: 0.8450\n",
      "Epoch 61/100\n",
      "7228/7228 [==============================] - 2s 272us/sample - loss: 0.3765 - accuracy: 0.8380 - val_loss: 0.3271 - val_accuracy: 0.8588\n",
      "Epoch 62/100\n",
      "7228/7228 [==============================] - 2s 269us/sample - loss: 0.3723 - accuracy: 0.8435 - val_loss: 0.3311 - val_accuracy: 0.8573\n",
      "Epoch 63/100\n",
      "7228/7228 [==============================] - 2s 272us/sample - loss: 0.3695 - accuracy: 0.8432 - val_loss: 0.3354 - val_accuracy: 0.8583\n",
      "Epoch 64/100\n",
      "7228/7228 [==============================] - 2s 252us/sample - loss: 0.3709 - accuracy: 0.8395 - val_loss: 0.3400 - val_accuracy: 0.8507\n",
      "Epoch 65/100\n",
      "7228/7228 [==============================] - 2s 255us/sample - loss: 0.3842 - accuracy: 0.8385 - val_loss: 0.3482 - val_accuracy: 0.8550\n",
      "Epoch 66/100\n",
      "7228/7228 [==============================] - 2s 273us/sample - loss: 0.3681 - accuracy: 0.8457 - val_loss: 0.3144 - val_accuracy: 0.8659\n",
      "Epoch 67/100\n",
      "7228/7228 [==============================] - 2s 272us/sample - loss: 0.3684 - accuracy: 0.8430 - val_loss: 0.3258 - val_accuracy: 0.8573\n",
      "Epoch 68/100\n",
      "7228/7228 [==============================] - 2s 286us/sample - loss: 0.3626 - accuracy: 0.8471 - val_loss: 0.3318 - val_accuracy: 0.8536\n",
      "Epoch 69/100\n",
      "7228/7228 [==============================] - 2s 291us/sample - loss: 0.3676 - accuracy: 0.8455 - val_loss: 0.3123 - val_accuracy: 0.8668\n",
      "Epoch 70/100\n",
      "7228/7228 [==============================] - 2s 297us/sample - loss: 0.3650 - accuracy: 0.8441 - val_loss: 0.3184 - val_accuracy: 0.8602\n",
      "Epoch 71/100\n",
      "7228/7228 [==============================] - 2s 270us/sample - loss: 0.3720 - accuracy: 0.8464 - val_loss: 0.3284 - val_accuracy: 0.8611\n",
      "Epoch 72/100\n",
      "7228/7228 [==============================] - 2s 251us/sample - loss: 0.3680 - accuracy: 0.8473 - val_loss: 0.3224 - val_accuracy: 0.8630\n",
      "Epoch 73/100\n",
      "7228/7228 [==============================] - 2s 251us/sample - loss: 0.3636 - accuracy: 0.8453 - val_loss: 0.3397 - val_accuracy: 0.8588\n",
      "Epoch 74/100\n",
      "7228/7228 [==============================] - 2s 269us/sample - loss: 0.3687 - accuracy: 0.8452 - val_loss: 0.3408 - val_accuracy: 0.8517\n",
      "Epoch 75/100\n",
      "7228/7228 [==============================] - 2s 268us/sample - loss: 0.3709 - accuracy: 0.8466 - val_loss: 0.3381 - val_accuracy: 0.8517\n",
      "Epoch 76/100\n",
      "7228/7228 [==============================] - 2s 268us/sample - loss: 0.3704 - accuracy: 0.8432 - val_loss: 0.3356 - val_accuracy: 0.8493\n",
      "Epoch 77/100\n",
      "7228/7228 [==============================] - 2s 269us/sample - loss: 0.3635 - accuracy: 0.8471 - val_loss: 0.3392 - val_accuracy: 0.8498\n",
      "Epoch 78/100\n",
      "7228/7228 [==============================] - 2s 269us/sample - loss: 0.3724 - accuracy: 0.8401 - val_loss: 0.3176 - val_accuracy: 0.8611\n",
      "Epoch 79/100\n",
      "7228/7228 [==============================] - 2s 269us/sample - loss: 0.3728 - accuracy: 0.8427 - val_loss: 0.3129 - val_accuracy: 0.8630\n",
      "Epoch 80/100\n",
      "7228/7228 [==============================] - 2s 261us/sample - loss: 0.3595 - accuracy: 0.8498 - val_loss: 0.3280 - val_accuracy: 0.8588\n",
      "Epoch 81/100\n",
      "7228/7228 [==============================] - 2s 242us/sample - loss: 0.3640 - accuracy: 0.8449 - val_loss: 0.3311 - val_accuracy: 0.8621\n",
      "Epoch 82/100\n",
      "7228/7228 [==============================] - 2s 270us/sample - loss: 0.3625 - accuracy: 0.8432 - val_loss: 0.3150 - val_accuracy: 0.8687\n",
      "Epoch 83/100\n",
      "7228/7228 [==============================] - 2s 266us/sample - loss: 0.3758 - accuracy: 0.8413 - val_loss: 0.3168 - val_accuracy: 0.8607 - loss: 0.379\n",
      "Epoch 84/100\n",
      "7228/7228 [==============================] - 2s 269us/sample - loss: 0.3646 - accuracy: 0.8438 - val_loss: 0.3194 - val_accuracy: 0.8559\n",
      "Epoch 85/100\n",
      "7228/7228 [==============================] - 2s 265us/sample - loss: 0.3657 - accuracy: 0.8473 - val_loss: 0.3167 - val_accuracy: 0.8569\n",
      "Epoch 86/100\n",
      "7228/7228 [==============================] - 2s 243us/sample - loss: 0.3669 - accuracy: 0.8435 - val_loss: 0.3157 - val_accuracy: 0.8664\n",
      "Epoch 87/100\n",
      "7228/7228 [==============================] - 2s 225us/sample - loss: 0.3589 - accuracy: 0.8500 - val_loss: 0.3124 - val_accuracy: 0.8616\n",
      "Epoch 88/100\n",
      "7228/7228 [==============================] - 2s 265us/sample - loss: 0.3633 - accuracy: 0.8470 - val_loss: 0.3279 - val_accuracy: 0.8564\n",
      "Epoch 89/100\n",
      "7228/7228 [==============================] - 2s 259us/sample - loss: 0.3680 - accuracy: 0.8473 - val_loss: 0.3213 - val_accuracy: 0.8526\n",
      "Epoch 90/100\n",
      "7228/7228 [==============================] - 2s 260us/sample - loss: 0.3695 - accuracy: 0.8445 - val_loss: 0.3121 - val_accuracy: 0.8626\n",
      "Epoch 91/100\n",
      "7228/7228 [==============================] - 2s 271us/sample - loss: 0.3672 - accuracy: 0.8435 - val_loss: 0.3105 - val_accuracy: 0.8640\n",
      "Epoch 92/100\n",
      "7228/7228 [==============================] - 2s 272us/sample - loss: 0.3654 - accuracy: 0.8485 - val_loss: 0.3138 - val_accuracy: 0.8645\n",
      "Epoch 93/100\n",
      "7228/7228 [==============================] - 2s 273us/sample - loss: 0.3569 - accuracy: 0.8473 - val_loss: 0.3365 - val_accuracy: 0.8545\n",
      "Epoch 94/100\n",
      "7228/7228 [==============================] - 2s 271us/sample - loss: 0.3633 - accuracy: 0.8428 - val_loss: 0.3049 - val_accuracy: 0.8716\n",
      "Epoch 95/100\n",
      "7228/7228 [==============================] - 2s 270us/sample - loss: 0.3665 - accuracy: 0.8446 - val_loss: 0.3077 - val_accuracy: 0.8711\n",
      "Epoch 96/100\n",
      "7228/7228 [==============================] - 2s 282us/sample - loss: 0.3682 - accuracy: 0.8462 - val_loss: 0.3084 - val_accuracy: 0.8659\n",
      "Epoch 97/100\n",
      "7228/7228 [==============================] - 2s 261us/sample - loss: 0.3666 - accuracy: 0.8464 - val_loss: 0.3207 - val_accuracy: 0.8564\n",
      "Epoch 98/100\n",
      "7228/7228 [==============================] - 2s 253us/sample - loss: 0.3569 - accuracy: 0.8527 - val_loss: 0.3327 - val_accuracy: 0.8550\n",
      "Epoch 99/100\n",
      "7228/7228 [==============================] - 2s 274us/sample - loss: 0.3585 - accuracy: 0.8507 - val_loss: 0.3281 - val_accuracy: 0.8512\n",
      "Epoch 100/100\n",
      "7228/7228 [==============================] - 2s 267us/sample - loss: 0.3637 - accuracy: 0.8438 - val_loss: 0.2995 - val_accuracy: 0.8687\n"
     ]
    }
   ],
   "source": [
    "history = cnn.fit(X_train, Y_train, epochs=100,validation_data=(X_test,Y_test),batch_size=50,callbacks=[early_stopping])\n"
   ]
  },
  {
   "cell_type": "code",
   "execution_count": 66,
   "metadata": {},
   "outputs": [],
   "source": [
    "#from imblearn.over_sampling import SMOTE\n",
    "\n",
    "#smote = SMOTE(sampling_strategy='minority')\n",
    "#X_train, y_train = smote.fit_sample(X_train_tbc.astype('float'), y_train_tbc.astype('float'))"
   ]
  },
  {
   "cell_type": "code",
   "execution_count": 25,
   "metadata": {},
   "outputs": [],
   "source": [
    "#X_train, X_val, y_train, y_val = train_test_split(X_train,y_train,test_size=0.1,random_state=42,stratify=y_train)"
   ]
  },
  {
   "cell_type": "code",
   "execution_count": 101,
   "metadata": {},
   "outputs": [
    {
     "data": {
      "text/plain": [
       "[0.29950519153292143, 0.86872035]"
      ]
     },
     "execution_count": 101,
     "metadata": {},
     "output_type": "execute_result"
    }
   ],
   "source": [
    "cnn.evaluate(X_test,Y_test,batch_size=50, verbose=0)\n",
    "#cnn.result()\n"
   ]
  },
  {
   "cell_type": "code",
   "execution_count": 102,
   "metadata": {},
   "outputs": [
    {
     "data": {
      "image/png": "[encoded data removed]",
      "text/plain": [
       "<Figure size 432x288 with 1 Axes>"
      ]
     },
     "metadata": {
      "needs_background": "light"
     },
     "output_type": "display_data"
    }
   ],
   "source": [
    "plt.plot(history.history['accuracy'])\n",
    "plt.plot(history.history['val_accuracy'])\n",
    "plt.title('Model AUC')\n",
    "\n",
    "plt.ylabel('AUC')\n",
    "plt.xlabel('Epochs')\n",
    "plt.legend(['Train', 'Validation'], loc='upper left')\n",
    "plt.show()"
   ]
  },
  {
   "cell_type": "code",
   "execution_count": 103,
   "metadata": {},
   "outputs": [
    {
     "ename": "KeyError",
     "evalue": "'AUC'",
     "output_type": "error",
     "traceback": [
      "\u001b[1;31m---------------------------------------------------------------------------\u001b[0m",
      "\u001b[1;31mKeyError\u001b[0m                                  Traceback (most recent call last)",
      "\u001b[1;32m<ipython-input-103-213cfbd4be49>\u001b[0m in \u001b[0;36m<module>\u001b[1;34m\u001b[0m\n\u001b[1;32m----> 1\u001b[1;33m \u001b[0mplt\u001b[0m\u001b[1;33m.\u001b[0m\u001b[0mplot\u001b[0m\u001b[1;33m(\u001b[0m\u001b[0mhistory\u001b[0m\u001b[1;33m.\u001b[0m\u001b[0mhistory\u001b[0m\u001b[1;33m[\u001b[0m\u001b[1;34m'AUC'\u001b[0m\u001b[1;33m]\u001b[0m\u001b[1;33m)\u001b[0m\u001b[1;33m\u001b[0m\u001b[1;33m\u001b[0m\u001b[0m\n\u001b[0m\u001b[0;32m      2\u001b[0m \u001b[0mplt\u001b[0m\u001b[1;33m.\u001b[0m\u001b[0mplot\u001b[0m\u001b[1;33m(\u001b[0m\u001b[0mhistory\u001b[0m\u001b[1;33m.\u001b[0m\u001b[0mhistory\u001b[0m\u001b[1;33m[\u001b[0m\u001b[1;34m'val_AUC'\u001b[0m\u001b[1;33m]\u001b[0m\u001b[1;33m)\u001b[0m\u001b[1;33m\u001b[0m\u001b[1;33m\u001b[0m\u001b[0m\n\u001b[0;32m      3\u001b[0m \u001b[0mplt\u001b[0m\u001b[1;33m.\u001b[0m\u001b[0mtitle\u001b[0m\u001b[1;33m(\u001b[0m\u001b[1;34m'Model AUC'\u001b[0m\u001b[1;33m)\u001b[0m\u001b[1;33m\u001b[0m\u001b[1;33m\u001b[0m\u001b[0m\n\u001b[0;32m      4\u001b[0m \u001b[1;33m\u001b[0m\u001b[0m\n\u001b[0;32m      5\u001b[0m \u001b[0mplt\u001b[0m\u001b[1;33m.\u001b[0m\u001b[0mylabel\u001b[0m\u001b[1;33m(\u001b[0m\u001b[1;34m'AUC'\u001b[0m\u001b[1;33m)\u001b[0m\u001b[1;33m\u001b[0m\u001b[1;33m\u001b[0m\u001b[0m\n",
      "\u001b[1;31mKeyError\u001b[0m: 'AUC'"
     ]
    }
   ],
   "source": [
    "plt.plot(history.history['AUC'])\n",
    "plt.plot(history.history['val_AUC'])\n",
    "plt.title('Model AUC')\n",
    "\n",
    "plt.ylabel('AUC')\n",
    "plt.xlabel('Epochs')\n",
    "plt.legend(['Train', 'Validation'], loc='upper left')\n",
    "plt.show()"
   ]
  },
  {
   "cell_type": "code",
   "execution_count": 104,
   "metadata": {},
   "outputs": [
    {
     "data": {
      "image/png": "[encoded data removed]",
      "text/plain": [
       "<Figure size 432x288 with 1 Axes>"
      ]
     },
     "metadata": {
      "needs_background": "light"
     },
     "output_type": "display_data"
    }
   ],
   "source": [
    "plt.plot(history.history['loss'])\n",
    "plt.plot(history.history['val_loss'])\n",
    "plt.title('Model Loss')\n",
    "plt.ylabel('Loss')\n",
    "plt.xlabel('Epoch')\n",
    "plt.legend(['Train', 'Valition'], loc='upper left')\n",
    "plt.show()"
   ]
  },
  {
   "cell_type": "code",
   "execution_count": 105,
   "metadata": {},
   "outputs": [
    {
     "data": {
      "text/plain": [
       "<tf.Tensor: shape=(2, 2), dtype=int32, numpy=\n",
       "array([[1378,  171],\n",
       "       [ 106,  455]])>"
      ]
     },
     "execution_count": 105,
     "metadata": {},
     "output_type": "execute_result"
    }
   ],
   "source": [
    "#finidng prediction/probability of CNN model\n",
    "yp= cnn.predict(X_test)\n",
    "\n",
    "#y_pred = [1 if i > 0.2 else 0 for i in yp]\n",
    "y_pred = []\n",
    "for element in yp:\n",
    "    if element > 0.5:\n",
    "        y_pred.append(1)\n",
    "    else:\n",
    "        y_pred.append(0)\n",
    "tf.math.confusion_matrix(labels=Y_test,predictions=y_pred)\n"
   ]
  },
  {
   "cell_type": "code",
   "execution_count": 106,
   "metadata": {},
   "outputs": [
    {
     "name": "stdout",
     "output_type": "stream",
     "text": [
      "Classification Report: \n",
      "               precision    recall  f1-score   support\n",
      "\n",
      "           0       0.93      0.89      0.91      1549\n",
      "           1       0.73      0.81      0.77       561\n",
      "\n",
      "    accuracy                           0.87      2110\n",
      "   macro avg       0.83      0.85      0.84      2110\n",
      "weighted avg       0.87      0.87      0.87      2110\n",
      "\n"
     ]
    }
   ],
   "source": [
    "yp_pred = np.round(y_pred)\n",
    "print(\"Classification Report: \\n\", classification_report(Y_test, y_pred))\n"
   ]
  },
  {
   "cell_type": "code",
   "execution_count": 107,
   "metadata": {},
   "outputs": [
    {
     "data": {
      "image/png": "[encoded data removed]",
      "text/plain": [
       "<Figure size 432x288 with 1 Axes>"
      ]
     },
     "metadata": {
      "needs_background": "light"
     },
     "output_type": "display_data"
    }
   ],
   "source": [
    "cnn_auc = roc_auc_score(Y_test, y_pred)\n",
    "\n",
    "cnn_fpr, cnn_tpr, _ = roc_curve(Y_test, y_pred)\n",
    "\n",
    "plt.plot(cnn_fpr, cnn_tpr)\n",
    "plt.plot([0, 1], [0, 1], 'k--')  # random predictions curve\n",
    "plt.xlim([0.0, 1.0])\n",
    "plt.ylim([0.0, 1.0])\n",
    "plt.plot(cnn_fpr, cnn_tpr, linestyle='--', label='CNN prediction (AUROC = %0.3f)' % cnn_auc)\n",
    "\n",
    "plt.xlabel('False Positive Rate')\n",
    "plt.ylabel('True Positive Rate')\n",
    "plt.title('ROC Curve')\n",
    "plt.legend()\n",
    "plt.show()"
   ]
  },
  {
   "cell_type": "code",
   "execution_count": 108,
   "metadata": {},
   "outputs": [
    {
     "data": {
      "text/plain": [
       "Text(0.5, 1.0, 'PR Curve')"
      ]
     },
     "execution_count": 108,
     "metadata": {},
     "output_type": "execute_result"
    },
    {
     "data": {
      "image/png": "[encoded data removed]",
      "text/plain": [
       "<Figure size 432x288 with 1 Axes>"
      ]
     },
     "metadata": {
      "needs_background": "light"
     },
     "output_type": "display_data"
    }
   ],
   "source": [
    "precision_test, recall_test, thresholds_test = precision_recall_curve(Y_test, y_pred)\n",
    "plt.plot(recall_test, precision_test)\n",
    "plt.xlim([0.0, 1.0])\n",
    "plt.ylim([0.0, 1.0])\n",
    "plt.xlabel('Recall')\n",
    "plt.ylabel('Precision')\n",
    "plt.title('PR Curve')"
   ]
  },
  {
   "cell_type": "code",
   "execution_count": null,
   "metadata": {},
   "outputs": [],
   "source": []
  }
 ],
 "metadata": {
  "kernelspec": {
   "display_name": "Python 3",
   "language": "python",
   "name": "python3"
  },
  "language_info": {
   "codemirror_mode": {
    "name": "ipython",
    "version": 3
   },
   "file_extension": ".py",
   "mimetype": "text/x-python",
   "name": "python",
   "nbconvert_exporter": "python",
   "pygments_lexer": "ipython3",
   "version": "3.7.4"
  }
 },
 "nbformat": 4,
 "nbformat_minor": 2
}
