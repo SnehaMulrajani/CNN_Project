{
 "cells": [
  {
   "cell_type": "code",
   "execution_count": 1,
   "metadata": {},
   "outputs": [],
   "source": [
    "import pandas as pd\n",
    "from matplotlib import pyplot as plt\n",
    "%matplotlib inline\n",
    "import numpy as np\n",
    "import time\n",
    "from sklearn.preprocessing import MinMaxScaler\n",
    "import tensorflow as tf\n",
    "from tensorflow.keras import datasets, layers, models\n",
    "from sklearn.model_selection import train_test_split"
   ]
  },
  {
   "cell_type": "code",
   "execution_count": 2,
   "metadata": {},
   "outputs": [
    {
     "data": {
      "text/plain": [
       "[]"
      ]
     },
     "execution_count": 2,
     "metadata": {},
     "output_type": "execute_result"
    }
   ],
   "source": [
    "df = pd.read_csv('E:\\SnehaWork\\AIProject\\Dataset\\Customer-Churn.csv')\n",
    "df.columns[df.isnull().any()].tolist() "
   ]
  },
  {
   "cell_type": "code",
   "execution_count": 3,
   "metadata": {},
   "outputs": [
    {
     "name": "stdout",
     "output_type": "stream",
     "text": [
      "5174 1869\n"
     ]
    }
   ],
   "source": [
    "Churned = df[df.Churn == 'Yes']\n",
    "NonChurned = df[df.Churn == 'No']\n",
    "\n",
    "number_of_Churned = len(Churned)\n",
    "number_of_NonChurned = len(NonChurned)\n",
    "\n",
    "Churned_percentage = round((number_of_Churned / (number_of_Churned + number_of_NonChurned)) * 100, 2)\n",
    "valid_percentage = round((number_of_NonChurned / (number_of_Churned + number_of_NonChurned)) * 100, 2)\n",
    "print(number_of_NonChurned,number_of_Churned)\n",
    "#df.columns.tolist()"
   ]
  },
  {
   "cell_type": "code",
   "execution_count": 4,
   "metadata": {},
   "outputs": [],
   "source": [
    "#df.dtypes\n",
    "#count yes and no on base data, train and test"
   ]
  },
  {
   "cell_type": "code",
   "execution_count": 5,
   "metadata": {},
   "outputs": [],
   "source": [
    "df.drop('customerID',axis='columns',inplace=True)"
   ]
  },
  {
   "cell_type": "code",
   "execution_count": 6,
   "metadata": {},
   "outputs": [
    {
     "data": {
      "text/plain": [
       "(11, 20)"
      ]
     },
     "execution_count": 6,
     "metadata": {},
     "output_type": "execute_result"
    }
   ],
   "source": [
    "#error='coerce' ignores the errors. Conversion for all except for error values i.e. empty spaces. \n",
    "#.isnull() gives columns which have empty spaces\n",
    "#shows the data which has TotalCharges as null. Good to drop these\n",
    "df.columns[df.isnull().any()].tolist() \n",
    "df[pd.to_numeric(df.TotalCharges,errors='coerce').isnull()].shape"
   ]
  },
  {
   "cell_type": "code",
   "execution_count": 7,
   "metadata": {},
   "outputs": [],
   "source": [
    "#Drop rows with TotalCharges as null\n",
    "\n",
    "df1 = df[df.TotalCharges!=' ']"
   ]
  },
  {
   "cell_type": "code",
   "execution_count": 8,
   "metadata": {},
   "outputs": [
    {
     "name": "stderr",
     "output_type": "stream",
     "text": [
      "C:\\Users\\USER\\Anaconda3\\lib\\site-packages\\pandas\\core\\generic.py:5208: SettingWithCopyWarning: \n",
      "A value is trying to be set on a copy of a slice from a DataFrame.\n",
      "Try using .loc[row_indexer,col_indexer] = value instead\n",
      "\n",
      "See the caveats in the documentation: http://pandas.pydata.org/pandas-docs/stable/user_guide/indexing.html#returning-a-view-versus-a-copy\n",
      "  self[name] = value\n"
     ]
    }
   ],
   "source": [
    "df1.TotalCharges = pd.to_numeric(df1.TotalCharges)"
   ]
  },
  {
   "cell_type": "code",
   "execution_count": 9,
   "metadata": {},
   "outputs": [
    {
     "name": "stderr",
     "output_type": "stream",
     "text": [
      "C:\\Users\\USER\\Anaconda3\\lib\\site-packages\\pandas\\core\\frame.py:4263: SettingWithCopyWarning: \n",
      "A value is trying to be set on a copy of a slice from a DataFrame\n",
      "\n",
      "See the caveats in the documentation: http://pandas.pydata.org/pandas-docs/stable/user_guide/indexing.html#returning-a-view-versus-a-copy\n",
      "  method=method,\n"
     ]
    }
   ],
   "source": [
    "df1.replace('No internet service','No',inplace=True)\n",
    "df1.replace('No phone service','No',inplace=True)"
   ]
  },
  {
   "cell_type": "code",
   "execution_count": 10,
   "metadata": {},
   "outputs": [
    {
     "name": "stderr",
     "output_type": "stream",
     "text": [
      "C:\\Users\\USER\\Anaconda3\\lib\\site-packages\\pandas\\core\\generic.py:6786: SettingWithCopyWarning: \n",
      "A value is trying to be set on a copy of a slice from a DataFrame\n",
      "\n",
      "See the caveats in the documentation: http://pandas.pydata.org/pandas-docs/stable/user_guide/indexing.html#returning-a-view-versus-a-copy\n",
      "  self._update_inplace(new_data)\n"
     ]
    }
   ],
   "source": [
    "#replace Yes/No to 1/0 since ML doesn't understand text\n",
    "\n",
    "yes_no_columns = ['Partner','Dependents','PhoneService','MultipleLines','OnlineSecurity','OnlineBackup',\n",
    "                  'DeviceProtection','TechSupport','StreamingTV','StreamingMovies','PaperlessBilling','Churn']\n",
    "\n",
    "for col in yes_no_columns:\n",
    "    df1[col].replace({'Yes': 1,'No': 0},inplace=True)"
   ]
  },
  {
   "cell_type": "code",
   "execution_count": 11,
   "metadata": {},
   "outputs": [],
   "source": [
    "df1['gender'].replace({'Male':1,'Female':0},inplace=True)"
   ]
  },
  {
   "cell_type": "code",
   "execution_count": 12,
   "metadata": {},
   "outputs": [],
   "source": [
    "#One hot encoding for multiclass i.e. InternetService, Contract, PaymentMethod\n",
    "\n",
    "multiclass_col=['InternetService', 'Contract', 'PaymentMethod']\n",
    "df1 = pd.get_dummies(data=df1,columns=multiclass_col)"
   ]
  },
  {
   "cell_type": "code",
   "execution_count": 13,
   "metadata": {},
   "outputs": [],
   "source": [
    "#scaling the values between 1 and 0 for below\n",
    "cols_to_scale = ['tenure','MonthlyCharges','TotalCharges']\n",
    "\n",
    "#MinMaxScaler scales the data between 0 and 1\n",
    "scaler = MinMaxScaler()\n",
    "\n",
    "df1[cols_to_scale] = scaler.fit_transform(df1[cols_to_scale])"
   ]
  },
  {
   "cell_type": "code",
   "execution_count": 14,
   "metadata": {},
   "outputs": [],
   "source": [
    "def print_unique_col_values(df):\n",
    "    for column in df:\n",
    "        print(f'{column} : {df[column].unique()}')"
   ]
  },
  {
   "cell_type": "code",
   "execution_count": 15,
   "metadata": {},
   "outputs": [
    {
     "name": "stdout",
     "output_type": "stream",
     "text": [
      "gender : [0 1]\n",
      "SeniorCitizen : [0 1]\n",
      "Partner : [1 0]\n",
      "Dependents : [0 1]\n",
      "tenure : [0.         0.46478873 0.01408451 0.61971831 0.09859155 0.29577465\n",
      " 0.12676056 0.38028169 0.85915493 0.16901408 0.21126761 0.8028169\n",
      " 0.67605634 0.33802817 0.95774648 0.71830986 0.98591549 0.28169014\n",
      " 0.15492958 0.4084507  0.64788732 1.         0.22535211 0.36619718\n",
      " 0.05633803 0.63380282 0.14084507 0.97183099 0.87323944 0.5915493\n",
      " 0.1971831  0.83098592 0.23943662 0.91549296 0.11267606 0.02816901\n",
      " 0.42253521 0.69014085 0.88732394 0.77464789 0.08450704 0.57746479\n",
      " 0.47887324 0.66197183 0.3943662  0.90140845 0.52112676 0.94366197\n",
      " 0.43661972 0.76056338 0.50704225 0.49295775 0.56338028 0.07042254\n",
      " 0.04225352 0.45070423 0.92957746 0.30985915 0.78873239 0.84507042\n",
      " 0.18309859 0.26760563 0.73239437 0.54929577 0.81690141 0.32394366\n",
      " 0.6056338  0.25352113 0.74647887 0.70422535 0.35211268 0.53521127]\n",
      "PhoneService : [0 1]\n",
      "MultipleLines : [0 1]\n",
      "OnlineSecurity : [0 1]\n",
      "OnlineBackup : [1 0]\n",
      "DeviceProtection : [0 1]\n",
      "TechSupport : [0 1]\n",
      "StreamingTV : [0 1]\n",
      "StreamingMovies : [0 1]\n",
      "PaperlessBilling : [1 0]\n",
      "MonthlyCharges : [0.11542289 0.38507463 0.35422886 ... 0.44626866 0.25820896 0.60149254]\n",
      "TotalCharges : [0.0012751  0.21586661 0.01031041 ... 0.03780868 0.03321025 0.78764136]\n",
      "Churn : [0 1]\n",
      "InternetService_DSL : [1 0]\n",
      "InternetService_Fiber optic : [0 1]\n",
      "InternetService_No : [0 1]\n",
      "Contract_Month-to-month : [1 0]\n",
      "Contract_One year : [0 1]\n",
      "Contract_Two year : [0 1]\n",
      "PaymentMethod_Bank transfer (automatic) : [0 1]\n",
      "PaymentMethod_Credit card (automatic) : [0 1]\n",
      "PaymentMethod_Electronic check : [1 0]\n",
      "PaymentMethod_Mailed check : [0 1]\n"
     ]
    }
   ],
   "source": [
    "print_unique_col_values(df1)"
   ]
  },
  {
   "cell_type": "code",
   "execution_count": 16,
   "metadata": {},
   "outputs": [
    {
     "data": {
      "text/plain": [
       "0    5163\n",
       "1    1869\n",
       "Name: Churn, dtype: int64"
      ]
     },
     "execution_count": 16,
     "metadata": {},
     "output_type": "execute_result"
    }
   ],
   "source": [
    "#Drop churn \n",
    "x = df1.drop('Churn',axis=1)  #check axis=0/1\n",
    "y = df1['Churn']\n",
    "y.value_counts()"
   ]
  },
  {
   "cell_type": "code",
   "execution_count": 17,
   "metadata": {},
   "outputs": [],
   "source": [
    "from sklearn.model_selection import train_test_split\n",
    "X_train_tbc, X_test, y_train_tbc, y_test = train_test_split(x, y, test_size=0.2,random_state=42,stratify=y)"
   ]
  },
  {
   "cell_type": "code",
   "execution_count": 18,
   "metadata": {},
   "outputs": [
    {
     "data": {
      "text/plain": [
       "0    517\n",
       "1    187\n",
       "Name: Churn, dtype: int64"
      ]
     },
     "execution_count": 18,
     "metadata": {},
     "output_type": "execute_result"
    }
   ],
   "source": [
    "y_test.value_counts()"
   ]
  },
  {
   "cell_type": "code",
   "execution_count": 19,
   "metadata": {},
   "outputs": [
    {
     "name": "stderr",
     "output_type": "stream",
     "text": [
      "Using TensorFlow backend.\n"
     ]
    }
   ],
   "source": [
    "from imblearn.over_sampling import SMOTE\n",
    "\n",
    "smote = SMOTE(sampling_strategy='minority')\n",
    "X_train, y_train = smote.fit_sample(X_train_tbc.astype('float'), y_train_tbc.astype('float'))\n",
    "\n"
   ]
  },
  {
   "cell_type": "code",
   "execution_count": 18,
   "metadata": {},
   "outputs": [],
   "source": [
    "#from sklearn.model_selection import train_test_split\n",
    "#X_train, X_test, y_train, y_test = train_test_split(X_sm, y_sm, test_size=0.2, random_state=15)"
   ]
  },
  {
   "cell_type": "code",
   "execution_count": 19,
   "metadata": {},
   "outputs": [],
   "source": [
    "#X_test = pd.DataFrame(X_test, columns=x.columns)\n",
    "#X_train = pd.DataFrame(X_train_oversampled, columns=X_train.columns)\n"
   ]
  },
  {
   "cell_type": "code",
   "execution_count": 39,
   "metadata": {},
   "outputs": [],
   "source": [
    "y_train = pd.Series(y_train)\n"
   ]
  },
  {
   "cell_type": "code",
   "execution_count": 41,
   "metadata": {},
   "outputs": [
    {
     "data": {
      "text/plain": [
       "1.0    4646\n",
       "0.0    4646\n",
       "dtype: int64"
      ]
     },
     "execution_count": 41,
     "metadata": {},
     "output_type": "execute_result"
    }
   ],
   "source": [
    "y_train.value_counts()"
   ]
  },
  {
   "cell_type": "code",
   "execution_count": 20,
   "metadata": {},
   "outputs": [],
   "source": [
    "X_train, X_val, y_train, y_val = train_test_split(X_train,y_train,test_size=0.1,random_state=15,stratify=y_train)"
   ]
  },
  {
   "cell_type": "code",
   "execution_count": 21,
   "metadata": {},
   "outputs": [
    {
     "data": {
      "text/plain": [
       "26"
      ]
     },
     "execution_count": 21,
     "metadata": {},
     "output_type": "execute_result"
    }
   ],
   "source": [
    "num_of_cols = len(x.columns)\n",
    "num_of_cols"
   ]
  },
  {
   "cell_type": "code",
   "execution_count": 22,
   "metadata": {},
   "outputs": [],
   "source": [
    "X_train=X_train.reshape(X_train.shape[0],num_of_cols, 1).astype('float32') \n",
    "X_test=X_test.values.reshape(X_test.shape[0],num_of_cols, 1).astype('float32')\n",
    "X_val=X_val.reshape(X_val.shape[0],num_of_cols, 1).astype('float32')\n",
    "\n",
    "#sometimes works as X_val.values.reshape(X_val.shape[0],26, 1).astype('float32')"
   ]
  },
  {
   "cell_type": "code",
   "execution_count": 45,
   "metadata": {},
   "outputs": [
    {
     "data": {
      "text/plain": [
       "(930,)"
      ]
     },
     "execution_count": 45,
     "metadata": {},
     "output_type": "execute_result"
    }
   ],
   "source": [
    "y_val.shape\n",
    "\n"
   ]
  },
  {
   "cell_type": "code",
   "execution_count": 25,
   "metadata": {
    "scrolled": true
   },
   "outputs": [],
   "source": [
    "#X_sm_val.shape\n"
   ]
  },
  {
   "cell_type": "code",
   "execution_count": 46,
   "metadata": {},
   "outputs": [
    {
     "data": {
      "text/plain": [
       "(8362, 26, 1)"
      ]
     },
     "execution_count": 46,
     "metadata": {},
     "output_type": "execute_result"
    }
   ],
   "source": [
    "X_train.shape"
   ]
  },
  {
   "cell_type": "code",
   "execution_count": 33,
   "metadata": {},
   "outputs": [
    {
     "name": "stdout",
     "output_type": "stream",
     "text": [
      "Train on 8362 samples, validate on 930 samples\n",
      "Epoch 1/100\n",
      "8362/8362 [==============================] - 5s 577us/sample - loss: 0.9696 - accuracy: 0.5987 - val_loss: 0.8548 - val_accuracy: 0.7323\n",
      "Epoch 2/100\n",
      "8362/8362 [==============================] - 2s 201us/sample - loss: 0.7980 - accuracy: 0.6978 - val_loss: 0.6997 - val_accuracy: 0.7355\n",
      "Epoch 3/100\n",
      "8362/8362 [==============================] - 2s 197us/sample - loss: 0.6837 - accuracy: 0.7297 - val_loss: 0.6260 - val_accuracy: 0.7366\n",
      "Epoch 4/100\n",
      "8362/8362 [==============================] - 2s 219us/sample - loss: 0.6169 - accuracy: 0.7484 - val_loss: 0.5843 - val_accuracy: 0.7387\n",
      "Epoch 5/100\n",
      "8362/8362 [==============================] - 2s 227us/sample - loss: 0.5860 - accuracy: 0.7473 - val_loss: 0.5565 - val_accuracy: 0.7570\n",
      "Epoch 6/100\n",
      "8362/8362 [==============================] - 2s 225us/sample - loss: 0.5584 - accuracy: 0.7538 - val_loss: 0.5377 - val_accuracy: 0.7667\n",
      "Epoch 7/100\n",
      "8362/8362 [==============================] - 2s 222us/sample - loss: 0.5376 - accuracy: 0.7645 - val_loss: 0.5255 - val_accuracy: 0.7559\n",
      "Epoch 8/100\n",
      "8362/8362 [==============================] - 2s 215us/sample - loss: 0.5260 - accuracy: 0.7656 - val_loss: 0.5168 - val_accuracy: 0.7538\n",
      "Epoch 9/100\n",
      "8362/8362 [==============================] - 2s 212us/sample - loss: 0.5208 - accuracy: 0.7568 - val_loss: 0.5106 - val_accuracy: 0.7667\n",
      "Epoch 10/100\n",
      "8362/8362 [==============================] - 2s 212us/sample - loss: 0.5150 - accuracy: 0.7680 - val_loss: 0.5040 - val_accuracy: 0.7753\n",
      "Epoch 11/100\n",
      "8362/8362 [==============================] - 2s 197us/sample - loss: 0.5125 - accuracy: 0.7672 - val_loss: 0.5024 - val_accuracy: 0.7624\n",
      "Epoch 12/100\n",
      "8362/8362 [==============================] - 2s 207us/sample - loss: 0.5028 - accuracy: 0.7667 - val_loss: 0.4977 - val_accuracy: 0.7613\n",
      "Epoch 13/100\n",
      "8362/8362 [==============================] - 2s 213us/sample - loss: 0.5020 - accuracy: 0.7674 - val_loss: 0.4953 - val_accuracy: 0.7656\n",
      "Epoch 14/100\n",
      "8362/8362 [==============================] - 2s 218us/sample - loss: 0.5028 - accuracy: 0.7690 - val_loss: 0.4953 - val_accuracy: 0.7688\n",
      "Epoch 15/100\n",
      "8362/8362 [==============================] - 2s 210us/sample - loss: 0.4979 - accuracy: 0.7698 - val_loss: 0.4932 - val_accuracy: 0.7731\n",
      "Epoch 16/100\n",
      "8362/8362 [==============================] - 2s 220us/sample - loss: 0.4984 - accuracy: 0.7703 - val_loss: 0.4910 - val_accuracy: 0.7699\n",
      "Epoch 17/100\n",
      "8362/8362 [==============================] - 2s 214us/sample - loss: 0.4951 - accuracy: 0.7740 - val_loss: 0.4888 - val_accuracy: 0.7688\n",
      "Epoch 18/100\n",
      "8362/8362 [==============================] - 2s 213us/sample - loss: 0.4902 - accuracy: 0.7711 - val_loss: 0.4860 - val_accuracy: 0.7645\n",
      "Epoch 19/100\n",
      "8362/8362 [==============================] - 2s 217us/sample - loss: 0.4975 - accuracy: 0.7676 - val_loss: 0.4852 - val_accuracy: 0.7699\n",
      "Epoch 20/100\n",
      "8362/8362 [==============================] - 2s 189us/sample - loss: 0.4893 - accuracy: 0.7699 - val_loss: 0.4845 - val_accuracy: 0.7828\n",
      "Epoch 21/100\n",
      "8362/8362 [==============================] - 2s 206us/sample - loss: 0.4870 - accuracy: 0.7749 - val_loss: 0.4826 - val_accuracy: 0.7677\n",
      "Epoch 22/100\n",
      "8362/8362 [==============================] - 2s 213us/sample - loss: 0.4869 - accuracy: 0.7716 - val_loss: 0.4813 - val_accuracy: 0.7785\n",
      "Epoch 23/100\n",
      "8362/8362 [==============================] - 2s 217us/sample - loss: 0.4858 - accuracy: 0.7712 - val_loss: 0.4802 - val_accuracy: 0.7796\n",
      "Epoch 24/100\n",
      "8362/8362 [==============================] - 2s 212us/sample - loss: 0.4820 - accuracy: 0.7753 - val_loss: 0.4801 - val_accuracy: 0.7731\n",
      "Epoch 25/100\n",
      "8362/8362 [==============================] - 2s 214us/sample - loss: 0.4829 - accuracy: 0.7768 - val_loss: 0.4779 - val_accuracy: 0.7677\n",
      "Epoch 26/100\n",
      "8362/8362 [==============================] - 2s 212us/sample - loss: 0.4827 - accuracy: 0.7779 - val_loss: 0.4769 - val_accuracy: 0.7849\n",
      "Epoch 27/100\n",
      "8362/8362 [==============================] - 2s 213us/sample - loss: 0.4809 - accuracy: 0.7748 - val_loss: 0.4764 - val_accuracy: 0.7796\n",
      "Epoch 28/100\n",
      "8362/8362 [==============================] - 2s 209us/sample - loss: 0.4813 - accuracy: 0.7762 - val_loss: 0.4767 - val_accuracy: 0.7688\n",
      "Epoch 29/100\n",
      "8362/8362 [==============================] - 2s 195us/sample - loss: 0.4802 - accuracy: 0.7785 - val_loss: 0.4759 - val_accuracy: 0.7828\n",
      "Epoch 30/100\n",
      "8362/8362 [==============================] - 2s 197us/sample - loss: 0.4794 - accuracy: 0.7777 - val_loss: 0.4743 - val_accuracy: 0.7796\n",
      "Epoch 31/100\n",
      "8362/8362 [==============================] - 2s 217us/sample - loss: 0.4760 - accuracy: 0.7804 - val_loss: 0.4727 - val_accuracy: 0.7839\n",
      "Epoch 32/100\n",
      "8362/8362 [==============================] - 2s 222us/sample - loss: 0.4754 - accuracy: 0.7826 - val_loss: 0.4724 - val_accuracy: 0.7742\n",
      "Epoch 33/100\n",
      "8362/8362 [==============================] - 2s 212us/sample - loss: 0.4749 - accuracy: 0.7796 - val_loss: 0.4750 - val_accuracy: 0.7860\n",
      "Epoch 34/100\n",
      "8362/8362 [==============================] - 2s 213us/sample - loss: 0.4735 - accuracy: 0.7833 - val_loss: 0.4712 - val_accuracy: 0.7839\n",
      "Epoch 35/100\n",
      "8362/8362 [==============================] - 2s 211us/sample - loss: 0.4745 - accuracy: 0.7818 - val_loss: 0.4680 - val_accuracy: 0.7806\n",
      "Epoch 36/100\n",
      "8362/8362 [==============================] - 2s 210us/sample - loss: 0.4758 - accuracy: 0.7812 - val_loss: 0.4697 - val_accuracy: 0.7860\n",
      "Epoch 37/100\n",
      "8362/8362 [==============================] - 2s 213us/sample - loss: 0.4753 - accuracy: 0.7825 - val_loss: 0.4690 - val_accuracy: 0.7753\n",
      "Epoch 38/100\n",
      "8362/8362 [==============================] - 2s 196us/sample - loss: 0.4702 - accuracy: 0.7832 - val_loss: 0.4687 - val_accuracy: 0.7871\n",
      "Epoch 39/100\n",
      "8362/8362 [==============================] - 2s 200us/sample - loss: 0.4741 - accuracy: 0.7758 - val_loss: 0.4697 - val_accuracy: 0.7785\n",
      "Epoch 40/100\n",
      "8362/8362 [==============================] - 2s 209us/sample - loss: 0.4722 - accuracy: 0.7834 - val_loss: 0.4662 - val_accuracy: 0.7785\n",
      "Epoch 41/100\n",
      "8362/8362 [==============================] - 2s 207us/sample - loss: 0.4696 - accuracy: 0.7802 - val_loss: 0.4647 - val_accuracy: 0.7796\n",
      "Epoch 42/100\n",
      "8362/8362 [==============================] - 2s 228us/sample - loss: 0.4695 - accuracy: 0.7820 - val_loss: 0.4631 - val_accuracy: 0.7882\n",
      "Epoch 43/100\n",
      "8362/8362 [==============================] - 2s 218us/sample - loss: 0.4714 - accuracy: 0.7814 - val_loss: 0.4660 - val_accuracy: 0.7839\n",
      "Epoch 44/100\n",
      "8362/8362 [==============================] - 2s 218us/sample - loss: 0.4661 - accuracy: 0.7823 - val_loss: 0.4653 - val_accuracy: 0.7774\n",
      "Epoch 45/100\n",
      "8362/8362 [==============================] - 2s 213us/sample - loss: 0.4711 - accuracy: 0.7852 - val_loss: 0.4633 - val_accuracy: 0.7892\n",
      "Epoch 46/100\n",
      "8362/8362 [==============================] - 2s 212us/sample - loss: 0.4678 - accuracy: 0.7846 - val_loss: 0.4637 - val_accuracy: 0.7914\n",
      "Epoch 47/100\n",
      "8362/8362 [==============================] - 2s 195us/sample - loss: 0.4692 - accuracy: 0.7779 - val_loss: 0.4611 - val_accuracy: 0.7925\n",
      "Epoch 48/100\n",
      "8362/8362 [==============================] - 2s 188us/sample - loss: 0.4656 - accuracy: 0.7864 - val_loss: 0.4617 - val_accuracy: 0.7903\n",
      "Epoch 49/100\n",
      "8362/8362 [==============================] - 2s 210us/sample - loss: 0.4687 - accuracy: 0.7838 - val_loss: 0.4603 - val_accuracy: 0.7946\n",
      "Epoch 50/100\n",
      "8362/8362 [==============================] - 2s 211us/sample - loss: 0.4670 - accuracy: 0.7801 - val_loss: 0.4585 - val_accuracy: 0.7968\n",
      "Epoch 51/100\n",
      "8362/8362 [==============================] - 2s 211us/sample - loss: 0.4639 - accuracy: 0.7853 - val_loss: 0.4593 - val_accuracy: 0.7914\n",
      "Epoch 52/100\n",
      "8362/8362 [==============================] - 2s 211us/sample - loss: 0.4657 - accuracy: 0.7853 - val_loss: 0.4587 - val_accuracy: 0.7892\n",
      "Epoch 53/100\n",
      "8362/8362 [==============================] - 2s 202us/sample - loss: 0.4641 - accuracy: 0.7878 - val_loss: 0.4568 - val_accuracy: 0.7968\n",
      "Epoch 54/100\n",
      "8362/8362 [==============================] - 2s 186us/sample - loss: 0.4637 - accuracy: 0.7874 - val_loss: 0.4579 - val_accuracy: 0.7925\n",
      "Epoch 55/100\n",
      "8362/8362 [==============================] - 2s 211us/sample - loss: 0.4629 - accuracy: 0.7861 - val_loss: 0.4573 - val_accuracy: 0.7871\n",
      "Epoch 56/100\n",
      "8362/8362 [==============================] - 2s 215us/sample - loss: 0.4621 - accuracy: 0.7881 - val_loss: 0.4576 - val_accuracy: 0.7796\n",
      "Epoch 57/100\n",
      "8362/8362 [==============================] - 2s 196us/sample - loss: 0.4595 - accuracy: 0.7912 - val_loss: 0.4541 - val_accuracy: 0.7935\n",
      "Epoch 58/100\n",
      "8362/8362 [==============================] - 2s 226us/sample - loss: 0.4601 - accuracy: 0.7889 - val_loss: 0.4587 - val_accuracy: 0.7699\n",
      "Epoch 59/100\n",
      "8362/8362 [==============================] - 2s 225us/sample - loss: 0.4595 - accuracy: 0.7874 - val_loss: 0.4558 - val_accuracy: 0.7871\n",
      "Epoch 60/100\n",
      "8362/8362 [==============================] - 2s 224us/sample - loss: 0.4593 - accuracy: 0.7888 - val_loss: 0.4527 - val_accuracy: 0.7957\n",
      "Epoch 61/100\n",
      "8362/8362 [==============================] - 2s 225us/sample - loss: 0.4607 - accuracy: 0.7871 - val_loss: 0.4548 - val_accuracy: 0.7957\n",
      "Epoch 62/100\n",
      "8362/8362 [==============================] - 2s 225us/sample - loss: 0.4592 - accuracy: 0.7904 - val_loss: 0.4550 - val_accuracy: 0.7978\n",
      "Epoch 63/100\n",
      "8362/8362 [==============================] - 2s 224us/sample - loss: 0.4574 - accuracy: 0.7890 - val_loss: 0.4516 - val_accuracy: 0.7871\n",
      "Epoch 64/100\n",
      "8362/8362 [==============================] - 2s 226us/sample - loss: 0.4597 - accuracy: 0.7919 - val_loss: 0.4512 - val_accuracy: 0.7968\n",
      "Epoch 65/100\n",
      "8362/8362 [==============================] - 2s 204us/sample - loss: 0.4533 - accuracy: 0.7930 - val_loss: 0.4491 - val_accuracy: 0.7968\n",
      "Epoch 66/100\n",
      "8362/8362 [==============================] - 2s 195us/sample - loss: 0.4517 - accuracy: 0.7918 - val_loss: 0.4488 - val_accuracy: 0.7989\n",
      "Epoch 67/100\n",
      "8362/8362 [==============================] - 2s 225us/sample - loss: 0.4523 - accuracy: 0.7913 - val_loss: 0.4462 - val_accuracy: 0.7914\n",
      "Epoch 68/100\n",
      "8362/8362 [==============================] - 2s 224us/sample - loss: 0.4521 - accuracy: 0.7947 - val_loss: 0.4478 - val_accuracy: 0.8022\n",
      "Epoch 69/100\n",
      "8362/8362 [==============================] - 2s 225us/sample - loss: 0.4565 - accuracy: 0.7924 - val_loss: 0.4452 - val_accuracy: 0.7935\n",
      "Epoch 70/100\n",
      "8362/8362 [==============================] - 2s 222us/sample - loss: 0.4517 - accuracy: 0.7980 - val_loss: 0.4451 - val_accuracy: 0.7978\n",
      "Epoch 71/100\n",
      "8362/8362 [==============================] - 2s 223us/sample - loss: 0.4528 - accuracy: 0.7983 - val_loss: 0.4502 - val_accuracy: 0.7957\n",
      "Epoch 72/100\n",
      "8362/8362 [==============================] - 2s 223us/sample - loss: 0.4554 - accuracy: 0.7914 - val_loss: 0.4448 - val_accuracy: 0.7989\n",
      "Epoch 73/100\n",
      "8362/8362 [==============================] - 2s 224us/sample - loss: 0.4528 - accuracy: 0.7914 - val_loss: 0.4485 - val_accuracy: 0.8000\n",
      "Epoch 74/100\n",
      "8362/8362 [==============================] - 2s 194us/sample - loss: 0.4485 - accuracy: 0.7948 - val_loss: 0.4459 - val_accuracy: 0.8022\n",
      "Epoch 75/100\n",
      "8362/8362 [==============================] - 2s 212us/sample - loss: 0.4495 - accuracy: 0.7997 - val_loss: 0.4451 - val_accuracy: 0.8011\n",
      "Epoch 76/100\n",
      "8362/8362 [==============================] - 2s 225us/sample - loss: 0.4501 - accuracy: 0.7956 - val_loss: 0.4433 - val_accuracy: 0.7882\n",
      "Epoch 77/100\n",
      "8362/8362 [==============================] - 2s 221us/sample - loss: 0.4516 - accuracy: 0.7974 - val_loss: 0.4424 - val_accuracy: 0.7925\n",
      "Epoch 78/100\n",
      "8362/8362 [==============================] - 2s 240us/sample - loss: 0.4480 - accuracy: 0.7975 - val_loss: 0.4416 - val_accuracy: 0.7957\n",
      "Epoch 79/100\n",
      "8362/8362 [==============================] - 2s 240us/sample - loss: 0.4482 - accuracy: 0.7972 - val_loss: 0.4410 - val_accuracy: 0.8022\n",
      "Epoch 80/100\n",
      "8362/8362 [==============================] - 2s 254us/sample - loss: 0.4470 - accuracy: 0.8018 - val_loss: 0.4397 - val_accuracy: 0.8054\n",
      "Epoch 81/100\n",
      "8362/8362 [==============================] - 2s 219us/sample - loss: 0.4456 - accuracy: 0.7999 - val_loss: 0.4397 - val_accuracy: 0.8022\n",
      "Epoch 82/100\n",
      "8362/8362 [==============================] - 2s 212us/sample - loss: 0.4456 - accuracy: 0.7999 - val_loss: 0.4373 - val_accuracy: 0.8043\n",
      "Epoch 83/100\n",
      "8362/8362 [==============================] - 2s 189us/sample - loss: 0.4462 - accuracy: 0.7966 - val_loss: 0.4384 - val_accuracy: 0.8043\n",
      "Epoch 84/100\n",
      "8362/8362 [==============================] - 2s 209us/sample - loss: 0.4404 - accuracy: 0.7994 - val_loss: 0.4332 - val_accuracy: 0.8108\n",
      "Epoch 85/100\n",
      "8362/8362 [==============================] - 2s 209us/sample - loss: 0.4476 - accuracy: 0.7999 - val_loss: 0.4359 - val_accuracy: 0.8075\n",
      "Epoch 86/100\n",
      "8362/8362 [==============================] - 2s 209us/sample - loss: 0.4447 - accuracy: 0.7993 - val_loss: 0.4359 - val_accuracy: 0.8075\n",
      "Epoch 87/100\n",
      "8362/8362 [==============================] - 2s 220us/sample - loss: 0.4391 - accuracy: 0.8047 - val_loss: 0.4347 - val_accuracy: 0.7903\n",
      "Epoch 88/100\n",
      "8362/8362 [==============================] - 2s 222us/sample - loss: 0.4422 - accuracy: 0.8005 - val_loss: 0.4329 - val_accuracy: 0.8054\n",
      "Epoch 89/100\n",
      "8362/8362 [==============================] - 2s 213us/sample - loss: 0.4460 - accuracy: 0.7989 - val_loss: 0.4338 - val_accuracy: 0.7946\n",
      "Epoch 90/100\n",
      "8362/8362 [==============================] - 2s 223us/sample - loss: 0.4377 - accuracy: 0.8066 - val_loss: 0.4290 - val_accuracy: 0.8043\n",
      "Epoch 91/100\n",
      "8362/8362 [==============================] - 2s 213us/sample - loss: 0.4389 - accuracy: 0.8046 - val_loss: 0.4318 - val_accuracy: 0.8032\n",
      "Epoch 92/100\n",
      "8362/8362 [==============================] - 2s 205us/sample - loss: 0.4371 - accuracy: 0.8015 - val_loss: 0.4310 - val_accuracy: 0.8075\n",
      "Epoch 93/100\n",
      "8362/8362 [==============================] - 2s 220us/sample - loss: 0.4395 - accuracy: 0.8021 - val_loss: 0.4295 - val_accuracy: 0.8011\n",
      "Epoch 94/100\n",
      "8362/8362 [==============================] - 2s 222us/sample - loss: 0.4370 - accuracy: 0.8069 - val_loss: 0.4251 - val_accuracy: 0.8086\n",
      "Epoch 95/100\n",
      "8362/8362 [==============================] - 2s 220us/sample - loss: 0.4356 - accuracy: 0.8069 - val_loss: 0.4265 - val_accuracy: 0.8075\n",
      "Epoch 96/100\n",
      "8362/8362 [==============================] - 2s 221us/sample - loss: 0.4360 - accuracy: 0.8034 - val_loss: 0.4420 - val_accuracy: 0.7957\n",
      "Epoch 97/100\n",
      "8362/8362 [==============================] - 2s 222us/sample - loss: 0.4322 - accuracy: 0.8069 - val_loss: 0.4275 - val_accuracy: 0.7935\n",
      "Epoch 98/100\n",
      "8362/8362 [==============================] - 2s 220us/sample - loss: 0.4385 - accuracy: 0.8024 - val_loss: 0.4286 - val_accuracy: 0.7914\n",
      "Epoch 99/100\n",
      "8362/8362 [==============================] - 2s 219us/sample - loss: 0.4354 - accuracy: 0.8084 - val_loss: 0.4261 - val_accuracy: 0.8075\n",
      "Epoch 100/100\n",
      "8362/8362 [==============================] - 2s 200us/sample - loss: 0.4361 - accuracy: 0.8051 - val_loss: 0.4246 - val_accuracy: 0.8032\n"
     ]
    }
   ],
   "source": [
    "from keras.layers import SpatialDropout1D\n",
    "\n",
    "cnn = models.Sequential([\n",
    "    layers.Conv1D(filters=128, kernel_size=3, activation='relu', input_shape=(26,1)),  \n",
    "    layers.MaxPooling1D(pool_size=3),\n",
    "    \n",
    "    layers.Conv1D(filters=128, kernel_size=3, activation='relu'),\n",
    "    layers.SpatialDropout1D(0.5),\n",
    "    layers.MaxPooling1D(pool_size=3),\n",
    "    layers.Dropout(0.5),\n",
    "    layers.Flatten(),\n",
    "    layers.Dense(20, activation='relu',kernel_regularizer='l2'), #krelu ?\n",
    "    layers.Dense(1, activation='sigmoid')\n",
    "])\n",
    "\n",
    "#cnn.summary()\n",
    "\n",
    "cnn.compile(optimizer='Adam',loss='binary_crossentropy',metrics=['accuracy',f_score(study, compare and put it in report about which is better metrics for your model)],learning_rate= accuracy bumpy so reduce it 0.1-0.5)\n",
    "\n",
    "history = cnn.fit(X_train, y_train, epochs=200 or more,validation_data=(X_val,y_val),batch_size=40 to 60)\n",
    "#The default interpretation of the dropout hyperparameter is the probability of training a given node in a layer, where 1.0 means no dropout, and 0.0 means no outputs from the layer.\n",
    "\n",
    "#A good value for dropout in a hidden layer is between 0.5 and 0.8. Input layers use a larger dropout rate, such as of 0.8."
   ]
  },
  {
   "cell_type": "code",
   "execution_count": 34,
   "metadata": {},
   "outputs": [
    {
     "name": "stdout",
     "output_type": "stream",
     "text": [
      "704/704 [==============================] - 0s 689us/sample - loss: 0.5462 - accuracy: 0.7088\n"
     ]
    },
    {
     "data": {
      "text/plain": [
       "[0.5462446497245268, 0.7088068]"
      ]
     },
     "execution_count": 34,
     "metadata": {},
     "output_type": "execute_result"
    }
   ],
   "source": [
    "cnn.evaluate(X_test,y_test)"
   ]
  },
  {
   "cell_type": "code",
   "execution_count": 35,
   "metadata": {},
   "outputs": [
    {
     "data": {
      "image/png": "[encoded data removed]",
      "text/plain": [
       "<Figure size 432x288 with 1 Axes>"
      ]
     },
     "metadata": {
      "needs_background": "light"
     },
     "output_type": "display_data"
    }
   ],
   "source": [
    "plt.plot(history.history['accuracy'])\n",
    "plt.plot(history.history['val_accuracy'])\n",
    "plt.title('Model Accuracy')\n",
    "plt.ylabel('Accuracy')\n",
    "plt.xlabel('Epochs')\n",
    "plt.legend(['Train', 'Validation'], loc='upper left')\n",
    "plt.show()"
   ]
  },
  {
   "cell_type": "code",
   "execution_count": 36,
   "metadata": {},
   "outputs": [
    {
     "data": {
      "image/png": "[encoded data removed]",
      "text/plain": [
       "<Figure size 432x288 with 1 Axes>"
      ]
     },
     "metadata": {
      "needs_background": "light"
     },
     "output_type": "display_data"
    }
   ],
   "source": [
    "plt.plot(history.history['loss'])\n",
    "plt.plot(history.history['val_loss'])\n",
    "plt.title('Model Loss')\n",
    "plt.ylabel('Loss')\n",
    "plt.xlabel('Epoch')\n",
    "plt.legend(['Train', 'Valition'], loc='upper left')\n",
    "plt.show()"
   ]
  },
  {
   "cell_type": "code",
   "execution_count": 37,
   "metadata": {},
   "outputs": [],
   "source": [
    "yp= cnn.predict(X_test)\n",
    "\n",
    "y_pred = []\n",
    "for element in yp:\n",
    "    if element > 0.4:\n",
    "        y_pred.append(1)\n",
    "    else:\n",
    "        y_pred.append(0)\n"
   ]
  },
  {
   "cell_type": "code",
   "execution_count": 38,
   "metadata": {},
   "outputs": [
    {
     "name": "stdout",
     "output_type": "stream",
     "text": [
      "Classification Report: \n",
      "               precision    recall  f1-score   support\n",
      "\n",
      "         0.0       0.85      0.74      0.79       465\n",
      "         1.0       0.77      0.86      0.81       465\n",
      "\n",
      "    accuracy                           0.80       930\n",
      "   macro avg       0.81      0.80      0.80       930\n",
      "weighted avg       0.81      0.80      0.80       930\n",
      "\n"
     ]
    }
   ],
   "source": [
    "from sklearn.metrics import confusion_matrix , classification_report\n",
    "yp_pred= cnn.predict(X_val)\n",
    "yp_pred = np.round(yp_pred)\n",
    "print(\"Classification Report: \\n\", classification_report(y_val, yp_pred))\n"
   ]
  },
  {
   "cell_type": "code",
   "execution_count": 39,
   "metadata": {},
   "outputs": [
    {
     "name": "stdout",
     "output_type": "stream",
     "text": [
      "Classification Report: \n",
      "               precision    recall  f1-score   support\n",
      "\n",
      "           0       0.88      0.69      0.78       517\n",
      "           1       0.47      0.75      0.58       187\n",
      "\n",
      "    accuracy                           0.71       704\n",
      "   macro avg       0.68      0.72      0.68       704\n",
      "weighted avg       0.77      0.71      0.72       704\n",
      "\n"
     ]
    }
   ],
   "source": [
    "from sklearn.metrics import confusion_matrix , classification_report\n",
    "yp_pred= cnn.predict(X_test)\n",
    "yp_pred = np.round(yp_pred)\n",
    "print(\"Classification Report: \\n\", classification_report(y_test, yp_pred))\n"
   ]
  },
  {
   "cell_type": "code",
   "execution_count": 53,
   "metadata": {},
   "outputs": [
    {
     "data": {
      "text/plain": [
       "<tf.Tensor: shape=(2, 2), dtype=int32, numpy=\n",
       "array([[422,  95],\n",
       "       [ 70, 117]])>"
      ]
     },
     "execution_count": 53,
     "metadata": {},
     "output_type": "execute_result"
    }
   ],
   "source": [
    "tf.math.confusion_matrix(labels=y_test,predictions=yp_pred)\n"
   ]
  },
  {
   "cell_type": "code",
   "execution_count": 25,
   "metadata": {},
   "outputs": [
    {
     "name": "stdout",
     "output_type": "stream",
     "text": [
      "704/704 [==============================] - 1s 808us/sample - loss: 0.5138 - accuracy: 0.7344\n"
     ]
    },
    {
     "data": {
      "text/plain": [
       "[0.5137553174387325, 0.734375]"
      ]
     },
     "execution_count": 25,
     "metadata": {},
     "output_type": "execute_result"
    }
   ],
   "source": [
    "cnn.evaluate(X_test,y_test)"
   ]
  },
  {
   "cell_type": "code",
   "execution_count": 26,
   "metadata": {},
   "outputs": [
    {
     "data": {
      "image/png": "[encoded data removed]",
      "text/plain": [
       "<Figure size 432x288 with 1 Axes>"
      ]
     },
     "metadata": {
      "needs_background": "light"
     },
     "output_type": "display_data"
    }
   ],
   "source": [
    "plt.plot(history.history['loss'])\n",
    "plt.plot(history.history['val_loss'])\n",
    "plt.title('Model Loss')\n",
    "plt.ylabel('Loss')\n",
    "plt.xlabel('Epoch')\n",
    "plt.legend(['Train', 'Valition'], loc='upper left')\n",
    "plt.show()"
   ]
  },
  {
   "cell_type": "code",
   "execution_count": 27,
   "metadata": {},
   "outputs": [
    {
     "data": {
      "image/png": "[encoded data removed]",
      "text/plain": [
       "<Figure size 432x288 with 1 Axes>"
      ]
     },
     "metadata": {
      "needs_background": "light"
     },
     "output_type": "display_data"
    }
   ],
   "source": [
    "plt.plot(history.history['accuracy'])\n",
    "plt.plot(history.history['val_accuracy'])\n",
    "plt.title('Model Accuracy')\n",
    "plt.ylabel('Accuracy')\n",
    "plt.xlabel('Epochs')\n",
    "plt.legend(['Train', 'Validation'], loc='upper left')\n",
    "plt.show()"
   ]
  },
  {
   "cell_type": "code",
   "execution_count": 73,
   "metadata": {},
   "outputs": [
    {
     "name": "stdout",
     "output_type": "stream",
     "text": [
      "Classification Report: \n",
      "               precision    recall  f1-score   support\n",
      "\n",
      "         0.0       0.85      0.76      0.81       517\n",
      "         1.0       0.79      0.87      0.83       517\n",
      "\n",
      "    accuracy                           0.82      1034\n",
      "   macro avg       0.82      0.82      0.82      1034\n",
      "weighted avg       0.82      0.82      0.82      1034\n",
      "\n"
     ]
    }
   ],
   "source": [
    "from sklearn.metrics import confusion_matrix , classification_report\n",
    "yp_pred= cnn.predict(X_test)\n",
    "yp_pred = np.round(yp_pred)\n",
    "print(\"Classification Report: \\n\", classification_report(y_test, yp_pred))\n"
   ]
  },
  {
   "cell_type": "code",
   "execution_count": 64,
   "metadata": {},
   "outputs": [],
   "source": [
    "from imblearn.over_sampling import SMOTE\n",
    "\n",
    "smote = SMOTE(sampling_strategy='minority')\n",
    "X_test, y_test = smote.fit_sample(X_test.astype('float'), y_test.astype('float'))\n",
    "\n"
   ]
  },
  {
   "cell_type": "code",
   "execution_count": 67,
   "metadata": {},
   "outputs": [],
   "source": [
    "X_test=X_test.reshape(X_test.shape[0],num_of_cols,1).astype('float32')\n"
   ]
  },
  {
   "cell_type": "code",
   "execution_count": null,
   "metadata": {},
   "outputs": [],
   "source": []
  }
 ],
 "metadata": {
  "kernelspec": {
   "display_name": "Python 3",
   "language": "python",
   "name": "python3"
  },
  "language_info": {
   "codemirror_mode": {
    "name": "ipython",
    "version": 3
   },
   "file_extension": ".py",
   "mimetype": "text/x-python",
   "name": "python",
   "nbconvert_exporter": "python",
   "pygments_lexer": "ipython3",
   "version": "3.7.4"
  }
 },
 "nbformat": 4,
 "nbformat_minor": 2
}
