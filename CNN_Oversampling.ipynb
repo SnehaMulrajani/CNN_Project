{
 "cells": [
  {
   "cell_type": "code",
   "execution_count": 65,
   "metadata": {},
   "outputs": [],
   "source": [
    "import pandas as pd\n",
    "from matplotlib import pyplot as plt\n",
    "%matplotlib inline\n",
    "import numpy as np\n",
    "import time\n",
    "from sklearn.preprocessing import MinMaxScaler\n",
    "import tensorflow as tf\n",
    "from tensorflow.keras import datasets, layers, models\n",
    "from sklearn.model_selection import train_test_split"
   ]
  },
  {
   "cell_type": "code",
   "execution_count": 159,
   "metadata": {},
   "outputs": [
    {
     "data": {
      "text/plain": [
       "[]"
      ]
     },
     "execution_count": 159,
     "metadata": {},
     "output_type": "execute_result"
    }
   ],
   "source": [
    "df = pd.read_csv('E:\\SnehaWork\\AIProject\\Dataset\\Customer-Churn.csv')\n",
    "df.columns[df.isna().any()].tolist() "
   ]
  },
  {
   "cell_type": "code",
   "execution_count": 67,
   "metadata": {},
   "outputs": [
    {
     "name": "stdout",
     "output_type": "stream",
     "text": [
      "5174 1869\n"
     ]
    }
   ],
   "source": [
    "Churned = df[df.Churn == 'Yes']\n",
    "NonChurned = df[df.Churn == 'No']\n",
    "\n",
    "number_of_Churned = len(Churned)\n",
    "number_of_NonChurned = len(NonChurned)\n",
    "\n",
    "Churned_percentage = round((number_of_Churned / (number_of_Churned + number_of_NonChurned)) * 100, 2)\n",
    "valid_percentage = round((number_of_NonChurned / (number_of_Churned + number_of_NonChurned)) * 100, 2)\n",
    "print(number_of_NonChurned,number_of_Churned)\n",
    "#df.columns.tolist()"
   ]
  },
  {
   "cell_type": "code",
   "execution_count": 63,
   "metadata": {},
   "outputs": [],
   "source": [
    "#df.dtypes\n",
    "#count yes and no on base data, train and test"
   ]
  },
  {
   "cell_type": "code",
   "execution_count": 69,
   "metadata": {},
   "outputs": [],
   "source": [
    "df.drop('customerID',axis='columns',inplace=True)"
   ]
  },
  {
   "cell_type": "code",
   "execution_count": 70,
   "metadata": {},
   "outputs": [
    {
     "data": {
      "text/plain": [
       "(11, 20)"
      ]
     },
     "execution_count": 70,
     "metadata": {},
     "output_type": "execute_result"
    }
   ],
   "source": [
    "#error='coerce' ignores the errors. Conversion for all except for error values i.e. empty spaces. \n",
    "#.isnull() gives columns which have empty spaces\n",
    "#shows the data which has TotalCharges as null. Good to drop these\n",
    "df.columns[df.isnull().any()].tolist() \n",
    "df[pd.to_numeric(df.TotalCharges,errors='coerce').isnull()].shape"
   ]
  },
  {
   "cell_type": "code",
   "execution_count": 71,
   "metadata": {},
   "outputs": [],
   "source": [
    "#Drop rows with TotalCharges as null\n",
    "\n",
    "df1 = df[df.TotalCharges!=' ']"
   ]
  },
  {
   "cell_type": "code",
   "execution_count": 72,
   "metadata": {},
   "outputs": [
    {
     "name": "stderr",
     "output_type": "stream",
     "text": [
      "C:\\Users\\USER\\Anaconda3\\lib\\site-packages\\pandas\\core\\generic.py:5208: SettingWithCopyWarning: \n",
      "A value is trying to be set on a copy of a slice from a DataFrame.\n",
      "Try using .loc[row_indexer,col_indexer] = value instead\n",
      "\n",
      "See the caveats in the documentation: http://pandas.pydata.org/pandas-docs/stable/user_guide/indexing.html#returning-a-view-versus-a-copy\n",
      "  self[name] = value\n"
     ]
    }
   ],
   "source": [
    "df1.TotalCharges = pd.to_numeric(df1.TotalCharges)"
   ]
  },
  {
   "cell_type": "code",
   "execution_count": 73,
   "metadata": {},
   "outputs": [
    {
     "name": "stderr",
     "output_type": "stream",
     "text": [
      "C:\\Users\\USER\\Anaconda3\\lib\\site-packages\\pandas\\core\\frame.py:4263: SettingWithCopyWarning: \n",
      "A value is trying to be set on a copy of a slice from a DataFrame\n",
      "\n",
      "See the caveats in the documentation: http://pandas.pydata.org/pandas-docs/stable/user_guide/indexing.html#returning-a-view-versus-a-copy\n",
      "  method=method,\n"
     ]
    }
   ],
   "source": [
    "df1.replace('No internet service','No',inplace=True)\n",
    "df1.replace('No phone service','No',inplace=True)"
   ]
  },
  {
   "cell_type": "code",
   "execution_count": 74,
   "metadata": {},
   "outputs": [
    {
     "name": "stderr",
     "output_type": "stream",
     "text": [
      "C:\\Users\\USER\\Anaconda3\\lib\\site-packages\\pandas\\core\\generic.py:6786: SettingWithCopyWarning: \n",
      "A value is trying to be set on a copy of a slice from a DataFrame\n",
      "\n",
      "See the caveats in the documentation: http://pandas.pydata.org/pandas-docs/stable/user_guide/indexing.html#returning-a-view-versus-a-copy\n",
      "  self._update_inplace(new_data)\n"
     ]
    }
   ],
   "source": [
    "#replace Yes/No to 1/0 since ML doesn't understand text\n",
    "\n",
    "yes_no_columns = ['Partner','Dependents','PhoneService','MultipleLines','OnlineSecurity','OnlineBackup',\n",
    "                  'DeviceProtection','TechSupport','StreamingTV','StreamingMovies','PaperlessBilling','Churn']\n",
    "\n",
    "for col in yes_no_columns:\n",
    "    df1[col].replace({'Yes': 1,'No': 0},inplace=True)"
   ]
  },
  {
   "cell_type": "code",
   "execution_count": 75,
   "metadata": {},
   "outputs": [],
   "source": [
    "df1['gender'].replace({'Male':1,'Female':0},inplace=True)"
   ]
  },
  {
   "cell_type": "code",
   "execution_count": 76,
   "metadata": {},
   "outputs": [],
   "source": [
    "#One hot encoding for multiclass i.e. InternetService, Contract, PaymentMethod\n",
    "\n",
    "multiclass_col=['InternetService', 'Contract', 'PaymentMethod']\n",
    "df1 = pd.get_dummies(data=df1,columns=multiclass_col)"
   ]
  },
  {
   "cell_type": "code",
   "execution_count": 77,
   "metadata": {},
   "outputs": [],
   "source": [
    "#scaling the values between 1 and 0 for below\n",
    "cols_to_scale = ['tenure','MonthlyCharges','TotalCharges']\n",
    "\n",
    "#MinMaxScaler scales the data between 0 and 1\n",
    "scaler = MinMaxScaler()\n",
    "\n",
    "df1[cols_to_scale] = scaler.fit_transform(df1[cols_to_scale])"
   ]
  },
  {
   "cell_type": "code",
   "execution_count": 78,
   "metadata": {},
   "outputs": [],
   "source": [
    "def print_unique_col_values(df):\n",
    "    for column in df:\n",
    "        print(f'{column} : {df[column].unique()}')"
   ]
  },
  {
   "cell_type": "code",
   "execution_count": 79,
   "metadata": {},
   "outputs": [
    {
     "name": "stdout",
     "output_type": "stream",
     "text": [
      "gender : [0 1]\n",
      "SeniorCitizen : [0 1]\n",
      "Partner : [1 0]\n",
      "Dependents : [0 1]\n",
      "tenure : [0.         0.46478873 0.01408451 0.61971831 0.09859155 0.29577465\n",
      " 0.12676056 0.38028169 0.85915493 0.16901408 0.21126761 0.8028169\n",
      " 0.67605634 0.33802817 0.95774648 0.71830986 0.98591549 0.28169014\n",
      " 0.15492958 0.4084507  0.64788732 1.         0.22535211 0.36619718\n",
      " 0.05633803 0.63380282 0.14084507 0.97183099 0.87323944 0.5915493\n",
      " 0.1971831  0.83098592 0.23943662 0.91549296 0.11267606 0.02816901\n",
      " 0.42253521 0.69014085 0.88732394 0.77464789 0.08450704 0.57746479\n",
      " 0.47887324 0.66197183 0.3943662  0.90140845 0.52112676 0.94366197\n",
      " 0.43661972 0.76056338 0.50704225 0.49295775 0.56338028 0.07042254\n",
      " 0.04225352 0.45070423 0.92957746 0.30985915 0.78873239 0.84507042\n",
      " 0.18309859 0.26760563 0.73239437 0.54929577 0.81690141 0.32394366\n",
      " 0.6056338  0.25352113 0.74647887 0.70422535 0.35211268 0.53521127]\n",
      "PhoneService : [0 1]\n",
      "MultipleLines : [0 1]\n",
      "OnlineSecurity : [0 1]\n",
      "OnlineBackup : [1 0]\n",
      "DeviceProtection : [0 1]\n",
      "TechSupport : [0 1]\n",
      "StreamingTV : [0 1]\n",
      "StreamingMovies : [0 1]\n",
      "PaperlessBilling : [1 0]\n",
      "MonthlyCharges : [0.11542289 0.38507463 0.35422886 ... 0.44626866 0.25820896 0.60149254]\n",
      "TotalCharges : [0.0012751  0.21586661 0.01031041 ... 0.03780868 0.03321025 0.78764136]\n",
      "Churn : [0 1]\n",
      "InternetService_DSL : [1 0]\n",
      "InternetService_Fiber optic : [0 1]\n",
      "InternetService_No : [0 1]\n",
      "Contract_Month-to-month : [1 0]\n",
      "Contract_One year : [0 1]\n",
      "Contract_Two year : [0 1]\n",
      "PaymentMethod_Bank transfer (automatic) : [0 1]\n",
      "PaymentMethod_Credit card (automatic) : [0 1]\n",
      "PaymentMethod_Electronic check : [1 0]\n",
      "PaymentMethod_Mailed check : [0 1]\n"
     ]
    }
   ],
   "source": [
    "print_unique_col_values(df1)"
   ]
  },
  {
   "cell_type": "code",
   "execution_count": 149,
   "metadata": {},
   "outputs": [],
   "source": [
    "# Class count\n",
    "count_class_0, count_class_1 = df1.Churn.value_counts()\n",
    "\n",
    "# Divide by class\n",
    "df_class_0 = df1[df1['Churn'] == 0]\n",
    "df_class_1 = df1[df1['Churn'] == 1]"
   ]
  },
  {
   "cell_type": "code",
   "execution_count": 150,
   "metadata": {},
   "outputs": [
    {
     "name": "stdout",
     "output_type": "stream",
     "text": [
      "Random over-sampling:\n",
      "1    5163\n",
      "0    5163\n",
      "Name: Churn, dtype: int64\n"
     ]
    }
   ],
   "source": [
    "# Oversample 1-class and concat the DataFrames of both classes\n",
    "df_class_1_over = df_class_1.sample(count_class_0, replace=True)\n",
    "df_test_over = pd.concat([df_class_0, df_class_1_over], axis=0)\n",
    "\n",
    "print('Random over-sampling:')\n",
    "print(df_test_over.Churn.value_counts())"
   ]
  },
  {
   "cell_type": "code",
   "execution_count": 151,
   "metadata": {},
   "outputs": [],
   "source": [
    "X = df_test_over.drop('Churn',axis='columns')\n",
    "y = df_test_over['Churn']\n",
    "\n",
    "X_train, X_test, y_train, y_test = train_test_split(X, y, test_size=0.2, random_state=15, stratify=y)"
   ]
  },
  {
   "cell_type": "code",
   "execution_count": 152,
   "metadata": {},
   "outputs": [
    {
     "ename": "ValueError",
     "evalue": "Found input variables with inconsistent numbers of samples: [8260, 10326]",
     "output_type": "error",
     "traceback": [
      "\u001b[1;31m---------------------------------------------------------------------------\u001b[0m",
      "\u001b[1;31mValueError\u001b[0m                                Traceback (most recent call last)",
      "\u001b[1;32m<ipython-input-152-6df283e08a8a>\u001b[0m in \u001b[0;36m<module>\u001b[1;34m\u001b[0m\n\u001b[1;32m----> 1\u001b[1;33m \u001b[0mX_train\u001b[0m\u001b[1;33m,\u001b[0m \u001b[0mX_val\u001b[0m\u001b[1;33m,\u001b[0m \u001b[0my_train\u001b[0m\u001b[1;33m,\u001b[0m \u001b[0my_val\u001b[0m \u001b[1;33m=\u001b[0m \u001b[0mtrain_test_split\u001b[0m\u001b[1;33m(\u001b[0m\u001b[0mX_train\u001b[0m\u001b[1;33m,\u001b[0m \u001b[0my_train\u001b[0m\u001b[1;33m,\u001b[0m \u001b[0mtest_size\u001b[0m\u001b[1;33m=\u001b[0m\u001b[1;36m0.2\u001b[0m\u001b[1;33m,\u001b[0m \u001b[0mrandom_state\u001b[0m\u001b[1;33m=\u001b[0m\u001b[1;36m15\u001b[0m\u001b[1;33m,\u001b[0m\u001b[0mstratify\u001b[0m\u001b[1;33m=\u001b[0m\u001b[0my\u001b[0m\u001b[1;33m)\u001b[0m\u001b[1;33m\u001b[0m\u001b[1;33m\u001b[0m\u001b[0m\n\u001b[0m\u001b[0;32m      2\u001b[0m \u001b[1;31m#X_val.shape\u001b[0m\u001b[1;33m\u001b[0m\u001b[1;33m\u001b[0m\u001b[1;33m\u001b[0m\u001b[0m\n",
      "\u001b[1;32m~\\Anaconda3\\lib\\site-packages\\sklearn\\model_selection\\_split.py\u001b[0m in \u001b[0;36mtrain_test_split\u001b[1;34m(*arrays, **options)\u001b[0m\n\u001b[0;32m   2119\u001b[0m                      random_state=random_state)\n\u001b[0;32m   2120\u001b[0m \u001b[1;33m\u001b[0m\u001b[0m\n\u001b[1;32m-> 2121\u001b[1;33m         \u001b[0mtrain\u001b[0m\u001b[1;33m,\u001b[0m \u001b[0mtest\u001b[0m \u001b[1;33m=\u001b[0m \u001b[0mnext\u001b[0m\u001b[1;33m(\u001b[0m\u001b[0mcv\u001b[0m\u001b[1;33m.\u001b[0m\u001b[0msplit\u001b[0m\u001b[1;33m(\u001b[0m\u001b[0mX\u001b[0m\u001b[1;33m=\u001b[0m\u001b[0marrays\u001b[0m\u001b[1;33m[\u001b[0m\u001b[1;36m0\u001b[0m\u001b[1;33m]\u001b[0m\u001b[1;33m,\u001b[0m \u001b[0my\u001b[0m\u001b[1;33m=\u001b[0m\u001b[0mstratify\u001b[0m\u001b[1;33m)\u001b[0m\u001b[1;33m)\u001b[0m\u001b[1;33m\u001b[0m\u001b[1;33m\u001b[0m\u001b[0m\n\u001b[0m\u001b[0;32m   2122\u001b[0m \u001b[1;33m\u001b[0m\u001b[0m\n\u001b[0;32m   2123\u001b[0m     return list(chain.from_iterable((safe_indexing(a, train),\n",
      "\u001b[1;32m~\\Anaconda3\\lib\\site-packages\\sklearn\\model_selection\\_split.py\u001b[0m in \u001b[0;36msplit\u001b[1;34m(self, X, y, groups)\u001b[0m\n\u001b[0;32m   1320\u001b[0m         \u001b[0mto\u001b[0m \u001b[0man\u001b[0m \u001b[0minteger\u001b[0m\u001b[1;33m.\u001b[0m\u001b[1;33m\u001b[0m\u001b[1;33m\u001b[0m\u001b[0m\n\u001b[0;32m   1321\u001b[0m         \"\"\"\n\u001b[1;32m-> 1322\u001b[1;33m         \u001b[0mX\u001b[0m\u001b[1;33m,\u001b[0m \u001b[0my\u001b[0m\u001b[1;33m,\u001b[0m \u001b[0mgroups\u001b[0m \u001b[1;33m=\u001b[0m \u001b[0mindexable\u001b[0m\u001b[1;33m(\u001b[0m\u001b[0mX\u001b[0m\u001b[1;33m,\u001b[0m \u001b[0my\u001b[0m\u001b[1;33m,\u001b[0m \u001b[0mgroups\u001b[0m\u001b[1;33m)\u001b[0m\u001b[1;33m\u001b[0m\u001b[1;33m\u001b[0m\u001b[0m\n\u001b[0m\u001b[0;32m   1323\u001b[0m         \u001b[1;32mfor\u001b[0m \u001b[0mtrain\u001b[0m\u001b[1;33m,\u001b[0m \u001b[0mtest\u001b[0m \u001b[1;32min\u001b[0m \u001b[0mself\u001b[0m\u001b[1;33m.\u001b[0m\u001b[0m_iter_indices\u001b[0m\u001b[1;33m(\u001b[0m\u001b[0mX\u001b[0m\u001b[1;33m,\u001b[0m \u001b[0my\u001b[0m\u001b[1;33m,\u001b[0m \u001b[0mgroups\u001b[0m\u001b[1;33m)\u001b[0m\u001b[1;33m:\u001b[0m\u001b[1;33m\u001b[0m\u001b[1;33m\u001b[0m\u001b[0m\n\u001b[0;32m   1324\u001b[0m             \u001b[1;32myield\u001b[0m \u001b[0mtrain\u001b[0m\u001b[1;33m,\u001b[0m \u001b[0mtest\u001b[0m\u001b[1;33m\u001b[0m\u001b[1;33m\u001b[0m\u001b[0m\n",
      "\u001b[1;32m~\\Anaconda3\\lib\\site-packages\\sklearn\\utils\\validation.py\u001b[0m in \u001b[0;36mindexable\u001b[1;34m(*iterables)\u001b[0m\n\u001b[0;32m    228\u001b[0m         \u001b[1;32melse\u001b[0m\u001b[1;33m:\u001b[0m\u001b[1;33m\u001b[0m\u001b[1;33m\u001b[0m\u001b[0m\n\u001b[0;32m    229\u001b[0m             \u001b[0mresult\u001b[0m\u001b[1;33m.\u001b[0m\u001b[0mappend\u001b[0m\u001b[1;33m(\u001b[0m\u001b[0mnp\u001b[0m\u001b[1;33m.\u001b[0m\u001b[0marray\u001b[0m\u001b[1;33m(\u001b[0m\u001b[0mX\u001b[0m\u001b[1;33m)\u001b[0m\u001b[1;33m)\u001b[0m\u001b[1;33m\u001b[0m\u001b[1;33m\u001b[0m\u001b[0m\n\u001b[1;32m--> 230\u001b[1;33m     \u001b[0mcheck_consistent_length\u001b[0m\u001b[1;33m(\u001b[0m\u001b[1;33m*\u001b[0m\u001b[0mresult\u001b[0m\u001b[1;33m)\u001b[0m\u001b[1;33m\u001b[0m\u001b[1;33m\u001b[0m\u001b[0m\n\u001b[0m\u001b[0;32m    231\u001b[0m     \u001b[1;32mreturn\u001b[0m \u001b[0mresult\u001b[0m\u001b[1;33m\u001b[0m\u001b[1;33m\u001b[0m\u001b[0m\n\u001b[0;32m    232\u001b[0m \u001b[1;33m\u001b[0m\u001b[0m\n",
      "\u001b[1;32m~\\Anaconda3\\lib\\site-packages\\sklearn\\utils\\validation.py\u001b[0m in \u001b[0;36mcheck_consistent_length\u001b[1;34m(*arrays)\u001b[0m\n\u001b[0;32m    203\u001b[0m     \u001b[1;32mif\u001b[0m \u001b[0mlen\u001b[0m\u001b[1;33m(\u001b[0m\u001b[0muniques\u001b[0m\u001b[1;33m)\u001b[0m \u001b[1;33m>\u001b[0m \u001b[1;36m1\u001b[0m\u001b[1;33m:\u001b[0m\u001b[1;33m\u001b[0m\u001b[1;33m\u001b[0m\u001b[0m\n\u001b[0;32m    204\u001b[0m         raise ValueError(\"Found input variables with inconsistent numbers of\"\n\u001b[1;32m--> 205\u001b[1;33m                          \" samples: %r\" % [int(l) for l in lengths])\n\u001b[0m\u001b[0;32m    206\u001b[0m \u001b[1;33m\u001b[0m\u001b[0m\n\u001b[0;32m    207\u001b[0m \u001b[1;33m\u001b[0m\u001b[0m\n",
      "\u001b[1;31mValueError\u001b[0m: Found input variables with inconsistent numbers of samples: [8260, 10326]"
     ]
    }
   ],
   "source": [
    "X_train, X_val, y_train, y_val = train_test_split(X_train, y_train, test_size=0.2, random_state=15)\n",
    "#X_val.shape"
   ]
  },
  {
   "cell_type": "code",
   "execution_count": 153,
   "metadata": {},
   "outputs": [
    {
     "data": {
      "text/plain": [
       "1    851\n",
       "0    801\n",
       "Name: Churn, dtype: int64"
      ]
     },
     "execution_count": 153,
     "metadata": {},
     "output_type": "execute_result"
    }
   ],
   "source": [
    "# Number of classes in training Data\n",
    "y_val.value_counts()"
   ]
  },
  {
   "cell_type": "code",
   "execution_count": 85,
   "metadata": {},
   "outputs": [
    {
     "data": {
      "text/plain": [
       "26"
      ]
     },
     "execution_count": 85,
     "metadata": {},
     "output_type": "execute_result"
    }
   ],
   "source": [
    "num_of_cols = len(x.columns)\n",
    "num_of_cols"
   ]
  },
  {
   "cell_type": "code",
   "execution_count": 156,
   "metadata": {},
   "outputs": [],
   "source": [
    "X_train=X_train.values.reshape(X_train.shape[0],num_of_cols, 1).astype('float32') \n",
    "X_test=X_test.values.reshape(X_test.shape[0],num_of_cols, 1).astype('float32')\n",
    "#X_val=X_val.values.reshape(X_val.shape[0],num_of_cols, 1).astype('float32')\n",
    "\n",
    "#sometimes works as X_val.values.reshape(X_val.shape[0],26, 1).astype('float32')"
   ]
  },
  {
   "cell_type": "code",
   "execution_count": 135,
   "metadata": {},
   "outputs": [
    {
     "data": {
      "text/plain": [
       "(2066, 26, 1)"
      ]
     },
     "execution_count": 135,
     "metadata": {},
     "output_type": "execute_result"
    }
   ],
   "source": [
    "X_test.shape\n"
   ]
  },
  {
   "cell_type": "code",
   "execution_count": 157,
   "metadata": {},
   "outputs": [
    {
     "name": "stdout",
     "output_type": "stream",
     "text": [
      "Train on 6608 samples, validate on 1652 samples\n",
      "Epoch 1/300\n",
      " 375/6608 [>.............................] - ETA: 17s - loss: 0.6959 - accuracy: 0.4827WARNING:tensorflow:Method (on_train_batch_end) is slow compared to the batch update (0.108878). Check your callbacks.\n",
      "6608/6608 [==============================] - 3s 421us/sample - loss: 0.6558 - accuracy: 0.6662 - val_loss: 0.6090 - val_accuracy: 0.7094\n",
      "Epoch 2/300\n",
      "6608/6608 [==============================] - 1s 188us/sample - loss: 0.5638 - accuracy: 0.7377 - val_loss: 0.5475 - val_accuracy: 0.7167\n",
      "Epoch 3/300\n",
      "6608/6608 [==============================] - 1s 186us/sample - loss: 0.5228 - accuracy: 0.7461 - val_loss: 0.5209 - val_accuracy: 0.7361\n",
      "Epoch 4/300\n",
      "6608/6608 [==============================] - 1s 178us/sample - loss: 0.5131 - accuracy: 0.7556 - val_loss: 0.5136 - val_accuracy: 0.7439\n",
      "Epoch 5/300\n",
      "6608/6608 [==============================] - 1s 184us/sample - loss: 0.5051 - accuracy: 0.7588 - val_loss: 0.5048 - val_accuracy: 0.7464\n",
      "Epoch 6/300\n",
      "6608/6608 [==============================] - 1s 201us/sample - loss: 0.4972 - accuracy: 0.7586 - val_loss: 0.5014 - val_accuracy: 0.7494\n",
      "Epoch 7/300\n",
      "6608/6608 [==============================] - 1s 187us/sample - loss: 0.4934 - accuracy: 0.7609 - val_loss: 0.4969 - val_accuracy: 0.7524\n",
      "Epoch 8/300\n",
      "6608/6608 [==============================] - 1s 182us/sample - loss: 0.4881 - accuracy: 0.7603 - val_loss: 0.4931 - val_accuracy: 0.7554\n",
      "Epoch 9/300\n",
      "6608/6608 [==============================] - 1s 192us/sample - loss: 0.4868 - accuracy: 0.7613 - val_loss: 0.4918 - val_accuracy: 0.7567\n",
      "Epoch 10/300\n",
      "6608/6608 [==============================] - 1s 184us/sample - loss: 0.4829 - accuracy: 0.7638 - val_loss: 0.4948 - val_accuracy: 0.7567\n",
      "Epoch 11/300\n",
      "6608/6608 [==============================] - 1s 207us/sample - loss: 0.4829 - accuracy: 0.7653 - val_loss: 0.4942 - val_accuracy: 0.7530\n",
      "Epoch 12/300\n",
      "6608/6608 [==============================] - 1s 204us/sample - loss: 0.4788 - accuracy: 0.7632 - val_loss: 0.4881 - val_accuracy: 0.7627\n",
      "Epoch 13/300\n",
      "6608/6608 [==============================] - 1s 199us/sample - loss: 0.4748 - accuracy: 0.7689 - val_loss: 0.4847 - val_accuracy: 0.7615\n",
      "Epoch 14/300\n",
      "6608/6608 [==============================] - 1s 199us/sample - loss: 0.4728 - accuracy: 0.7679 - val_loss: 0.4827 - val_accuracy: 0.7639\n",
      "Epoch 15/300\n",
      "6608/6608 [==============================] - 1s 190us/sample - loss: 0.4711 - accuracy: 0.7715 - val_loss: 0.4815 - val_accuracy: 0.7585\n",
      "Epoch 16/300\n",
      "6608/6608 [==============================] - 1s 194us/sample - loss: 0.4687 - accuracy: 0.7730 - val_loss: 0.4792 - val_accuracy: 0.7657\n",
      "Epoch 17/300\n",
      "6608/6608 [==============================] - 1s 185us/sample - loss: 0.4680 - accuracy: 0.7729 - val_loss: 0.4816 - val_accuracy: 0.7639\n",
      "Epoch 18/300\n",
      "6608/6608 [==============================] - 1s 200us/sample - loss: 0.4670 - accuracy: 0.7719 - val_loss: 0.4768 - val_accuracy: 0.7651\n",
      "Epoch 19/300\n",
      "6608/6608 [==============================] - 1s 191us/sample - loss: 0.4651 - accuracy: 0.7729 - val_loss: 0.4764 - val_accuracy: 0.7742\n",
      "Epoch 20/300\n",
      "6608/6608 [==============================] - 1s 174us/sample - loss: 0.4627 - accuracy: 0.7780 - val_loss: 0.4764 - val_accuracy: 0.7694\n",
      "Epoch 21/300\n",
      "6608/6608 [==============================] - 1s 182us/sample - loss: 0.4610 - accuracy: 0.7769 - val_loss: 0.4775 - val_accuracy: 0.7597\n",
      "Epoch 22/300\n",
      "6608/6608 [==============================] - 1s 188us/sample - loss: 0.4619 - accuracy: 0.7772 - val_loss: 0.4847 - val_accuracy: 0.7700\n",
      "Epoch 23/300\n",
      "6608/6608 [==============================] - 1s 184us/sample - loss: 0.4616 - accuracy: 0.7786 - val_loss: 0.4776 - val_accuracy: 0.7724\n",
      "Epoch 24/300\n",
      "6608/6608 [==============================] - 1s 181us/sample - loss: 0.4596 - accuracy: 0.7766 - val_loss: 0.4734 - val_accuracy: 0.7724\n",
      "Epoch 25/300\n",
      "6608/6608 [==============================] - 1s 182us/sample - loss: 0.4560 - accuracy: 0.7807 - val_loss: 0.4741 - val_accuracy: 0.7694\n",
      "Epoch 26/300\n",
      "6608/6608 [==============================] - 1s 183us/sample - loss: 0.4593 - accuracy: 0.7778 - val_loss: 0.4805 - val_accuracy: 0.7663\n",
      "Epoch 27/300\n",
      "6608/6608 [==============================] - 1s 180us/sample - loss: 0.4531 - accuracy: 0.7844 - val_loss: 0.4764 - val_accuracy: 0.7682\n",
      "Epoch 28/300\n",
      "6608/6608 [==============================] - 1s 184us/sample - loss: 0.4524 - accuracy: 0.7847 - val_loss: 0.4698 - val_accuracy: 0.7694\n",
      "Epoch 29/300\n",
      "6608/6608 [==============================] - 1s 181us/sample - loss: 0.4487 - accuracy: 0.7865 - val_loss: 0.4697 - val_accuracy: 0.7712\n",
      "Epoch 30/300\n",
      "6608/6608 [==============================] - 1s 179us/sample - loss: 0.4468 - accuracy: 0.7880 - val_loss: 0.4787 - val_accuracy: 0.7657\n",
      "Epoch 31/300\n",
      "6608/6608 [==============================] - 1s 190us/sample - loss: 0.4480 - accuracy: 0.7848 - val_loss: 0.4781 - val_accuracy: 0.7651\n",
      "Epoch 32/300\n",
      "6608/6608 [==============================] - 1s 199us/sample - loss: 0.4444 - accuracy: 0.7881 - val_loss: 0.4657 - val_accuracy: 0.7754\n",
      "Epoch 33/300\n",
      "6608/6608 [==============================] - 1s 190us/sample - loss: 0.4461 - accuracy: 0.7892 - val_loss: 0.4682 - val_accuracy: 0.7700\n",
      "Epoch 34/300\n",
      "6608/6608 [==============================] - 1s 182us/sample - loss: 0.4417 - accuracy: 0.7872 - val_loss: 0.4703 - val_accuracy: 0.7730\n",
      "Epoch 35/300\n",
      "6608/6608 [==============================] - 1s 182us/sample - loss: 0.4402 - accuracy: 0.7930 - val_loss: 0.4706 - val_accuracy: 0.7700\n",
      "Epoch 36/300\n",
      "6608/6608 [==============================] - 1s 185us/sample - loss: 0.4395 - accuracy: 0.7895 - val_loss: 0.4711 - val_accuracy: 0.7712\n",
      "Epoch 37/300\n",
      "6608/6608 [==============================] - 1s 190us/sample - loss: 0.4409 - accuracy: 0.7912 - val_loss: 0.4625 - val_accuracy: 0.7730\n",
      "Epoch 38/300\n",
      "6608/6608 [==============================] - 1s 184us/sample - loss: 0.4386 - accuracy: 0.7933 - val_loss: 0.4793 - val_accuracy: 0.7748\n",
      "Epoch 39/300\n",
      "6608/6608 [==============================] - 1s 177us/sample - loss: 0.4427 - accuracy: 0.7890 - val_loss: 0.4854 - val_accuracy: 0.7718\n",
      "Epoch 40/300\n",
      "6608/6608 [==============================] - 1s 179us/sample - loss: 0.4402 - accuracy: 0.7903 - val_loss: 0.4610 - val_accuracy: 0.7772\n",
      "Epoch 41/300\n",
      "6608/6608 [==============================] - 1s 188us/sample - loss: 0.4316 - accuracy: 0.7937 - val_loss: 0.4600 - val_accuracy: 0.7718\n",
      "Epoch 42/300\n",
      "6608/6608 [==============================] - 1s 188us/sample - loss: 0.4380 - accuracy: 0.7890 - val_loss: 0.4865 - val_accuracy: 0.7730\n",
      "Epoch 43/300\n",
      "6608/6608 [==============================] - 1s 183us/sample - loss: 0.4350 - accuracy: 0.7952 - val_loss: 0.4602 - val_accuracy: 0.7772\n",
      "Epoch 44/300\n",
      "6608/6608 [==============================] - 1s 193us/sample - loss: 0.4296 - accuracy: 0.7975 - val_loss: 0.4675 - val_accuracy: 0.7772\n",
      "Epoch 45/300\n",
      "6608/6608 [==============================] - 1s 195us/sample - loss: 0.4285 - accuracy: 0.7998 - val_loss: 0.4666 - val_accuracy: 0.7663\n",
      "Epoch 46/300\n",
      "6608/6608 [==============================] - 1s 179us/sample - loss: 0.4308 - accuracy: 0.7945 - val_loss: 0.4762 - val_accuracy: 0.7785\n",
      "Epoch 47/300\n",
      "6608/6608 [==============================] - 1s 178us/sample - loss: 0.4266 - accuracy: 0.7963 - val_loss: 0.4727 - val_accuracy: 0.7760\n",
      "Epoch 48/300\n",
      "6608/6608 [==============================] - 1s 177us/sample - loss: 0.4343 - accuracy: 0.7927 - val_loss: 0.4747 - val_accuracy: 0.7815\n",
      "Epoch 49/300\n",
      "6608/6608 [==============================] - 1s 190us/sample - loss: 0.4253 - accuracy: 0.7983 - val_loss: 0.4635 - val_accuracy: 0.7730\n",
      "Epoch 50/300\n",
      "6608/6608 [==============================] - 1s 184us/sample - loss: 0.4324 - accuracy: 0.7892 - val_loss: 0.4703 - val_accuracy: 0.7869\n",
      "Epoch 51/300\n",
      "6608/6608 [==============================] - 1s 180us/sample - loss: 0.4278 - accuracy: 0.7992 - val_loss: 0.4571 - val_accuracy: 0.7821\n",
      "Epoch 52/300\n",
      "6608/6608 [==============================] - 1s 187us/sample - loss: 0.4187 - accuracy: 0.8043 - val_loss: 0.4570 - val_accuracy: 0.7785\n",
      "Epoch 53/300\n",
      "6608/6608 [==============================] - 1s 192us/sample - loss: 0.4171 - accuracy: 0.8072 - val_loss: 0.4601 - val_accuracy: 0.7827\n"
     ]
    },
    {
     "name": "stdout",
     "output_type": "stream",
     "text": [
      "Epoch 54/300\n",
      "6608/6608 [==============================] - 1s 185us/sample - loss: 0.4199 - accuracy: 0.8015 - val_loss: 0.4579 - val_accuracy: 0.7887\n",
      "Epoch 55/300\n",
      "6608/6608 [==============================] - 1s 178us/sample - loss: 0.4154 - accuracy: 0.8078 - val_loss: 0.4582 - val_accuracy: 0.7791\n",
      "Epoch 56/300\n",
      "6608/6608 [==============================] - 1s 172us/sample - loss: 0.4131 - accuracy: 0.8061 - val_loss: 0.4567 - val_accuracy: 0.7839\n",
      "Epoch 57/300\n",
      "6608/6608 [==============================] - 1s 188us/sample - loss: 0.4118 - accuracy: 0.8083 - val_loss: 0.4581 - val_accuracy: 0.7851\n",
      "Epoch 58/300\n",
      "6608/6608 [==============================] - 1s 200us/sample - loss: 0.4224 - accuracy: 0.8025 - val_loss: 0.4575 - val_accuracy: 0.7869\n",
      "Epoch 59/300\n",
      "6608/6608 [==============================] - 1s 184us/sample - loss: 0.4107 - accuracy: 0.8067 - val_loss: 0.4572 - val_accuracy: 0.7869\n",
      "Epoch 60/300\n",
      "6608/6608 [==============================] - 1s 182us/sample - loss: 0.4100 - accuracy: 0.8051 - val_loss: 0.4607 - val_accuracy: 0.7863\n",
      "Epoch 61/300\n",
      "6608/6608 [==============================] - 1s 183us/sample - loss: 0.4068 - accuracy: 0.8105 - val_loss: 0.4596 - val_accuracy: 0.7845\n",
      "Epoch 62/300\n",
      "6608/6608 [==============================] - 1s 181us/sample - loss: 0.4119 - accuracy: 0.8105 - val_loss: 0.4655 - val_accuracy: 0.7742\n",
      "Epoch 63/300\n",
      "6608/6608 [==============================] - 1s 176us/sample - loss: 0.4136 - accuracy: 0.8069 - val_loss: 0.4725 - val_accuracy: 0.7839\n",
      "Epoch 64/300\n",
      "6608/6608 [==============================] - 1s 193us/sample - loss: 0.4053 - accuracy: 0.8086 - val_loss: 0.4559 - val_accuracy: 0.7875\n",
      "Epoch 65/300\n",
      "6608/6608 [==============================] - 1s 197us/sample - loss: 0.4086 - accuracy: 0.8081 - val_loss: 0.4611 - val_accuracy: 0.7869\n",
      "Epoch 66/300\n",
      "6608/6608 [==============================] - 1s 185us/sample - loss: 0.4042 - accuracy: 0.8142 - val_loss: 0.4683 - val_accuracy: 0.7742\n",
      "Epoch 67/300\n",
      "6608/6608 [==============================] - 1s 190us/sample - loss: 0.4047 - accuracy: 0.8081 - val_loss: 0.4693 - val_accuracy: 0.7869\n",
      "Epoch 68/300\n",
      "6608/6608 [==============================] - 1s 190us/sample - loss: 0.4089 - accuracy: 0.8101 - val_loss: 0.4597 - val_accuracy: 0.7948\n",
      "Epoch 69/300\n",
      "6608/6608 [==============================] - 1s 174us/sample - loss: 0.4023 - accuracy: 0.8148 - val_loss: 0.4658 - val_accuracy: 0.7736\n",
      "Epoch 70/300\n",
      "6608/6608 [==============================] - 1s 181us/sample - loss: 0.4037 - accuracy: 0.8111 - val_loss: 0.4899 - val_accuracy: 0.7772\n",
      "Epoch 71/300\n",
      "6608/6608 [==============================] - 1s 195us/sample - loss: 0.4131 - accuracy: 0.8063 - val_loss: 0.4710 - val_accuracy: 0.7663\n",
      "Epoch 72/300\n",
      "6608/6608 [==============================] - 1s 176us/sample - loss: 0.4012 - accuracy: 0.8123 - val_loss: 0.4607 - val_accuracy: 0.7930\n",
      "Epoch 73/300\n",
      "6608/6608 [==============================] - 1s 176us/sample - loss: 0.3935 - accuracy: 0.8178 - val_loss: 0.4613 - val_accuracy: 0.7785\n",
      "Epoch 74/300\n",
      "6608/6608 [==============================] - 1s 185us/sample - loss: 0.3928 - accuracy: 0.8172 - val_loss: 0.4557 - val_accuracy: 0.7875\n",
      "Epoch 75/300\n",
      "6608/6608 [==============================] - 1s 190us/sample - loss: 0.3901 - accuracy: 0.8229 - val_loss: 0.4644 - val_accuracy: 0.7772\n",
      "Epoch 76/300\n",
      "6608/6608 [==============================] - 1s 182us/sample - loss: 0.3900 - accuracy: 0.8189 - val_loss: 0.4560 - val_accuracy: 0.7900\n",
      "Epoch 77/300\n",
      "6608/6608 [==============================] - 1s 186us/sample - loss: 0.3947 - accuracy: 0.8148 - val_loss: 0.4563 - val_accuracy: 0.7918\n",
      "Epoch 78/300\n",
      "6608/6608 [==============================] - 1s 180us/sample - loss: 0.4167 - accuracy: 0.8037 - val_loss: 0.4516 - val_accuracy: 0.7954\n",
      "Epoch 79/300\n",
      "6608/6608 [==============================] - 1s 178us/sample - loss: 0.3996 - accuracy: 0.8146 - val_loss: 0.4593 - val_accuracy: 0.7839\n",
      "Epoch 80/300\n",
      "6608/6608 [==============================] - 1s 185us/sample - loss: 0.3933 - accuracy: 0.8158 - val_loss: 0.4579 - val_accuracy: 0.7887\n",
      "Epoch 81/300\n",
      "6608/6608 [==============================] - 1s 180us/sample - loss: 0.3897 - accuracy: 0.8186 - val_loss: 0.4513 - val_accuracy: 0.7960\n",
      "Epoch 82/300\n",
      "6608/6608 [==============================] - 1s 173us/sample - loss: 0.3842 - accuracy: 0.8258 - val_loss: 0.4640 - val_accuracy: 0.7881\n",
      "Epoch 83/300\n",
      "6608/6608 [==============================] - 1s 178us/sample - loss: 0.4037 - accuracy: 0.8133 - val_loss: 0.4822 - val_accuracy: 0.7597\n",
      "Epoch 84/300\n",
      "6608/6608 [==============================] - 1s 194us/sample - loss: 0.4007 - accuracy: 0.8166 - val_loss: 0.4706 - val_accuracy: 0.7730\n",
      "Epoch 85/300\n",
      "6608/6608 [==============================] - 1s 192us/sample - loss: 0.3880 - accuracy: 0.8204 - val_loss: 0.4534 - val_accuracy: 0.7954\n",
      "Epoch 86/300\n",
      "6608/6608 [==============================] - 1s 218us/sample - loss: 0.3837 - accuracy: 0.8278 - val_loss: 0.4564 - val_accuracy: 0.7978\n",
      "Epoch 87/300\n",
      "6608/6608 [==============================] - 1s 194us/sample - loss: 0.3835 - accuracy: 0.8260 - val_loss: 0.4516 - val_accuracy: 0.7966\n",
      "Epoch 88/300\n",
      "6608/6608 [==============================] - 1s 178us/sample - loss: 0.3789 - accuracy: 0.8275 - val_loss: 0.4583 - val_accuracy: 0.7887\n",
      "Epoch 89/300\n",
      "6608/6608 [==============================] - 1s 203us/sample - loss: 0.3753 - accuracy: 0.8302 - val_loss: 0.4697 - val_accuracy: 0.7821\n",
      "Epoch 90/300\n",
      "6608/6608 [==============================] - 1s 211us/sample - loss: 0.3782 - accuracy: 0.8278 - val_loss: 0.4516 - val_accuracy: 0.7948\n",
      "Epoch 91/300\n",
      "6608/6608 [==============================] - 1s 175us/sample - loss: 0.3760 - accuracy: 0.8305 - val_loss: 0.4565 - val_accuracy: 0.7942\n",
      "Epoch 92/300\n",
      "6608/6608 [==============================] - 1s 172us/sample - loss: 0.3852 - accuracy: 0.8257 - val_loss: 0.4582 - val_accuracy: 0.7797\n",
      "Epoch 93/300\n",
      "6608/6608 [==============================] - 1s 175us/sample - loss: 0.3751 - accuracy: 0.8307 - val_loss: 0.4594 - val_accuracy: 0.7918\n",
      "Epoch 94/300\n",
      "6608/6608 [==============================] - 1s 176us/sample - loss: 0.3770 - accuracy: 0.8290 - val_loss: 0.4510 - val_accuracy: 0.8002\n",
      "Epoch 95/300\n",
      "6608/6608 [==============================] - 1s 173us/sample - loss: 0.3704 - accuracy: 0.8328 - val_loss: 0.4640 - val_accuracy: 0.7942\n",
      "Epoch 96/300\n",
      "6608/6608 [==============================] - 1s 177us/sample - loss: 0.3684 - accuracy: 0.8326 - val_loss: 0.4520 - val_accuracy: 0.7960\n",
      "Epoch 97/300\n",
      "6608/6608 [==============================] - 1s 196us/sample - loss: 0.3683 - accuracy: 0.8325 - val_loss: 0.4619 - val_accuracy: 0.7863\n",
      "Epoch 98/300\n",
      "6608/6608 [==============================] - 1s 176us/sample - loss: 0.3806 - accuracy: 0.8257 - val_loss: 0.4761 - val_accuracy: 0.7918\n",
      "Epoch 99/300\n",
      "6608/6608 [==============================] - 1s 180us/sample - loss: 0.3758 - accuracy: 0.8266 - val_loss: 0.4512 - val_accuracy: 0.7960\n",
      "Epoch 100/300\n",
      "6608/6608 [==============================] - 1s 180us/sample - loss: 0.3729 - accuracy: 0.8272 - val_loss: 0.4569 - val_accuracy: 0.7924\n",
      "Epoch 101/300\n",
      "6608/6608 [==============================] - 1s 181us/sample - loss: 0.3672 - accuracy: 0.8349 - val_loss: 0.4684 - val_accuracy: 0.7694\n",
      "Epoch 102/300\n",
      "6608/6608 [==============================] - 1s 177us/sample - loss: 0.3696 - accuracy: 0.8331 - val_loss: 0.4594 - val_accuracy: 0.7960\n",
      "Epoch 103/300\n",
      "6608/6608 [==============================] - 1s 173us/sample - loss: 0.3622 - accuracy: 0.8360 - val_loss: 0.4536 - val_accuracy: 0.7966\n",
      "Epoch 104/300\n",
      "6608/6608 [==============================] - 1s 176us/sample - loss: 0.3686 - accuracy: 0.8325 - val_loss: 0.4524 - val_accuracy: 0.7972\n",
      "Epoch 105/300\n",
      "6608/6608 [==============================] - 1s 181us/sample - loss: 0.3605 - accuracy: 0.8379 - val_loss: 0.4714 - val_accuracy: 0.7900\n",
      "Epoch 106/300\n",
      "6608/6608 [==============================] - 1s 176us/sample - loss: 0.3607 - accuracy: 0.8334 - val_loss: 0.4631 - val_accuracy: 0.7996\n",
      "Epoch 107/300\n",
      "6608/6608 [==============================] - 1s 174us/sample - loss: 0.3651 - accuracy: 0.8343 - val_loss: 0.4689 - val_accuracy: 0.7815\n",
      "Epoch 108/300\n"
     ]
    },
    {
     "name": "stdout",
     "output_type": "stream",
     "text": [
      "6608/6608 [==============================] - 1s 173us/sample - loss: 0.3669 - accuracy: 0.8355 - val_loss: 0.4625 - val_accuracy: 0.7839\n",
      "Epoch 109/300\n",
      "6608/6608 [==============================] - 1s 172us/sample - loss: 0.3619 - accuracy: 0.8350 - val_loss: 0.4602 - val_accuracy: 0.7954\n",
      "Epoch 110/300\n",
      "6608/6608 [==============================] - 1s 187us/sample - loss: 0.3630 - accuracy: 0.8344 - val_loss: 0.4766 - val_accuracy: 0.7645\n",
      "Epoch 111/300\n",
      "6608/6608 [==============================] - 1s 198us/sample - loss: 0.3750 - accuracy: 0.8287 - val_loss: 0.4630 - val_accuracy: 0.7972\n",
      "Epoch 112/300\n",
      "6608/6608 [==============================] - 1s 172us/sample - loss: 0.3607 - accuracy: 0.8372 - val_loss: 0.4555 - val_accuracy: 0.7942\n",
      "Epoch 113/300\n",
      "6608/6608 [==============================] - 1s 187us/sample - loss: 0.3554 - accuracy: 0.8420 - val_loss: 0.4516 - val_accuracy: 0.8015\n",
      "Epoch 114/300\n",
      "6608/6608 [==============================] - 1s 179us/sample - loss: 0.3522 - accuracy: 0.8406 - val_loss: 0.4725 - val_accuracy: 0.7900\n",
      "Epoch 115/300\n",
      "6608/6608 [==============================] - 1s 176us/sample - loss: 0.3529 - accuracy: 0.8411 - val_loss: 0.4528 - val_accuracy: 0.8002\n",
      "Epoch 116/300\n",
      "6608/6608 [==============================] - 1s 180us/sample - loss: 0.3513 - accuracy: 0.8443 - val_loss: 0.4547 - val_accuracy: 0.8045\n",
      "Epoch 117/300\n",
      "6608/6608 [==============================] - 1s 176us/sample - loss: 0.3509 - accuracy: 0.8446 - val_loss: 0.4611 - val_accuracy: 0.7869\n",
      "Epoch 118/300\n",
      "6608/6608 [==============================] - 1s 185us/sample - loss: 0.3498 - accuracy: 0.8473 - val_loss: 0.4553 - val_accuracy: 0.7996\n",
      "Epoch 119/300\n",
      "6608/6608 [==============================] - 1s 192us/sample - loss: 0.3478 - accuracy: 0.8467 - val_loss: 0.4537 - val_accuracy: 0.7966\n",
      "Epoch 120/300\n",
      "6608/6608 [==============================] - 1s 199us/sample - loss: 0.3485 - accuracy: 0.8428 - val_loss: 0.4548 - val_accuracy: 0.7978\n",
      "Epoch 121/300\n",
      "6608/6608 [==============================] - 1s 191us/sample - loss: 0.3487 - accuracy: 0.8484 - val_loss: 0.4642 - val_accuracy: 0.7718\n",
      "Epoch 122/300\n",
      "6608/6608 [==============================] - 1s 182us/sample - loss: 0.3572 - accuracy: 0.8400 - val_loss: 0.4566 - val_accuracy: 0.7887\n",
      "Epoch 123/300\n",
      "6608/6608 [==============================] - 1s 189us/sample - loss: 0.3594 - accuracy: 0.8381 - val_loss: 0.4692 - val_accuracy: 0.7881\n",
      "Epoch 124/300\n",
      "6608/6608 [==============================] - 1s 192us/sample - loss: 0.3441 - accuracy: 0.8472 - val_loss: 0.4684 - val_accuracy: 0.7791\n",
      "Epoch 125/300\n",
      "6608/6608 [==============================] - 1s 180us/sample - loss: 0.3442 - accuracy: 0.8505 - val_loss: 0.4632 - val_accuracy: 0.7742\n",
      "Epoch 126/300\n",
      "6608/6608 [==============================] - 1s 178us/sample - loss: 0.3519 - accuracy: 0.8435 - val_loss: 0.4635 - val_accuracy: 0.7978\n",
      "Epoch 127/300\n",
      "6608/6608 [==============================] - 1s 182us/sample - loss: 0.3390 - accuracy: 0.8525 - val_loss: 0.4652 - val_accuracy: 0.7990\n",
      "Epoch 128/300\n",
      "6608/6608 [==============================] - 1s 176us/sample - loss: 0.3414 - accuracy: 0.8487 - val_loss: 0.4832 - val_accuracy: 0.7906\n",
      "Epoch 129/300\n",
      "6608/6608 [==============================] - 1s 191us/sample - loss: 0.3424 - accuracy: 0.8503 - val_loss: 0.4571 - val_accuracy: 0.7875\n",
      "Epoch 130/300\n",
      "6608/6608 [==============================] - 1s 188us/sample - loss: 0.3391 - accuracy: 0.8511 - val_loss: 0.4506 - val_accuracy: 0.8021\n",
      "Epoch 131/300\n",
      "6608/6608 [==============================] - 1s 175us/sample - loss: 0.3383 - accuracy: 0.8528 - val_loss: 0.4633 - val_accuracy: 0.7936\n",
      "Epoch 132/300\n",
      "6608/6608 [==============================] - 1s 182us/sample - loss: 0.3400 - accuracy: 0.8517 - val_loss: 0.4599 - val_accuracy: 0.7918\n",
      "Epoch 133/300\n",
      "6608/6608 [==============================] - 1s 180us/sample - loss: 0.3437 - accuracy: 0.8476 - val_loss: 0.4637 - val_accuracy: 0.7778\n",
      "Epoch 134/300\n",
      "6608/6608 [==============================] - 1s 181us/sample - loss: 0.3396 - accuracy: 0.8487 - val_loss: 0.4704 - val_accuracy: 0.7669\n",
      "Epoch 135/300\n",
      "6608/6608 [==============================] - 1s 177us/sample - loss: 0.3409 - accuracy: 0.8531 - val_loss: 0.4603 - val_accuracy: 0.7887\n",
      "Epoch 136/300\n",
      "6608/6608 [==============================] - 1s 185us/sample - loss: 0.3374 - accuracy: 0.8559 - val_loss: 0.4581 - val_accuracy: 0.7930\n",
      "Epoch 137/300\n",
      "6608/6608 [==============================] - 1s 194us/sample - loss: 0.3298 - accuracy: 0.8525 - val_loss: 0.4592 - val_accuracy: 0.7821\n",
      "Epoch 138/300\n",
      "6608/6608 [==============================] - 1s 182us/sample - loss: 0.3444 - accuracy: 0.8491 - val_loss: 0.4634 - val_accuracy: 0.7875\n",
      "Epoch 139/300\n",
      "6608/6608 [==============================] - 1s 188us/sample - loss: 0.3513 - accuracy: 0.8450 - val_loss: 0.4598 - val_accuracy: 0.7809\n",
      "Epoch 140/300\n",
      "6608/6608 [==============================] - 1s 195us/sample - loss: 0.3323 - accuracy: 0.8581 - val_loss: 0.4691 - val_accuracy: 0.7893\n",
      "Epoch 141/300\n",
      "6608/6608 [==============================] - 1s 180us/sample - loss: 0.3323 - accuracy: 0.8538 - val_loss: 0.4558 - val_accuracy: 0.7918\n",
      "Epoch 142/300\n",
      "6608/6608 [==============================] - 1s 187us/sample - loss: 0.3327 - accuracy: 0.8523 - val_loss: 0.4876 - val_accuracy: 0.7548\n",
      "Epoch 143/300\n",
      "6608/6608 [==============================] - 1s 186us/sample - loss: 0.3427 - accuracy: 0.8502 - val_loss: 0.4583 - val_accuracy: 0.7869\n",
      "Epoch 144/300\n",
      "6608/6608 [==============================] - 1s 187us/sample - loss: 0.3346 - accuracy: 0.8531 - val_loss: 0.4688 - val_accuracy: 0.7906\n",
      "Epoch 145/300\n",
      "6608/6608 [==============================] - 1s 188us/sample - loss: 0.3421 - accuracy: 0.8491 - val_loss: 0.5046 - val_accuracy: 0.7530\n",
      "Epoch 146/300\n",
      "6608/6608 [==============================] - 1s 176us/sample - loss: 0.3589 - accuracy: 0.8355 - val_loss: 0.4597 - val_accuracy: 0.7990\n",
      "Epoch 147/300\n",
      "6608/6608 [==============================] - 1s 176us/sample - loss: 0.3413 - accuracy: 0.8475 - val_loss: 0.4616 - val_accuracy: 0.7912\n",
      "Epoch 148/300\n",
      "6608/6608 [==============================] - 1s 178us/sample - loss: 0.3242 - accuracy: 0.8567 - val_loss: 0.4540 - val_accuracy: 0.7881\n",
      "Epoch 149/300\n",
      "6608/6608 [==============================] - 1s 185us/sample - loss: 0.3243 - accuracy: 0.8608 - val_loss: 0.4553 - val_accuracy: 0.7990\n",
      "Epoch 150/300\n",
      "6608/6608 [==============================] - 1s 200us/sample - loss: 0.3238 - accuracy: 0.8612 - val_loss: 0.4596 - val_accuracy: 0.7924\n",
      "Epoch 151/300\n",
      "6608/6608 [==============================] - 1s 183us/sample - loss: 0.3214 - accuracy: 0.8609 - val_loss: 0.4508 - val_accuracy: 0.7984\n",
      "Epoch 152/300\n",
      "6608/6608 [==============================] - 1s 181us/sample - loss: 0.3316 - accuracy: 0.8553 - val_loss: 0.4523 - val_accuracy: 0.8051\n",
      "Epoch 153/300\n",
      "6608/6608 [==============================] - 1s 178us/sample - loss: 0.3226 - accuracy: 0.8602 - val_loss: 0.4692 - val_accuracy: 0.7960\n",
      "Epoch 154/300\n",
      "6608/6608 [==============================] - 1s 185us/sample - loss: 0.3188 - accuracy: 0.8650 - val_loss: 0.4555 - val_accuracy: 0.7912\n",
      "Epoch 155/300\n",
      "6608/6608 [==============================] - 1s 178us/sample - loss: 0.3203 - accuracy: 0.8602 - val_loss: 0.4684 - val_accuracy: 0.7833\n",
      "Epoch 156/300\n",
      "6608/6608 [==============================] - 1s 175us/sample - loss: 0.3230 - accuracy: 0.8630 - val_loss: 0.4733 - val_accuracy: 0.7785\n",
      "Epoch 157/300\n",
      "6608/6608 [==============================] - 1s 181us/sample - loss: 0.3233 - accuracy: 0.8597 - val_loss: 0.4551 - val_accuracy: 0.7966\n",
      "Epoch 158/300\n",
      "6608/6608 [==============================] - 1s 178us/sample - loss: 0.3157 - accuracy: 0.8655 - val_loss: 0.4575 - val_accuracy: 0.7936\n",
      "Epoch 159/300\n",
      "6608/6608 [==============================] - 1s 180us/sample - loss: 0.3195 - accuracy: 0.8638 - val_loss: 0.4500 - val_accuracy: 0.7984\n",
      "Epoch 160/300\n",
      "6608/6608 [==============================] - 1s 181us/sample - loss: 0.3200 - accuracy: 0.8627 - val_loss: 0.4587 - val_accuracy: 0.8057\n",
      "Epoch 161/300\n",
      "6608/6608 [==============================] - 1s 183us/sample - loss: 0.3258 - accuracy: 0.8570 - val_loss: 0.4737 - val_accuracy: 0.8033\n",
      "Epoch 162/300\n"
     ]
    },
    {
     "name": "stdout",
     "output_type": "stream",
     "text": [
      "6608/6608 [==============================] - 1s 181us/sample - loss: 0.3156 - accuracy: 0.8649 - val_loss: 0.4614 - val_accuracy: 0.8069\n",
      "Epoch 163/300\n",
      "6608/6608 [==============================] - 1s 202us/sample - loss: 0.3122 - accuracy: 0.8676 - val_loss: 0.4532 - val_accuracy: 0.8027\n",
      "Epoch 164/300\n",
      "6608/6608 [==============================] - 1s 192us/sample - loss: 0.3102 - accuracy: 0.8652 - val_loss: 0.4579 - val_accuracy: 0.8027\n",
      "Epoch 165/300\n",
      "6608/6608 [==============================] - 1s 179us/sample - loss: 0.3123 - accuracy: 0.8702 - val_loss: 0.4638 - val_accuracy: 0.7990\n",
      "Epoch 166/300\n",
      "6608/6608 [==============================] - 1s 180us/sample - loss: 0.3168 - accuracy: 0.8620 - val_loss: 0.4531 - val_accuracy: 0.8057\n",
      "Epoch 167/300\n",
      "6608/6608 [==============================] - 1s 207us/sample - loss: 0.3088 - accuracy: 0.8691 - val_loss: 0.4563 - val_accuracy: 0.8015\n",
      "Epoch 168/300\n",
      "6608/6608 [==============================] - 1s 179us/sample - loss: 0.3059 - accuracy: 0.8741 - val_loss: 0.4688 - val_accuracy: 0.7845\n",
      "Epoch 169/300\n",
      "6608/6608 [==============================] - 1s 185us/sample - loss: 0.3114 - accuracy: 0.8670 - val_loss: 0.4560 - val_accuracy: 0.8021\n",
      "Epoch 170/300\n",
      "6608/6608 [==============================] - 1s 188us/sample - loss: 0.3114 - accuracy: 0.8661 - val_loss: 0.4608 - val_accuracy: 0.8027\n",
      "Epoch 171/300\n",
      "6608/6608 [==============================] - 1s 186us/sample - loss: 0.3286 - accuracy: 0.8565 - val_loss: 0.4624 - val_accuracy: 0.7978\n",
      "Epoch 172/300\n",
      "6608/6608 [==============================] - 1s 188us/sample - loss: 0.3202 - accuracy: 0.8608 - val_loss: 0.4766 - val_accuracy: 0.8033\n",
      "Epoch 173/300\n",
      "6608/6608 [==============================] - 1s 195us/sample - loss: 0.3075 - accuracy: 0.8718 - val_loss: 0.4556 - val_accuracy: 0.7978\n",
      "Epoch 174/300\n",
      "6608/6608 [==============================] - 1s 198us/sample - loss: 0.3036 - accuracy: 0.8732 - val_loss: 0.4535 - val_accuracy: 0.7954\n",
      "Epoch 175/300\n",
      "6608/6608 [==============================] - 1s 189us/sample - loss: 0.3211 - accuracy: 0.8656 - val_loss: 0.4706 - val_accuracy: 0.7984\n",
      "Epoch 176/300\n",
      "6608/6608 [==============================] - 1s 203us/sample - loss: 0.3069 - accuracy: 0.8671 - val_loss: 0.4603 - val_accuracy: 0.8069\n",
      "Epoch 177/300\n",
      "6608/6608 [==============================] - 1s 180us/sample - loss: 0.3153 - accuracy: 0.8655 - val_loss: 0.4638 - val_accuracy: 0.7942\n",
      "Epoch 178/300\n",
      "6608/6608 [==============================] - 1s 190us/sample - loss: 0.3015 - accuracy: 0.8747 - val_loss: 0.4555 - val_accuracy: 0.7996\n",
      "Epoch 179/300\n",
      "6608/6608 [==============================] - 1s 184us/sample - loss: 0.2981 - accuracy: 0.8777 - val_loss: 0.4735 - val_accuracy: 0.7960\n",
      "Epoch 180/300\n",
      "6608/6608 [==============================] - 1s 196us/sample - loss: 0.3049 - accuracy: 0.8708 - val_loss: 0.4731 - val_accuracy: 0.7748\n",
      "Epoch 181/300\n",
      "6608/6608 [==============================] - 1s 181us/sample - loss: 0.3103 - accuracy: 0.8665 - val_loss: 0.4624 - val_accuracy: 0.7930\n",
      "Epoch 182/300\n",
      "6608/6608 [==============================] - 1s 191us/sample - loss: 0.2989 - accuracy: 0.8750 - val_loss: 0.4583 - val_accuracy: 0.7906\n",
      "Epoch 183/300\n",
      "6608/6608 [==============================] - 1s 184us/sample - loss: 0.2998 - accuracy: 0.8727 - val_loss: 0.4990 - val_accuracy: 0.7851\n",
      "Epoch 184/300\n",
      "6608/6608 [==============================] - 1s 181us/sample - loss: 0.3030 - accuracy: 0.8708 - val_loss: 0.4649 - val_accuracy: 0.7990\n",
      "Epoch 185/300\n",
      "6608/6608 [==============================] - 1s 178us/sample - loss: 0.2975 - accuracy: 0.8723 - val_loss: 0.4642 - val_accuracy: 0.8087\n",
      "Epoch 186/300\n",
      "6608/6608 [==============================] - 1s 181us/sample - loss: 0.3088 - accuracy: 0.8665 - val_loss: 0.4713 - val_accuracy: 0.7875\n",
      "Epoch 187/300\n",
      "6608/6608 [==============================] - 1s 178us/sample - loss: 0.3024 - accuracy: 0.8699 - val_loss: 0.4732 - val_accuracy: 0.7857\n",
      "Epoch 188/300\n",
      "6608/6608 [==============================] - 1s 175us/sample - loss: 0.3011 - accuracy: 0.8753 - val_loss: 0.4616 - val_accuracy: 0.7936\n",
      "Epoch 189/300\n",
      "6608/6608 [==============================] - 1s 196us/sample - loss: 0.2961 - accuracy: 0.8788 - val_loss: 0.5073 - val_accuracy: 0.7990\n",
      "Epoch 190/300\n",
      "6608/6608 [==============================] - 1s 183us/sample - loss: 0.3060 - accuracy: 0.8694 - val_loss: 0.4958 - val_accuracy: 0.7869\n",
      "Epoch 191/300\n",
      "6608/6608 [==============================] - 1s 184us/sample - loss: 0.2987 - accuracy: 0.8724 - val_loss: 0.4686 - val_accuracy: 0.8111\n",
      "Epoch 192/300\n",
      "6608/6608 [==============================] - 1s 177us/sample - loss: 0.2956 - accuracy: 0.8732 - val_loss: 0.4787 - val_accuracy: 0.7924\n",
      "Epoch 193/300\n",
      "6608/6608 [==============================] - 1s 174us/sample - loss: 0.2969 - accuracy: 0.8732 - val_loss: 0.5515 - val_accuracy: 0.7978\n",
      "Epoch 194/300\n",
      "6608/6608 [==============================] - 1s 187us/sample - loss: 0.3124 - accuracy: 0.8618 - val_loss: 0.4854 - val_accuracy: 0.7960\n",
      "Epoch 195/300\n",
      "6608/6608 [==============================] - 1s 190us/sample - loss: 0.3011 - accuracy: 0.8727 - val_loss: 0.4647 - val_accuracy: 0.8015\n",
      "Epoch 196/300\n",
      "6608/6608 [==============================] - 1s 176us/sample - loss: 0.3024 - accuracy: 0.8709 - val_loss: 0.4777 - val_accuracy: 0.8051\n",
      "Epoch 197/300\n",
      "6608/6608 [==============================] - 1s 179us/sample - loss: 0.2974 - accuracy: 0.8753 - val_loss: 0.4584 - val_accuracy: 0.8087\n",
      "Epoch 198/300\n",
      "6608/6608 [==============================] - 1s 176us/sample - loss: 0.2920 - accuracy: 0.8789 - val_loss: 0.4728 - val_accuracy: 0.7996\n",
      "Epoch 199/300\n",
      "6608/6608 [==============================] - 1s 178us/sample - loss: 0.2895 - accuracy: 0.8795 - val_loss: 0.4692 - val_accuracy: 0.8002\n",
      "Epoch 200/300\n",
      "6608/6608 [==============================] - 1s 177us/sample - loss: 0.2937 - accuracy: 0.8753 - val_loss: 0.4739 - val_accuracy: 0.7936\n",
      "Epoch 201/300\n",
      "6608/6608 [==============================] - 1s 176us/sample - loss: 0.2933 - accuracy: 0.8773 - val_loss: 0.4744 - val_accuracy: 0.8057\n",
      "Epoch 202/300\n",
      "6608/6608 [==============================] - 1s 191us/sample - loss: 0.3032 - accuracy: 0.8717 - val_loss: 0.4786 - val_accuracy: 0.8087\n",
      "Epoch 203/300\n",
      "6608/6608 [==============================] - 1s 199us/sample - loss: 0.2944 - accuracy: 0.8774 - val_loss: 0.4941 - val_accuracy: 0.8057\n",
      "Epoch 204/300\n",
      "6608/6608 [==============================] - 1s 182us/sample - loss: 0.2945 - accuracy: 0.8752 - val_loss: 0.4959 - val_accuracy: 0.7990\n",
      "Epoch 205/300\n",
      "6608/6608 [==============================] - 1s 180us/sample - loss: 0.2883 - accuracy: 0.8817 - val_loss: 0.4603 - val_accuracy: 0.8027\n",
      "Epoch 206/300\n",
      "6608/6608 [==============================] - 1s 176us/sample - loss: 0.2835 - accuracy: 0.8815 - val_loss: 0.4650 - val_accuracy: 0.8069\n",
      "Epoch 207/300\n",
      "6608/6608 [==============================] - 1s 207us/sample - loss: 0.3044 - accuracy: 0.8700 - val_loss: 0.4978 - val_accuracy: 0.8057\n",
      "Epoch 208/300\n",
      "6608/6608 [==============================] - 1s 188us/sample - loss: 0.2896 - accuracy: 0.8788 - val_loss: 0.4664 - val_accuracy: 0.8154\n",
      "Epoch 209/300\n",
      "6608/6608 [==============================] - 1s 182us/sample - loss: 0.2829 - accuracy: 0.8829 - val_loss: 0.4617 - val_accuracy: 0.8075\n",
      "Epoch 210/300\n",
      "6608/6608 [==============================] - 1s 181us/sample - loss: 0.2858 - accuracy: 0.8803 - val_loss: 0.4688 - val_accuracy: 0.7918\n",
      "Epoch 211/300\n",
      "6608/6608 [==============================] - 1s 180us/sample - loss: 0.2862 - accuracy: 0.8815 - val_loss: 0.4642 - val_accuracy: 0.8045\n",
      "Epoch 212/300\n",
      "6608/6608 [==============================] - 1s 188us/sample - loss: 0.2829 - accuracy: 0.8867 - val_loss: 0.4794 - val_accuracy: 0.7809\n",
      "Epoch 213/300\n",
      "6608/6608 [==============================] - 1s 181us/sample - loss: 0.2919 - accuracy: 0.8738 - val_loss: 0.4875 - val_accuracy: 0.7766\n",
      "Epoch 214/300\n",
      "6608/6608 [==============================] - 1s 186us/sample - loss: 0.2882 - accuracy: 0.8824 - val_loss: 0.4685 - val_accuracy: 0.8136\n",
      "Epoch 215/300\n",
      "6608/6608 [==============================] - 1s 211us/sample - loss: 0.2847 - accuracy: 0.8812 - val_loss: 0.4759 - val_accuracy: 0.7936\n",
      "Epoch 216/300\n"
     ]
    },
    {
     "name": "stdout",
     "output_type": "stream",
     "text": [
      "6608/6608 [==============================] - 1s 198us/sample - loss: 0.2806 - accuracy: 0.8854 - val_loss: 0.4608 - val_accuracy: 0.8136\n",
      "Epoch 217/300\n",
      "6608/6608 [==============================] - 1s 187us/sample - loss: 0.2739 - accuracy: 0.8904 - val_loss: 0.4700 - val_accuracy: 0.7869\n",
      "Epoch 218/300\n",
      "6608/6608 [==============================] - 1s 190us/sample - loss: 0.2934 - accuracy: 0.8755 - val_loss: 0.4609 - val_accuracy: 0.8069\n",
      "Epoch 219/300\n",
      "6608/6608 [==============================] - 1s 186us/sample - loss: 0.2819 - accuracy: 0.8842 - val_loss: 0.4926 - val_accuracy: 0.8087\n",
      "Epoch 220/300\n",
      "6608/6608 [==============================] - 1s 212us/sample - loss: 0.2819 - accuracy: 0.8823 - val_loss: 0.4685 - val_accuracy: 0.8045\n",
      "Epoch 221/300\n",
      "6608/6608 [==============================] - 1s 175us/sample - loss: 0.2744 - accuracy: 0.8876 - val_loss: 0.4612 - val_accuracy: 0.8015\n",
      "Epoch 222/300\n",
      "6608/6608 [==============================] - 1s 186us/sample - loss: 0.2798 - accuracy: 0.8844 - val_loss: 0.4750 - val_accuracy: 0.8069\n",
      "Epoch 223/300\n",
      "6608/6608 [==============================] - 1s 180us/sample - loss: 0.2707 - accuracy: 0.8906 - val_loss: 0.4683 - val_accuracy: 0.8002\n",
      "Epoch 224/300\n",
      "6608/6608 [==============================] - 1s 176us/sample - loss: 0.2778 - accuracy: 0.8850 - val_loss: 0.4617 - val_accuracy: 0.8051\n",
      "Epoch 225/300\n",
      "6608/6608 [==============================] - 1s 179us/sample - loss: 0.2754 - accuracy: 0.8886 - val_loss: 0.4762 - val_accuracy: 0.7887\n",
      "Epoch 226/300\n",
      "6608/6608 [==============================] - 1s 199us/sample - loss: 0.2911 - accuracy: 0.8744 - val_loss: 0.4656 - val_accuracy: 0.8087\n",
      "Epoch 227/300\n",
      "6608/6608 [==============================] - 1s 200us/sample - loss: 0.2735 - accuracy: 0.8883 - val_loss: 0.4621 - val_accuracy: 0.8123\n",
      "Epoch 228/300\n",
      "6608/6608 [==============================] - 1s 205us/sample - loss: 0.2734 - accuracy: 0.8883 - val_loss: 0.4810 - val_accuracy: 0.7966\n",
      "Epoch 229/300\n",
      "6608/6608 [==============================] - 1s 201us/sample - loss: 0.2771 - accuracy: 0.8862 - val_loss: 0.4740 - val_accuracy: 0.8154\n",
      "Epoch 230/300\n",
      "6608/6608 [==============================] - 1s 180us/sample - loss: 0.2703 - accuracy: 0.8889 - val_loss: 0.4655 - val_accuracy: 0.8111\n",
      "Epoch 231/300\n",
      "6608/6608 [==============================] - 1s 186us/sample - loss: 0.2822 - accuracy: 0.8817 - val_loss: 0.4654 - val_accuracy: 0.8130\n",
      "Epoch 232/300\n",
      "6608/6608 [==============================] - 1s 192us/sample - loss: 0.2749 - accuracy: 0.8838 - val_loss: 0.4889 - val_accuracy: 0.8033\n",
      "Epoch 233/300\n",
      "6608/6608 [==============================] - 1s 199us/sample - loss: 0.2748 - accuracy: 0.8860 - val_loss: 0.4756 - val_accuracy: 0.8142\n",
      "Epoch 234/300\n",
      "6608/6608 [==============================] - 1s 178us/sample - loss: 0.2866 - accuracy: 0.8753 - val_loss: 0.5257 - val_accuracy: 0.8130\n",
      "Epoch 235/300\n",
      "6608/6608 [==============================] - 1s 190us/sample - loss: 0.2788 - accuracy: 0.8838 - val_loss: 0.4890 - val_accuracy: 0.8136\n",
      "Epoch 236/300\n",
      "6608/6608 [==============================] - 1s 195us/sample - loss: 0.2851 - accuracy: 0.8788 - val_loss: 0.5389 - val_accuracy: 0.7990\n",
      "Epoch 237/300\n",
      "6608/6608 [==============================] - 1s 180us/sample - loss: 0.2952 - accuracy: 0.8683 - val_loss: 0.5009 - val_accuracy: 0.8117\n",
      "Epoch 238/300\n",
      "6608/6608 [==============================] - 1s 182us/sample - loss: 0.2919 - accuracy: 0.8745 - val_loss: 0.4772 - val_accuracy: 0.8002\n",
      "Epoch 239/300\n",
      "6608/6608 [==============================] - 1s 193us/sample - loss: 0.2645 - accuracy: 0.8918 - val_loss: 0.4587 - val_accuracy: 0.8075\n",
      "Epoch 240/300\n",
      "6608/6608 [==============================] - 1s 198us/sample - loss: 0.2693 - accuracy: 0.8912 - val_loss: 0.5035 - val_accuracy: 0.7851\n",
      "Epoch 241/300\n",
      "6608/6608 [==============================] - 1s 195us/sample - loss: 0.2788 - accuracy: 0.8848 - val_loss: 0.5207 - val_accuracy: 0.8123\n",
      "Epoch 242/300\n",
      "6608/6608 [==============================] - 1s 181us/sample - loss: 0.2768 - accuracy: 0.8836 - val_loss: 0.4907 - val_accuracy: 0.8063\n",
      "Epoch 243/300\n",
      "6608/6608 [==============================] - 1s 181us/sample - loss: 0.2636 - accuracy: 0.8923 - val_loss: 0.4784 - val_accuracy: 0.8105\n",
      "Epoch 244/300\n",
      "6608/6608 [==============================] - 1s 188us/sample - loss: 0.2634 - accuracy: 0.8944 - val_loss: 0.4662 - val_accuracy: 0.8027\n",
      "Epoch 245/300\n",
      "6608/6608 [==============================] - 1s 178us/sample - loss: 0.2677 - accuracy: 0.8909 - val_loss: 0.4930 - val_accuracy: 0.8008\n",
      "Epoch 246/300\n",
      "6608/6608 [==============================] - 1s 183us/sample - loss: 0.2790 - accuracy: 0.8808 - val_loss: 0.4815 - val_accuracy: 0.8130\n",
      "Epoch 247/300\n",
      "6608/6608 [==============================] - 1s 183us/sample - loss: 0.2748 - accuracy: 0.8847 - val_loss: 0.4957 - val_accuracy: 0.8063\n",
      "Epoch 248/300\n",
      "6608/6608 [==============================] - 1s 179us/sample - loss: 0.2652 - accuracy: 0.8904 - val_loss: 0.4690 - val_accuracy: 0.8075\n",
      "Epoch 249/300\n",
      "6608/6608 [==============================] - 1s 181us/sample - loss: 0.2682 - accuracy: 0.8857 - val_loss: 0.4774 - val_accuracy: 0.8069\n",
      "Epoch 250/300\n",
      "6608/6608 [==============================] - 1s 181us/sample - loss: 0.2816 - accuracy: 0.8797 - val_loss: 0.4980 - val_accuracy: 0.7984\n",
      "Epoch 251/300\n",
      "6608/6608 [==============================] - 1s 191us/sample - loss: 0.2732 - accuracy: 0.8856 - val_loss: 0.4787 - val_accuracy: 0.7954\n",
      "Epoch 252/300\n",
      "6608/6608 [==============================] - 1s 180us/sample - loss: 0.2716 - accuracy: 0.8888 - val_loss: 0.4968 - val_accuracy: 0.7887\n",
      "Epoch 253/300\n",
      "6608/6608 [==============================] - 1s 179us/sample - loss: 0.2652 - accuracy: 0.8966 - val_loss: 0.4750 - val_accuracy: 0.8136\n",
      "Epoch 254/300\n",
      "6608/6608 [==============================] - 1s 207us/sample - loss: 0.2622 - accuracy: 0.8909 - val_loss: 0.4727 - val_accuracy: 0.8008\n",
      "Epoch 255/300\n",
      "6608/6608 [==============================] - 1s 197us/sample - loss: 0.2629 - accuracy: 0.8885 - val_loss: 0.4687 - val_accuracy: 0.8087\n",
      "Epoch 256/300\n",
      "6608/6608 [==============================] - 1s 194us/sample - loss: 0.2628 - accuracy: 0.8938 - val_loss: 0.4717 - val_accuracy: 0.8238\n",
      "Epoch 257/300\n",
      "6608/6608 [==============================] - 1s 191us/sample - loss: 0.2692 - accuracy: 0.8889 - val_loss: 0.5242 - val_accuracy: 0.7476\n",
      "Epoch 258/300\n",
      "6608/6608 [==============================] - 1s 181us/sample - loss: 0.2930 - accuracy: 0.8709 - val_loss: 0.4896 - val_accuracy: 0.8087\n",
      "Epoch 259/300\n",
      "6608/6608 [==============================] - 1s 180us/sample - loss: 0.2874 - accuracy: 0.8789 - val_loss: 0.4917 - val_accuracy: 0.8051\n",
      "Epoch 260/300\n",
      "6608/6608 [==============================] - 1s 186us/sample - loss: 0.2613 - accuracy: 0.8900 - val_loss: 0.4752 - val_accuracy: 0.8099\n",
      "Epoch 261/300\n",
      "6608/6608 [==============================] - 1s 184us/sample - loss: 0.2579 - accuracy: 0.8953 - val_loss: 0.5007 - val_accuracy: 0.8142\n",
      "Epoch 262/300\n",
      "6608/6608 [==============================] - 1s 176us/sample - loss: 0.2696 - accuracy: 0.8898 - val_loss: 0.4692 - val_accuracy: 0.8111\n",
      "Epoch 263/300\n",
      "6608/6608 [==============================] - 1s 177us/sample - loss: 0.2612 - accuracy: 0.8918 - val_loss: 0.4866 - val_accuracy: 0.7887\n",
      "Epoch 264/300\n",
      "6608/6608 [==============================] - 1s 184us/sample - loss: 0.2659 - accuracy: 0.8900 - val_loss: 0.4828 - val_accuracy: 0.8123\n",
      "Epoch 265/300\n",
      "6608/6608 [==============================] - 1s 179us/sample - loss: 0.2604 - accuracy: 0.8936 - val_loss: 0.5047 - val_accuracy: 0.8130\n",
      "Epoch 266/300\n",
      "6608/6608 [==============================] - 1s 191us/sample - loss: 0.2650 - accuracy: 0.8929 - val_loss: 0.4883 - val_accuracy: 0.8142\n",
      "Epoch 267/300\n",
      "6608/6608 [==============================] - 1s 201us/sample - loss: 0.2533 - accuracy: 0.8966 - val_loss: 0.4743 - val_accuracy: 0.8021\n",
      "Epoch 268/300\n",
      "6608/6608 [==============================] - 1s 184us/sample - loss: 0.2556 - accuracy: 0.8980 - val_loss: 0.4767 - val_accuracy: 0.8190\n",
      "Epoch 269/300\n",
      "6608/6608 [==============================] - 1s 185us/sample - loss: 0.2673 - accuracy: 0.8891 - val_loss: 0.4777 - val_accuracy: 0.8178\n",
      "Epoch 270/300\n"
     ]
    },
    {
     "name": "stdout",
     "output_type": "stream",
     "text": [
      "6608/6608 [==============================] - 1s 180us/sample - loss: 0.2616 - accuracy: 0.8939 - val_loss: 0.5535 - val_accuracy: 0.8063\n",
      "Epoch 271/300\n",
      "6608/6608 [==============================] - 1s 180us/sample - loss: 0.2821 - accuracy: 0.8762 - val_loss: 0.5084 - val_accuracy: 0.8136\n",
      "Epoch 272/300\n",
      "6608/6608 [==============================] - 1s 181us/sample - loss: 0.2637 - accuracy: 0.8919 - val_loss: 0.4978 - val_accuracy: 0.7815\n",
      "Epoch 273/300\n",
      "6608/6608 [==============================] - 1s 199us/sample - loss: 0.2676 - accuracy: 0.8874 - val_loss: 0.4846 - val_accuracy: 0.7754\n",
      "Epoch 274/300\n",
      "6608/6608 [==============================] - 1s 184us/sample - loss: 0.2577 - accuracy: 0.8903 - val_loss: 0.4990 - val_accuracy: 0.8008\n",
      "Epoch 275/300\n",
      "6608/6608 [==============================] - 1s 193us/sample - loss: 0.2541 - accuracy: 0.8986 - val_loss: 0.4836 - val_accuracy: 0.8093\n",
      "Epoch 276/300\n",
      "6608/6608 [==============================] - 1s 194us/sample - loss: 0.2516 - accuracy: 0.8938 - val_loss: 0.4862 - val_accuracy: 0.8015\n",
      "Epoch 277/300\n",
      "6608/6608 [==============================] - 1s 178us/sample - loss: 0.2631 - accuracy: 0.8882 - val_loss: 0.4930 - val_accuracy: 0.7845\n",
      "Epoch 278/300\n",
      "6608/6608 [==============================] - 1s 177us/sample - loss: 0.2545 - accuracy: 0.8971 - val_loss: 0.4736 - val_accuracy: 0.8033\n",
      "Epoch 279/300\n",
      "6608/6608 [==============================] - 1s 194us/sample - loss: 0.2612 - accuracy: 0.8888 - val_loss: 0.4935 - val_accuracy: 0.8021\n",
      "Epoch 280/300\n",
      "6608/6608 [==============================] - 1s 219us/sample - loss: 0.2498 - accuracy: 0.9001 - val_loss: 0.4769 - val_accuracy: 0.8051\n",
      "Epoch 281/300\n",
      "6608/6608 [==============================] - 1s 196us/sample - loss: 0.2493 - accuracy: 0.8994 - val_loss: 0.5291 - val_accuracy: 0.8172\n",
      "Epoch 282/300\n",
      "6608/6608 [==============================] - 1s 201us/sample - loss: 0.2584 - accuracy: 0.8953 - val_loss: 0.5198 - val_accuracy: 0.8087\n",
      "Epoch 283/300\n",
      "6608/6608 [==============================] - 1s 180us/sample - loss: 0.2498 - accuracy: 0.8963 - val_loss: 0.4917 - val_accuracy: 0.8136\n",
      "Epoch 284/300\n",
      "6608/6608 [==============================] - 1s 183us/sample - loss: 0.2487 - accuracy: 0.9000 - val_loss: 0.4725 - val_accuracy: 0.8087\n",
      "Epoch 285/300\n",
      "6608/6608 [==============================] - 1s 184us/sample - loss: 0.2476 - accuracy: 0.8988 - val_loss: 0.4781 - val_accuracy: 0.8008\n",
      "Epoch 286/300\n",
      "6608/6608 [==============================] - 1s 182us/sample - loss: 0.2517 - accuracy: 0.8985 - val_loss: 0.5062 - val_accuracy: 0.8027\n",
      "Epoch 287/300\n",
      "6608/6608 [==============================] - 1s 178us/sample - loss: 0.2598 - accuracy: 0.8912 - val_loss: 0.4924 - val_accuracy: 0.8220\n",
      "Epoch 288/300\n",
      "6608/6608 [==============================] - 1s 188us/sample - loss: 0.2523 - accuracy: 0.8995 - val_loss: 0.4812 - val_accuracy: 0.8027\n",
      "Epoch 289/300\n",
      "6608/6608 [==============================] - 1s 182us/sample - loss: 0.2437 - accuracy: 0.9001 - val_loss: 0.4768 - val_accuracy: 0.8105\n",
      "Epoch 290/300\n",
      "6608/6608 [==============================] - 1s 180us/sample - loss: 0.2440 - accuracy: 0.9059 - val_loss: 0.4759 - val_accuracy: 0.8160\n",
      "Epoch 291/300\n",
      "6608/6608 [==============================] - 1s 180us/sample - loss: 0.2457 - accuracy: 0.9009 - val_loss: 0.4846 - val_accuracy: 0.7954\n",
      "Epoch 292/300\n",
      "6608/6608 [==============================] - 1s 188us/sample - loss: 0.2436 - accuracy: 0.8998 - val_loss: 0.4839 - val_accuracy: 0.8142\n",
      "Epoch 293/300\n",
      "6608/6608 [==============================] - 1s 203us/sample - loss: 0.2432 - accuracy: 0.9015 - val_loss: 0.4839 - val_accuracy: 0.82029 - accuracy: 0.90\n",
      "Epoch 294/300\n",
      "6608/6608 [==============================] - 1s 190us/sample - loss: 0.2460 - accuracy: 0.9007 - val_loss: 0.5243 - val_accuracy: 0.8136\n",
      "Epoch 295/300\n",
      "6608/6608 [==============================] - 1s 220us/sample - loss: 0.2507 - accuracy: 0.8992 - val_loss: 0.4885 - val_accuracy: 0.8123\n",
      "Epoch 296/300\n",
      "6608/6608 [==============================] - 1s 179us/sample - loss: 0.2530 - accuracy: 0.8957 - val_loss: 0.4961 - val_accuracy: 0.8160\n",
      "Epoch 297/300\n",
      "6608/6608 [==============================] - 1s 185us/sample - loss: 0.2518 - accuracy: 0.8992 - val_loss: 0.4999 - val_accuracy: 0.8172\n",
      "Epoch 298/300\n",
      "6608/6608 [==============================] - 1s 189us/sample - loss: 0.2505 - accuracy: 0.8988 - val_loss: 0.4903 - val_accuracy: 0.7857\n",
      "Epoch 299/300\n",
      "6608/6608 [==============================] - 1s 221us/sample - loss: 0.2604 - accuracy: 0.8906 - val_loss: 0.4821 - val_accuracy: 0.8087\n",
      "Epoch 300/300\n",
      "6608/6608 [==============================] - 1s 194us/sample - loss: 0.2441 - accuracy: 0.9022 - val_loss: 0.4806 - val_accuracy: 0.8105\n"
     ]
    },
    {
     "data": {
      "text/plain": [
       "<tensorflow.python.keras.callbacks.History at 0x21d36d31188>"
      ]
     },
     "execution_count": 157,
     "metadata": {},
     "output_type": "execute_result"
    }
   ],
   "source": [
    "Name = \"CNN_{}\".format(int(time.time())) \n",
    "log_dir=\"E:\\\\SnehaWork\\\\AIProject\\\\TF_Logs\\\\{}\".format(Name)\n",
    "cnn = models.Sequential([\n",
    "    layers.Conv1D(filters=128, kernel_size=3, activation='relu', input_shape=(26,1)),  \n",
    "    layers.MaxPooling1D(pool_size=3),\n",
    "    \n",
    "    layers.Conv1D(filters=128, kernel_size=3, activation='relu'),\n",
    "    layers.MaxPooling1D(pool_size=3),\n",
    "    \n",
    "    layers.Flatten(),\n",
    "    layers.Dense(20, activation='relu'),\n",
    "    layers.Dense(1, activation='sigmoid')\n",
    "])\n",
    "\n",
    "#cnn.summary()\n",
    "tb_callback = tf.keras.callbacks.TensorBoard(log_dir=log_dir,histogram_freq=0)\n",
    "\n",
    "cnn.compile(optimizer='Adam',loss='binary_crossentropy',metrics=['accuracy'])\n",
    "\n",
    "cnn.fit(X_train, y_train, epochs=300,validation_split=0.2, batch_size=375,callbacks=[tb_callback])"
   ]
  },
  {
   "cell_type": "code",
   "execution_count": 158,
   "metadata": {},
   "outputs": [
    {
     "name": "stdout",
     "output_type": "stream",
     "text": [
      "2066/2066 [==============================] - 0s 55us/sample - loss: 0.4899 - accuracy: 0.8132\n"
     ]
    },
    {
     "data": {
      "text/plain": [
       "[0.489886263116747, 0.81316555]"
      ]
     },
     "execution_count": 158,
     "metadata": {},
     "output_type": "execute_result"
    }
   ],
   "source": [
    "cnn.evaluate(X_test,y_test,batch_size=375)"
   ]
  },
  {
   "cell_type": "code",
   "execution_count": null,
   "metadata": {},
   "outputs": [],
   "source": []
  },
  {
   "cell_type": "markdown",
   "metadata": {},
   "source": [
    "### type(X_test)"
   ]
  },
  {
   "cell_type": "code",
   "execution_count": 139,
   "metadata": {},
   "outputs": [],
   "source": [
    "yp_pred= cnn.predict(X_test)\n",
    "#X_test.isnull()"
   ]
  },
  {
   "cell_type": "code",
   "execution_count": 140,
   "metadata": {},
   "outputs": [],
   "source": [
    "yp_pred = np.round(yp_pred)"
   ]
  },
  {
   "cell_type": "code",
   "execution_count": 141,
   "metadata": {},
   "outputs": [
    {
     "name": "stdout",
     "output_type": "stream",
     "text": [
      "Classification Report: \n",
      "               precision    recall  f1-score   support\n",
      "\n",
      "           0       0.88      0.70      0.78      1033\n",
      "           1       0.75      0.90      0.82      1033\n",
      "\n",
      "    accuracy                           0.80      2066\n",
      "   macro avg       0.81      0.80      0.80      2066\n",
      "weighted avg       0.81      0.80      0.80      2066\n",
      "\n"
     ]
    }
   ],
   "source": [
    "from sklearn.metrics import confusion_matrix , classification_report\n",
    "\n",
    "print(\"Classification Report: \\n\", classification_report(y_test, yp_pred))\n"
   ]
  },
  {
   "cell_type": "code",
   "execution_count": 142,
   "metadata": {},
   "outputs": [
    {
     "data": {
      "text/plain": [
       "<tf.Tensor: shape=(2, 2), dtype=int32, numpy=\n",
       "array([[722, 311],\n",
       "       [102, 931]])>"
      ]
     },
     "execution_count": 142,
     "metadata": {},
     "output_type": "execute_result"
    },
    {
     "data": {
      "image/png": "[encoded data removed]",
      "text/plain": [
       "<Figure size 504x288 with 2 Axes>"
      ]
     },
     "metadata": {
      "needs_background": "light"
     },
     "output_type": "display_data"
    }
   ],
   "source": [
    "tf.math.confusion_matrix(labels=y_test,predictions=yp_pred)\n",
    "import seaborn as sn\n",
    "cm = tf.math.confusion_matrix(labels=y_test,predictions=yp_pred)\n",
    "\n",
    "plt.figure(figsize = (7,4))\n",
    "sn.heatmap(cm, annot=True, fmt='d')\n",
    "plt.xlabel('Predicted')\n",
    "plt.ylabel('Truth')\n",
    "tf.math.confusion_matrix(labels=y_test,predictions=yp_pred)"
   ]
  },
  {
   "cell_type": "code",
   "execution_count": 146,
   "metadata": {},
   "outputs": [
    {
     "data": {
      "text/plain": [
       "Reusing TensorBoard on port 6006 (pid 10312), started 0:01:34 ago. (Use '!kill 10312' to kill it.)"
      ]
     },
     "metadata": {},
     "output_type": "display_data"
    },
    {
     "data": {
      "text/html": [
       "\n",
       "      <iframe id=\"tensorboard-frame-d88fbc9c59274037\" width=\"100%\" height=\"800\" frameborder=\"0\">\n",
       "      </iframe>\n",
       "      <script>\n",
       "        (function() {\n",
       "          const frame = document.getElementById(\"tensorboard-frame-d88fbc9c59274037\");\n",
       "          const url = new URL(\"/\", window.location);\n",
       "          const port = 6006;\n",
       "          if (port) {\n",
       "            url.port = port;\n",
       "          }\n",
       "          frame.src = url;\n",
       "        })();\n",
       "      </script>\n",
       "    "
      ],
      "text/plain": [
       "<IPython.core.display.HTML object>"
      ]
     },
     "metadata": {},
     "output_type": "display_data"
    }
   ],
   "source": [
    "%reload_ext tensorboard\n",
    "%tensorboard --logdir log_dir\n",
    "#taskkill /F /PID 101312"
   ]
  },
  {
   "cell_type": "code",
   "execution_count": null,
   "metadata": {},
   "outputs": [],
   "source": []
  },
  {
   "cell_type": "code",
   "execution_count": null,
   "metadata": {},
   "outputs": [],
   "source": []
  }
 ],
 "metadata": {
  "kernelspec": {
   "display_name": "Python 3",
   "language": "python",
   "name": "python3"
  },
  "language_info": {
   "codemirror_mode": {
    "name": "ipython",
    "version": 3
   },
   "file_extension": ".py",
   "mimetype": "text/x-python",
   "name": "python",
   "nbconvert_exporter": "python",
   "pygments_lexer": "ipython3",
   "version": "3.7.4"
  }
 },
 "nbformat": 4,
 "nbformat_minor": 2
}
