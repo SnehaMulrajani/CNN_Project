{
 "cells": [
  {
   "cell_type": "code",
   "execution_count": 1,
   "metadata": {},
   "outputs": [],
   "source": [
    "import pandas as pd\n",
    "from matplotlib import pyplot as plt\n",
    "%matplotlib inline\n",
    "import numpy as np\n",
    "import time\n",
    "from sklearn.preprocessing import MinMaxScaler\n",
    "import tensorflow as tf\n",
    "from tensorflow.keras import datasets, layers, models\n",
    "from sklearn.model_selection import train_test_split"
   ]
  },
  {
   "cell_type": "code",
   "execution_count": 2,
   "metadata": {},
   "outputs": [
    {
     "data": {
      "text/plain": [
       "[]"
      ]
     },
     "execution_count": 2,
     "metadata": {},
     "output_type": "execute_result"
    }
   ],
   "source": [
    "df = pd.read_csv('E:\\SnehaWork\\AIProject\\Dataset\\Customer-Churn.csv')\n",
    "df.columns[df.isna().any()].tolist() "
   ]
  },
  {
   "cell_type": "code",
   "execution_count": 3,
   "metadata": {},
   "outputs": [
    {
     "name": "stdout",
     "output_type": "stream",
     "text": [
      "5174 1869\n"
     ]
    }
   ],
   "source": [
    "Churned = df[df.Churn == 'Yes']\n",
    "NonChurned = df[df.Churn == 'No']\n",
    "\n",
    "number_of_Churned = len(Churned)\n",
    "number_of_NonChurned = len(NonChurned)\n",
    "\n",
    "Churned_percentage = round((number_of_Churned / (number_of_Churned + number_of_NonChurned)) * 100, 2)\n",
    "valid_percentage = round((number_of_NonChurned / (number_of_Churned + number_of_NonChurned)) * 100, 2)\n",
    "print(number_of_NonChurned,number_of_Churned)\n",
    "#df.columns.tolist()"
   ]
  },
  {
   "cell_type": "code",
   "execution_count": 4,
   "metadata": {},
   "outputs": [],
   "source": [
    "#df.dtypes\n",
    "#count yes and no on base data, train and test"
   ]
  },
  {
   "cell_type": "code",
   "execution_count": 5,
   "metadata": {},
   "outputs": [],
   "source": [
    "df.drop('customerID',axis='columns',inplace=True)"
   ]
  },
  {
   "cell_type": "code",
   "execution_count": 6,
   "metadata": {},
   "outputs": [
    {
     "data": {
      "text/plain": [
       "(11, 20)"
      ]
     },
     "execution_count": 6,
     "metadata": {},
     "output_type": "execute_result"
    }
   ],
   "source": [
    "#error='coerce' ignores the errors. Conversion for all except for error values i.e. empty spaces. \n",
    "#.isnull() gives columns which have empty spaces\n",
    "#shows the data which has TotalCharges as null. Good to drop these\n",
    "df.columns[df.isnull().any()].tolist() \n",
    "df[pd.to_numeric(df.TotalCharges,errors='coerce').isnull()].shape"
   ]
  },
  {
   "cell_type": "code",
   "execution_count": 7,
   "metadata": {},
   "outputs": [],
   "source": [
    "#Drop rows with TotalCharges as null\n",
    "\n",
    "df1 = df[df.TotalCharges!=' ']"
   ]
  },
  {
   "cell_type": "code",
   "execution_count": 8,
   "metadata": {},
   "outputs": [
    {
     "name": "stderr",
     "output_type": "stream",
     "text": [
      "C:\\Users\\USER\\Anaconda3\\lib\\site-packages\\pandas\\core\\generic.py:5208: SettingWithCopyWarning: \n",
      "A value is trying to be set on a copy of a slice from a DataFrame.\n",
      "Try using .loc[row_indexer,col_indexer] = value instead\n",
      "\n",
      "See the caveats in the documentation: http://pandas.pydata.org/pandas-docs/stable/user_guide/indexing.html#returning-a-view-versus-a-copy\n",
      "  self[name] = value\n"
     ]
    }
   ],
   "source": [
    "df1.TotalCharges = pd.to_numeric(df1.TotalCharges)"
   ]
  },
  {
   "cell_type": "code",
   "execution_count": 9,
   "metadata": {},
   "outputs": [
    {
     "name": "stderr",
     "output_type": "stream",
     "text": [
      "C:\\Users\\USER\\Anaconda3\\lib\\site-packages\\pandas\\core\\frame.py:4263: SettingWithCopyWarning: \n",
      "A value is trying to be set on a copy of a slice from a DataFrame\n",
      "\n",
      "See the caveats in the documentation: http://pandas.pydata.org/pandas-docs/stable/user_guide/indexing.html#returning-a-view-versus-a-copy\n",
      "  method=method,\n"
     ]
    }
   ],
   "source": [
    "df1.replace('No internet service','No',inplace=True)\n",
    "df1.replace('No phone service','No',inplace=True)"
   ]
  },
  {
   "cell_type": "code",
   "execution_count": 10,
   "metadata": {},
   "outputs": [
    {
     "name": "stderr",
     "output_type": "stream",
     "text": [
      "C:\\Users\\USER\\Anaconda3\\lib\\site-packages\\pandas\\core\\generic.py:6786: SettingWithCopyWarning: \n",
      "A value is trying to be set on a copy of a slice from a DataFrame\n",
      "\n",
      "See the caveats in the documentation: http://pandas.pydata.org/pandas-docs/stable/user_guide/indexing.html#returning-a-view-versus-a-copy\n",
      "  self._update_inplace(new_data)\n"
     ]
    }
   ],
   "source": [
    "#replace Yes/No to 1/0 since ML doesn't understand text\n",
    "\n",
    "yes_no_columns = ['Partner','Dependents','PhoneService','MultipleLines','OnlineSecurity','OnlineBackup',\n",
    "                  'DeviceProtection','TechSupport','StreamingTV','StreamingMovies','PaperlessBilling','Churn']\n",
    "\n",
    "for col in yes_no_columns:\n",
    "    df1[col].replace({'Yes': 1,'No': 0},inplace=True)"
   ]
  },
  {
   "cell_type": "code",
   "execution_count": 11,
   "metadata": {},
   "outputs": [],
   "source": [
    "df1['gender'].replace({'Male':1,'Female':0},inplace=True)"
   ]
  },
  {
   "cell_type": "code",
   "execution_count": 12,
   "metadata": {},
   "outputs": [],
   "source": [
    "#One hot encoding for multiclass i.e. InternetService, Contract, PaymentMethod\n",
    "\n",
    "multiclass_col=['InternetService', 'Contract', 'PaymentMethod']\n",
    "df1 = pd.get_dummies(data=df1,columns=multiclass_col)"
   ]
  },
  {
   "cell_type": "code",
   "execution_count": 13,
   "metadata": {},
   "outputs": [],
   "source": [
    "#scaling the values between 1 and 0 for below\n",
    "cols_to_scale = ['tenure','MonthlyCharges','TotalCharges']\n",
    "\n",
    "#MinMaxScaler scales the data between 0 and 1\n",
    "scaler = MinMaxScaler()\n",
    "\n",
    "df1[cols_to_scale] = scaler.fit_transform(df1[cols_to_scale])"
   ]
  },
  {
   "cell_type": "code",
   "execution_count": 14,
   "metadata": {},
   "outputs": [],
   "source": [
    "def print_unique_col_values(df):\n",
    "    for column in df:\n",
    "        print(f'{column} : {df[column].unique()}')"
   ]
  },
  {
   "cell_type": "code",
   "execution_count": 15,
   "metadata": {},
   "outputs": [
    {
     "name": "stdout",
     "output_type": "stream",
     "text": [
      "gender : [0 1]\n",
      "SeniorCitizen : [0 1]\n",
      "Partner : [1 0]\n",
      "Dependents : [0 1]\n",
      "tenure : [0.         0.46478873 0.01408451 0.61971831 0.09859155 0.29577465\n",
      " 0.12676056 0.38028169 0.85915493 0.16901408 0.21126761 0.8028169\n",
      " 0.67605634 0.33802817 0.95774648 0.71830986 0.98591549 0.28169014\n",
      " 0.15492958 0.4084507  0.64788732 1.         0.22535211 0.36619718\n",
      " 0.05633803 0.63380282 0.14084507 0.97183099 0.87323944 0.5915493\n",
      " 0.1971831  0.83098592 0.23943662 0.91549296 0.11267606 0.02816901\n",
      " 0.42253521 0.69014085 0.88732394 0.77464789 0.08450704 0.57746479\n",
      " 0.47887324 0.66197183 0.3943662  0.90140845 0.52112676 0.94366197\n",
      " 0.43661972 0.76056338 0.50704225 0.49295775 0.56338028 0.07042254\n",
      " 0.04225352 0.45070423 0.92957746 0.30985915 0.78873239 0.84507042\n",
      " 0.18309859 0.26760563 0.73239437 0.54929577 0.81690141 0.32394366\n",
      " 0.6056338  0.25352113 0.74647887 0.70422535 0.35211268 0.53521127]\n",
      "PhoneService : [0 1]\n",
      "MultipleLines : [0 1]\n",
      "OnlineSecurity : [0 1]\n",
      "OnlineBackup : [1 0]\n",
      "DeviceProtection : [0 1]\n",
      "TechSupport : [0 1]\n",
      "StreamingTV : [0 1]\n",
      "StreamingMovies : [0 1]\n",
      "PaperlessBilling : [1 0]\n",
      "MonthlyCharges : [0.11542289 0.38507463 0.35422886 ... 0.44626866 0.25820896 0.60149254]\n",
      "TotalCharges : [0.0012751  0.21586661 0.01031041 ... 0.03780868 0.03321025 0.78764136]\n",
      "Churn : [0 1]\n",
      "InternetService_DSL : [1 0]\n",
      "InternetService_Fiber optic : [0 1]\n",
      "InternetService_No : [0 1]\n",
      "Contract_Month-to-month : [1 0]\n",
      "Contract_One year : [0 1]\n",
      "Contract_Two year : [0 1]\n",
      "PaymentMethod_Bank transfer (automatic) : [0 1]\n",
      "PaymentMethod_Credit card (automatic) : [0 1]\n",
      "PaymentMethod_Electronic check : [1 0]\n",
      "PaymentMethod_Mailed check : [0 1]\n"
     ]
    }
   ],
   "source": [
    "print_unique_col_values(df1)"
   ]
  },
  {
   "cell_type": "code",
   "execution_count": 16,
   "metadata": {},
   "outputs": [
    {
     "name": "stderr",
     "output_type": "stream",
     "text": [
      "Using TensorFlow backend.\n"
     ]
    }
   ],
   "source": [
    "from imblearn import over_sampling"
   ]
  },
  {
   "cell_type": "code",
   "execution_count": 23,
   "metadata": {},
   "outputs": [],
   "source": [
    "from imblearn.over_sampling import RandomOverSampler\n",
    "ros = RandomOverSampler(random_state=0)\n",
    "X_train,y_train = ros.fit_resample(X_train_tbc,y_train_tbc)\n",
    "#print(sorted(Counter(y_train).item()),y_train.shape)"
   ]
  },
  {
   "cell_type": "code",
   "execution_count": 25,
   "metadata": {},
   "outputs": [
    {
     "data": {
      "text/plain": [
       "(8260,)"
      ]
     },
     "execution_count": 25,
     "metadata": {},
     "output_type": "execute_result"
    }
   ],
   "source": [
    "y_train.shape\n"
   ]
  },
  {
   "cell_type": "code",
   "execution_count": 17,
   "metadata": {},
   "outputs": [],
   "source": [
    "# Class count\n",
    "count_class_0, count_class_1 = df1.Churn.value_counts()\n",
    "\n",
    "# Divide by class\n",
    "df_class_0 = df1[df1['Churn'] == 0]\n",
    "df_class_1 = df1[df1['Churn'] == 1]"
   ]
  },
  {
   "cell_type": "code",
   "execution_count": 18,
   "metadata": {},
   "outputs": [
    {
     "name": "stdout",
     "output_type": "stream",
     "text": [
      "Random over-sampling:\n",
      "1    5163\n",
      "0    5163\n",
      "Name: Churn, dtype: int64\n"
     ]
    }
   ],
   "source": [
    "# Oversample 1-class and concat the DataFrames of both classes\n",
    "df_class_1_over = df_class_1.sample(count_class_0, replace=True)\n",
    "df_test_over = pd.concat([df_class_0, df_class_1_over], axis=0)\n",
    "\n",
    "print('Random over-sampling:')\n",
    "print(df_test_over.Churn.value_counts())"
   ]
  },
  {
   "cell_type": "code",
   "execution_count": 16,
   "metadata": {},
   "outputs": [],
   "source": [
    "X = df1.drop('Churn',axis='columns')\n",
    "y = df1['Churn']\n",
    "\n",
    "X_train_tbc, X_test, y_train_tbc, y_test = train_test_split(X, y, test_size=0.2, random_state=15,stratify=y)"
   ]
  },
  {
   "cell_type": "code",
   "execution_count": 26,
   "metadata": {},
   "outputs": [],
   "source": [
    "X_train, X_val, y_train, y_val = train_test_split(X_train, y_train, test_size=0.2, random_state=15)\n",
    "#X_val.shape"
   ]
  },
  {
   "cell_type": "code",
   "execution_count": 28,
   "metadata": {},
   "outputs": [
    {
     "ename": "AttributeError",
     "evalue": "'numpy.ndarray' object has no attribute 'value_counts'",
     "output_type": "error",
     "traceback": [
      "\u001b[1;31m---------------------------------------------------------------------------\u001b[0m",
      "\u001b[1;31mAttributeError\u001b[0m                            Traceback (most recent call last)",
      "\u001b[1;32m<ipython-input-28-a87fb465f5c2>\u001b[0m in \u001b[0;36m<module>\u001b[1;34m\u001b[0m\n\u001b[0;32m      1\u001b[0m \u001b[1;31m# Number of classes in training Data\u001b[0m\u001b[1;33m\u001b[0m\u001b[1;33m\u001b[0m\u001b[1;33m\u001b[0m\u001b[0m\n\u001b[1;32m----> 2\u001b[1;33m \u001b[0my_val\u001b[0m\u001b[1;33m.\u001b[0m\u001b[0mvalue_counts\u001b[0m\u001b[1;33m(\u001b[0m\u001b[1;33m)\u001b[0m\u001b[1;33m\u001b[0m\u001b[1;33m\u001b[0m\u001b[0m\n\u001b[0m",
      "\u001b[1;31mAttributeError\u001b[0m: 'numpy.ndarray' object has no attribute 'value_counts'"
     ]
    }
   ],
   "source": [
    "# Number of classes in training Data\n",
    "y_val.value_counts()"
   ]
  },
  {
   "cell_type": "code",
   "execution_count": 29,
   "metadata": {},
   "outputs": [
    {
     "data": {
      "text/plain": [
       "26"
      ]
     },
     "execution_count": 29,
     "metadata": {},
     "output_type": "execute_result"
    }
   ],
   "source": [
    "num_of_cols = len(X.columns)\n",
    "num_of_cols"
   ]
  },
  {
   "cell_type": "code",
   "execution_count": 31,
   "metadata": {},
   "outputs": [],
   "source": [
    "X_train=X_train.reshape(X_train.shape[0],num_of_cols, 1).astype('float32') \n",
    "X_test=X_test.values.reshape(X_test.shape[0],num_of_cols, 1).astype('float32')\n",
    "X_val=X_val.reshape(X_val.shape[0],num_of_cols, 1).astype('float32')\n",
    "\n",
    "#sometimes works as X_val.values.reshape(X_val.shape[0],26, 1).astype('float32')"
   ]
  },
  {
   "cell_type": "code",
   "execution_count": 32,
   "metadata": {},
   "outputs": [
    {
     "data": {
      "text/plain": [
       "(1407, 26, 1)"
      ]
     },
     "execution_count": 32,
     "metadata": {},
     "output_type": "execute_result"
    }
   ],
   "source": [
    "X_test.shape\n"
   ]
  },
  {
   "cell_type": "code",
   "execution_count": 70,
   "metadata": {},
   "outputs": [
    {
     "name": "stdout",
     "output_type": "stream",
     "text": [
      "Model: \"sequential_7\"\n",
      "_________________________________________________________________\n",
      "Layer (type)                 Output Shape              Param #   \n",
      "=================================================================\n",
      "conv1d_14 (Conv1D)           (None, 24, 128)           512       \n",
      "_________________________________________________________________\n",
      "max_pooling1d_14 (MaxPooling (None, 8, 128)            0         \n",
      "_________________________________________________________________\n",
      "conv1d_15 (Conv1D)           (None, 6, 128)            49280     \n",
      "_________________________________________________________________\n",
      "spatial_dropout1d_1 (Spatial (None, 6, 128)            0         \n",
      "_________________________________________________________________\n",
      "max_pooling1d_15 (MaxPooling (None, 2, 128)            0         \n",
      "_________________________________________________________________\n",
      "dropout_7 (Dropout)          (None, 2, 128)            0         \n",
      "_________________________________________________________________\n",
      "flatten_7 (Flatten)          (None, 256)               0         \n",
      "_________________________________________________________________\n",
      "dense_14 (Dense)             (None, 20)                5140      \n",
      "_________________________________________________________________\n",
      "dense_15 (Dense)             (None, 1)                 21        \n",
      "=================================================================\n",
      "Total params: 54,953\n",
      "Trainable params: 54,953\n",
      "Non-trainable params: 0\n",
      "_________________________________________________________________\n",
      "Train on 6608 samples, validate on 1652 samples\n",
      "Epoch 1/100\n",
      "6608/6608 [==============================] - 3s 463us/sample - loss: 0.6880 - accuracy: 0.5475 - val_loss: 0.6667 - val_accuracy: 0.6961\n",
      "Epoch 2/100\n",
      "6608/6608 [==============================] - 1s 193us/sample - loss: 0.6553 - accuracy: 0.6300 - val_loss: 0.6138 - val_accuracy: 0.7476\n",
      "Epoch 3/100\n",
      "6608/6608 [==============================] - 1s 186us/sample - loss: 0.6126 - accuracy: 0.6899 - val_loss: 0.5578 - val_accuracy: 0.7554\n",
      "Epoch 4/100\n",
      "6608/6608 [==============================] - 1s 184us/sample - loss: 0.5820 - accuracy: 0.7111 - val_loss: 0.5301 - val_accuracy: 0.7561\n",
      "Epoch 5/100\n",
      "6608/6608 [==============================] - 1s 183us/sample - loss: 0.5659 - accuracy: 0.7303 - val_loss: 0.5203 - val_accuracy: 0.7615\n",
      "Epoch 6/100\n",
      "6608/6608 [==============================] - 1s 223us/sample - loss: 0.5511 - accuracy: 0.7331 - val_loss: 0.5065 - val_accuracy: 0.7651\n",
      "Epoch 7/100\n",
      "6608/6608 [==============================] - 1s 210us/sample - loss: 0.5448 - accuracy: 0.7396 - val_loss: 0.5002 - val_accuracy: 0.7730\n",
      "Epoch 8/100\n",
      "6608/6608 [==============================] - 2s 236us/sample - loss: 0.5349 - accuracy: 0.7450 - val_loss: 0.4919 - val_accuracy: 0.7748\n",
      "Epoch 9/100\n",
      "6608/6608 [==============================] - 2s 240us/sample - loss: 0.5382 - accuracy: 0.7399 - val_loss: 0.4912 - val_accuracy: 0.7706\n",
      "Epoch 10/100\n",
      "6608/6608 [==============================] - 1s 202us/sample - loss: 0.5313 - accuracy: 0.7461 - val_loss: 0.4884 - val_accuracy: 0.7742\n",
      "Epoch 11/100\n",
      "6608/6608 [==============================] - 2s 232us/sample - loss: 0.5257 - accuracy: 0.7473 - val_loss: 0.4854 - val_accuracy: 0.7742\n",
      "Epoch 12/100\n",
      "6608/6608 [==============================] - 2s 249us/sample - loss: 0.5205 - accuracy: 0.7524 - val_loss: 0.4820 - val_accuracy: 0.7712\n",
      "Epoch 13/100\n",
      "6608/6608 [==============================] - 2s 238us/sample - loss: 0.5189 - accuracy: 0.7486 - val_loss: 0.4806 - val_accuracy: 0.7754\n",
      "Epoch 14/100\n",
      "6608/6608 [==============================] - 1s 218us/sample - loss: 0.5202 - accuracy: 0.7489 - val_loss: 0.4765 - val_accuracy: 0.7772\n",
      "Epoch 15/100\n",
      "6608/6608 [==============================] - 2s 242us/sample - loss: 0.5141 - accuracy: 0.7521 - val_loss: 0.4784 - val_accuracy: 0.7730\n",
      "Epoch 16/100\n",
      "6608/6608 [==============================] - 2s 229us/sample - loss: 0.5135 - accuracy: 0.7551 - val_loss: 0.4789 - val_accuracy: 0.7712\n",
      "Epoch 17/100\n",
      "6608/6608 [==============================] - 2s 239us/sample - loss: 0.5105 - accuracy: 0.7498 - val_loss: 0.4738 - val_accuracy: 0.7766\n",
      "Epoch 18/100\n",
      "6608/6608 [==============================] - 1s 205us/sample - loss: 0.5095 - accuracy: 0.7623 - val_loss: 0.4737 - val_accuracy: 0.7785\n",
      "Epoch 19/100\n",
      "6608/6608 [==============================] - 1s 205us/sample - loss: 0.5032 - accuracy: 0.7548 - val_loss: 0.4714 - val_accuracy: 0.7791\n",
      "Epoch 20/100\n",
      "6608/6608 [==============================] - 1s 205us/sample - loss: 0.4987 - accuracy: 0.7601 - val_loss: 0.4694 - val_accuracy: 0.7821\n",
      "Epoch 21/100\n",
      "6608/6608 [==============================] - 1s 194us/sample - loss: 0.5086 - accuracy: 0.7565 - val_loss: 0.4708 - val_accuracy: 0.7754\n",
      "Epoch 22/100\n",
      "6608/6608 [==============================] - 1s 189us/sample - loss: 0.5042 - accuracy: 0.7562 - val_loss: 0.4689 - val_accuracy: 0.7803\n",
      "Epoch 23/100\n",
      "6608/6608 [==============================] - 1s 188us/sample - loss: 0.5028 - accuracy: 0.7562 - val_loss: 0.4722 - val_accuracy: 0.7760\n",
      "Epoch 24/100\n",
      "6608/6608 [==============================] - 1s 194us/sample - loss: 0.5038 - accuracy: 0.7609 - val_loss: 0.4721 - val_accuracy: 0.7815\n",
      "Epoch 25/100\n",
      "6608/6608 [==============================] - 1s 189us/sample - loss: 0.4940 - accuracy: 0.7692 - val_loss: 0.4672 - val_accuracy: 0.7821\n",
      "Epoch 26/100\n",
      "6608/6608 [==============================] - 1s 189us/sample - loss: 0.5009 - accuracy: 0.7582 - val_loss: 0.4704 - val_accuracy: 0.7791\n",
      "Epoch 27/100\n",
      "6608/6608 [==============================] - 1s 187us/sample - loss: 0.5010 - accuracy: 0.7562 - val_loss: 0.4683 - val_accuracy: 0.7791\n",
      "Epoch 28/100\n",
      "6608/6608 [==============================] - 1s 189us/sample - loss: 0.5042 - accuracy: 0.7561 - val_loss: 0.4694 - val_accuracy: 0.7785\n",
      "Epoch 29/100\n",
      "6608/6608 [==============================] - 1s 190us/sample - loss: 0.4955 - accuracy: 0.7633 - val_loss: 0.4667 - val_accuracy: 0.7797\n",
      "Epoch 30/100\n",
      "6608/6608 [==============================] - 1s 187us/sample - loss: 0.4962 - accuracy: 0.7606 - val_loss: 0.4665 - val_accuracy: 0.7833\n",
      "Epoch 31/100\n",
      "6608/6608 [==============================] - 1s 190us/sample - loss: 0.4975 - accuracy: 0.7603 - val_loss: 0.4665 - val_accuracy: 0.7797\n",
      "Epoch 32/100\n",
      "6608/6608 [==============================] - 1s 204us/sample - loss: 0.4959 - accuracy: 0.7633 - val_loss: 0.4674 - val_accuracy: 0.7791\n",
      "Epoch 33/100\n",
      "6608/6608 [==============================] - 1s 194us/sample - loss: 0.5003 - accuracy: 0.7604 - val_loss: 0.4675 - val_accuracy: 0.7839\n",
      "Epoch 34/100\n",
      "6608/6608 [==============================] - 1s 186us/sample - loss: 0.4922 - accuracy: 0.7651 - val_loss: 0.4674 - val_accuracy: 0.7833\n",
      "Epoch 35/100\n",
      "6608/6608 [==============================] - 1s 187us/sample - loss: 0.4902 - accuracy: 0.7647 - val_loss: 0.4671 - val_accuracy: 0.7857\n",
      "Epoch 36/100\n",
      "6608/6608 [==============================] - 1s 191us/sample - loss: 0.4947 - accuracy: 0.7641 - val_loss: 0.4658 - val_accuracy: 0.7869\n",
      "Epoch 37/100\n",
      "6608/6608 [==============================] - 1s 190us/sample - loss: 0.4913 - accuracy: 0.7677 - val_loss: 0.4636 - val_accuracy: 0.7912\n",
      "Epoch 38/100\n",
      "6608/6608 [==============================] - 1s 193us/sample - loss: 0.4950 - accuracy: 0.7644 - val_loss: 0.4658 - val_accuracy: 0.7839\n",
      "Epoch 39/100\n",
      "6608/6608 [==============================] - 1s 193us/sample - loss: 0.4894 - accuracy: 0.7626 - val_loss: 0.4647 - val_accuracy: 0.7833\n",
      "Epoch 40/100\n",
      "6608/6608 [==============================] - 1s 195us/sample - loss: 0.4893 - accuracy: 0.7695 - val_loss: 0.4634 - val_accuracy: 0.7893\n",
      "Epoch 41/100\n",
      "6608/6608 [==============================] - 1s 192us/sample - loss: 0.4898 - accuracy: 0.7676 - val_loss: 0.4661 - val_accuracy: 0.7827\n",
      "Epoch 42/100\n",
      "6608/6608 [==============================] - 1s 191us/sample - loss: 0.4923 - accuracy: 0.7641 - val_loss: 0.4637 - val_accuracy: 0.7863\n",
      "Epoch 43/100\n",
      "6608/6608 [==============================] - 1s 191us/sample - loss: 0.4906 - accuracy: 0.7660 - val_loss: 0.4625 - val_accuracy: 0.7906\n",
      "Epoch 44/100\n",
      "6608/6608 [==============================] - 1s 196us/sample - loss: 0.4913 - accuracy: 0.7636 - val_loss: 0.4648 - val_accuracy: 0.7845\n",
      "Epoch 45/100\n"
     ]
    },
    {
     "name": "stdout",
     "output_type": "stream",
     "text": [
      "6608/6608 [==============================] - 1s 194us/sample - loss: 0.4884 - accuracy: 0.7719 - val_loss: 0.4636 - val_accuracy: 0.7845\n",
      "Epoch 46/100\n",
      "6608/6608 [==============================] - 1s 176us/sample - loss: 0.4853 - accuracy: 0.7665 - val_loss: 0.4658 - val_accuracy: 0.7869\n",
      "Epoch 47/100\n",
      "6608/6608 [==============================] - 1s 177us/sample - loss: 0.4912 - accuracy: 0.7650 - val_loss: 0.4611 - val_accuracy: 0.7869\n",
      "Epoch 48/100\n",
      "6608/6608 [==============================] - 1s 179us/sample - loss: 0.4912 - accuracy: 0.7704 - val_loss: 0.4625 - val_accuracy: 0.7906\n",
      "Epoch 49/100\n",
      "6608/6608 [==============================] - 1s 180us/sample - loss: 0.4884 - accuracy: 0.7692 - val_loss: 0.4623 - val_accuracy: 0.7912\n",
      "Epoch 50/100\n",
      "6608/6608 [==============================] - 1s 186us/sample - loss: 0.4840 - accuracy: 0.7709 - val_loss: 0.4621 - val_accuracy: 0.7869\n",
      "Epoch 51/100\n",
      "6608/6608 [==============================] - 1s 210us/sample - loss: 0.4935 - accuracy: 0.7689 - val_loss: 0.4608 - val_accuracy: 0.7869\n",
      "Epoch 52/100\n",
      "6608/6608 [==============================] - 1s 224us/sample - loss: 0.4830 - accuracy: 0.7725 - val_loss: 0.4626 - val_accuracy: 0.7851\n",
      "Epoch 53/100\n",
      "6608/6608 [==============================] - 1s 217us/sample - loss: 0.4865 - accuracy: 0.7657 - val_loss: 0.4613 - val_accuracy: 0.7869\n",
      "Epoch 54/100\n",
      "6608/6608 [==============================] - 2s 231us/sample - loss: 0.4876 - accuracy: 0.7704 - val_loss: 0.4582 - val_accuracy: 0.7875\n",
      "Epoch 55/100\n",
      "6608/6608 [==============================] - 2s 231us/sample - loss: 0.4856 - accuracy: 0.7691 - val_loss: 0.4626 - val_accuracy: 0.7833\n",
      "Epoch 56/100\n",
      "6608/6608 [==============================] - 2s 232us/sample - loss: 0.4874 - accuracy: 0.7698 - val_loss: 0.4579 - val_accuracy: 0.7893\n",
      "Epoch 57/100\n",
      "6608/6608 [==============================] - 2s 254us/sample - loss: 0.4895 - accuracy: 0.7638 - val_loss: 0.4607 - val_accuracy: 0.7869\n",
      "Epoch 58/100\n",
      "6608/6608 [==============================] - 2s 228us/sample - loss: 0.4898 - accuracy: 0.7688 - val_loss: 0.4622 - val_accuracy: 0.7839\n",
      "Epoch 59/100\n",
      "6608/6608 [==============================] - 1s 207us/sample - loss: 0.4839 - accuracy: 0.7713 - val_loss: 0.4575 - val_accuracy: 0.7893\n",
      "Epoch 60/100\n",
      "6608/6608 [==============================] - 1s 197us/sample - loss: 0.4878 - accuracy: 0.7694 - val_loss: 0.4598 - val_accuracy: 0.7906\n",
      "Epoch 61/100\n",
      "6608/6608 [==============================] - 1s 184us/sample - loss: 0.4822 - accuracy: 0.7671 - val_loss: 0.4572 - val_accuracy: 0.7875\n",
      "Epoch 62/100\n",
      "6608/6608 [==============================] - 1s 180us/sample - loss: 0.4813 - accuracy: 0.7706 - val_loss: 0.4595 - val_accuracy: 0.7893\n",
      "Epoch 63/100\n",
      "6608/6608 [==============================] - 1s 178us/sample - loss: 0.4866 - accuracy: 0.7689 - val_loss: 0.4577 - val_accuracy: 0.7881\n",
      "Epoch 64/100\n",
      "6608/6608 [==============================] - 1s 179us/sample - loss: 0.4793 - accuracy: 0.7683 - val_loss: 0.4569 - val_accuracy: 0.7936\n",
      "Epoch 65/100\n",
      "6608/6608 [==============================] - 1s 184us/sample - loss: 0.4810 - accuracy: 0.7745 - val_loss: 0.4585 - val_accuracy: 0.7936\n",
      "Epoch 66/100\n",
      "6608/6608 [==============================] - 1s 211us/sample - loss: 0.4815 - accuracy: 0.7713 - val_loss: 0.4585 - val_accuracy: 0.7930\n",
      "Epoch 67/100\n",
      "6608/6608 [==============================] - 1s 193us/sample - loss: 0.4830 - accuracy: 0.7645 - val_loss: 0.4559 - val_accuracy: 0.7912\n",
      "Epoch 68/100\n",
      "6608/6608 [==============================] - 1s 216us/sample - loss: 0.4809 - accuracy: 0.7735 - val_loss: 0.4568 - val_accuracy: 0.7887\n",
      "Epoch 69/100\n",
      "6608/6608 [==============================] - 1s 205us/sample - loss: 0.4863 - accuracy: 0.7682 - val_loss: 0.4579 - val_accuracy: 0.7960\n",
      "Epoch 70/100\n",
      "6608/6608 [==============================] - 1s 182us/sample - loss: 0.4812 - accuracy: 0.7695 - val_loss: 0.4561 - val_accuracy: 0.7954\n",
      "Epoch 71/100\n",
      "6608/6608 [==============================] - 1s 183us/sample - loss: 0.4800 - accuracy: 0.7729 - val_loss: 0.4580 - val_accuracy: 0.7966\n",
      "Epoch 72/100\n",
      "6608/6608 [==============================] - 1s 190us/sample - loss: 0.4787 - accuracy: 0.7698 - val_loss: 0.4558 - val_accuracy: 0.7948\n",
      "Epoch 73/100\n",
      "6608/6608 [==============================] - 1s 184us/sample - loss: 0.4805 - accuracy: 0.7707 - val_loss: 0.4576 - val_accuracy: 0.7900\n",
      "Epoch 74/100\n",
      "6608/6608 [==============================] - 1s 178us/sample - loss: 0.4759 - accuracy: 0.7719 - val_loss: 0.4549 - val_accuracy: 0.7851\n",
      "Epoch 75/100\n",
      "6608/6608 [==============================] - 1s 174us/sample - loss: 0.4798 - accuracy: 0.7709 - val_loss: 0.4577 - val_accuracy: 0.7924\n",
      "Epoch 76/100\n",
      "6608/6608 [==============================] - 1s 183us/sample - loss: 0.4851 - accuracy: 0.7712 - val_loss: 0.4555 - val_accuracy: 0.7906\n",
      "Epoch 77/100\n",
      "6608/6608 [==============================] - 1s 175us/sample - loss: 0.4759 - accuracy: 0.7722 - val_loss: 0.4536 - val_accuracy: 0.7918\n",
      "Epoch 78/100\n",
      "6608/6608 [==============================] - 1s 180us/sample - loss: 0.4755 - accuracy: 0.7741 - val_loss: 0.4564 - val_accuracy: 0.7900\n",
      "Epoch 79/100\n",
      "6608/6608 [==============================] - 1s 176us/sample - loss: 0.4761 - accuracy: 0.7744 - val_loss: 0.4594 - val_accuracy: 0.7912\n",
      "Epoch 80/100\n",
      "6608/6608 [==============================] - 1s 183us/sample - loss: 0.4764 - accuracy: 0.7739 - val_loss: 0.4552 - val_accuracy: 0.7857\n",
      "Epoch 81/100\n",
      "6608/6608 [==============================] - 1s 188us/sample - loss: 0.4784 - accuracy: 0.7765 - val_loss: 0.4535 - val_accuracy: 0.7906\n",
      "Epoch 82/100\n",
      "6608/6608 [==============================] - 1s 191us/sample - loss: 0.4769 - accuracy: 0.7707 - val_loss: 0.4546 - val_accuracy: 0.7893\n",
      "Epoch 83/100\n",
      "6608/6608 [==============================] - 1s 176us/sample - loss: 0.4743 - accuracy: 0.7760 - val_loss: 0.4520 - val_accuracy: 0.7912\n",
      "Epoch 84/100\n",
      "6608/6608 [==============================] - 1s 178us/sample - loss: 0.4728 - accuracy: 0.7775 - val_loss: 0.4569 - val_accuracy: 0.7936\n",
      "Epoch 85/100\n",
      "6608/6608 [==============================] - 1s 179us/sample - loss: 0.4748 - accuracy: 0.7774 - val_loss: 0.4539 - val_accuracy: 0.7930\n",
      "Epoch 86/100\n",
      "6608/6608 [==============================] - 1s 176us/sample - loss: 0.4697 - accuracy: 0.7803 - val_loss: 0.4535 - val_accuracy: 0.7906.4741 - ac\n",
      "Epoch 87/100\n",
      "6608/6608 [==============================] - 1s 176us/sample - loss: 0.4772 - accuracy: 0.7735 - val_loss: 0.4547 - val_accuracy: 0.7893\n",
      "Epoch 88/100\n",
      "6608/6608 [==============================] - 1s 179us/sample - loss: 0.4760 - accuracy: 0.7748 - val_loss: 0.4548 - val_accuracy: 0.7906\n",
      "Epoch 89/100\n",
      "6608/6608 [==============================] - 1s 189us/sample - loss: 0.4767 - accuracy: 0.7763 - val_loss: 0.4528 - val_accuracy: 0.7906\n",
      "Epoch 90/100\n",
      "6608/6608 [==============================] - 1s 184us/sample - loss: 0.4751 - accuracy: 0.7751 - val_loss: 0.4554 - val_accuracy: 0.7906\n",
      "Epoch 91/100\n",
      "6608/6608 [==============================] - 1s 184us/sample - loss: 0.4765 - accuracy: 0.7809 - val_loss: 0.4524 - val_accuracy: 0.7930\n",
      "Epoch 92/100\n",
      "6608/6608 [==============================] - 1s 184us/sample - loss: 0.4716 - accuracy: 0.7771 - val_loss: 0.4530 - val_accuracy: 0.7845\n",
      "Epoch 93/100\n",
      "6608/6608 [==============================] - 1s 183us/sample - loss: 0.4725 - accuracy: 0.7772 - val_loss: 0.4544 - val_accuracy: 0.7942\n",
      "Epoch 94/100\n",
      "6608/6608 [==============================] - 1s 187us/sample - loss: 0.4746 - accuracy: 0.7742 - val_loss: 0.4546 - val_accuracy: 0.7881\n",
      "Epoch 95/100\n",
      "6608/6608 [==============================] - 1s 197us/sample - loss: 0.4744 - accuracy: 0.7730 - val_loss: 0.4514 - val_accuracy: 0.7936\n",
      "Epoch 96/100\n",
      "6608/6608 [==============================] - 1s 183us/sample - loss: 0.4749 - accuracy: 0.7735 - val_loss: 0.4527 - val_accuracy: 0.7924\n",
      "Epoch 97/100\n",
      "6608/6608 [==============================] - 1s 175us/sample - loss: 0.4699 - accuracy: 0.7739 - val_loss: 0.4508 - val_accuracy: 0.7924\n",
      "Epoch 98/100\n",
      "6608/6608 [==============================] - 1s 182us/sample - loss: 0.4693 - accuracy: 0.7813 - val_loss: 0.4503 - val_accuracy: 0.7893\n",
      "Epoch 99/100\n"
     ]
    },
    {
     "name": "stdout",
     "output_type": "stream",
     "text": [
      "6608/6608 [==============================] - 1s 174us/sample - loss: 0.4708 - accuracy: 0.7765 - val_loss: 0.4517 - val_accuracy: 0.7912\n",
      "Epoch 100/100\n",
      "6608/6608 [==============================] - 1s 180us/sample - loss: 0.4734 - accuracy: 0.7738 - val_loss: 0.4526 - val_accuracy: 0.7966\n"
     ]
    }
   ],
   "source": [
    "cnn = models.Sequential([\n",
    "    layers.Conv1D(filters=128, kernel_size=3, activation='relu', input_shape=(26,1)),  \n",
    "    layers.MaxPooling1D(pool_size=3),\n",
    "    \n",
    "    layers.Conv1D(filters=128, kernel_size=3, activation='relu'),\n",
    "    layers.SpatialDropout1D(0.5),\n",
    "    layers.MaxPooling1D(pool_size=3),\n",
    "    layers.Dropout(0.6),\n",
    "    layers.Flatten(),\n",
    "    layers.Dense(20, activation='relu'),\n",
    "    layers.Dense(1, activation='sigmoid')\n",
    "])\n",
    "\n",
    "cnn.summary()\n",
    "#tb_callback = tf.keras.callbacks.TensorBoard(log_dir=log_dir,histogram_freq=0)\n",
    "\n",
    "cnn.compile(optimizer='Adam',loss='binary_crossentropy',metrics=['accuracy'])\n",
    "\n",
    "#cnn.fit(X_train, y_train, epochs=200,validation_split=0.2, batch_size=375,callbacks=[tb_callback]) --80\n",
    "\n",
    "history = cnn.fit(X_train, y_train,epochs=100,validation_data=(X_val,y_val), batch_size=375)"
   ]
  },
  {
   "cell_type": "code",
   "execution_count": 71,
   "metadata": {},
   "outputs": [
    {
     "name": "stdout",
     "output_type": "stream",
     "text": [
      "1407/1407 [==============================] - 0s 53us/sample - loss: 0.4673 - accuracy: 0.7676\n"
     ]
    },
    {
     "data": {
      "text/plain": [
       "[0.4673085959354189, 0.76759064]"
      ]
     },
     "execution_count": 71,
     "metadata": {},
     "output_type": "execute_result"
    }
   ],
   "source": [
    "cnn.evaluate(X_test,y_test,batch_size=375)"
   ]
  },
  {
   "cell_type": "code",
   "execution_count": 62,
   "metadata": {},
   "outputs": [],
   "source": [
    "yp_pred= cnn.predict(X_test)\n",
    "#X_test.isnull()"
   ]
  },
  {
   "cell_type": "code",
   "execution_count": 63,
   "metadata": {},
   "outputs": [],
   "source": [
    "yp_pred = np.round(yp_pred)"
   ]
  },
  {
   "cell_type": "code",
   "execution_count": 72,
   "metadata": {},
   "outputs": [
    {
     "name": "stdout",
     "output_type": "stream",
     "text": [
      "Classification Report: \n",
      "               precision    recall  f1-score   support\n",
      "\n",
      "           0       0.88      0.75      0.81      1033\n",
      "           1       0.51      0.71      0.59       374\n",
      "\n",
      "    accuracy                           0.74      1407\n",
      "   macro avg       0.69      0.73      0.70      1407\n",
      "weighted avg       0.78      0.74      0.75      1407\n",
      "\n"
     ]
    }
   ],
   "source": [
    "from sklearn.metrics import confusion_matrix , classification_report\n",
    "\n",
    "print(\"Classification Report: \\n\", classification_report(y_test, yp_pred))\n"
   ]
  },
  {
   "cell_type": "code",
   "execution_count": 44,
   "metadata": {},
   "outputs": [
    {
     "data": {
      "text/plain": [
       "<tf.Tensor: shape=(2, 2), dtype=int32, numpy=\n",
       "array([[802, 231],\n",
       "       [100, 274]])>"
      ]
     },
     "execution_count": 44,
     "metadata": {},
     "output_type": "execute_result"
    },
    {
     "data": {
      "image/png": "[encoded data removed]",
      "text/plain": [
       "<Figure size 504x288 with 2 Axes>"
      ]
     },
     "metadata": {
      "needs_background": "light"
     },
     "output_type": "display_data"
    }
   ],
   "source": [
    "tf.math.confusion_matrix(labels=y_test,predictions=yp_pred)\n",
    "import seaborn as sn\n",
    "cm = tf.math.confusion_matrix(labels=y_test,predictions=yp_pred)\n",
    "\n",
    "plt.figure(figsize = (7,4))\n",
    "sn.heatmap(cm, annot=True, fmt='d')\n",
    "plt.xlabel('Predicted')\n",
    "plt.ylabel('Truth')\n",
    "tf.math.confusion_matrix(labels=y_test,predictions=yp_pred)"
   ]
  },
  {
   "cell_type": "code",
   "execution_count": 65,
   "metadata": {},
   "outputs": [
    {
     "data": {
      "image/png": "[encoded data removed]",
      "text/plain": [
       "<Figure size 432x288 with 1 Axes>"
      ]
     },
     "metadata": {
      "needs_background": "light"
     },
     "output_type": "display_data"
    }
   ],
   "source": [
    "plt.plot(history.history['accuracy'])\n",
    "plt.plot(history.history['val_accuracy'])\n",
    "plt.title('Model Accuracy')\n",
    "plt.ylabel('Accuracy')\n",
    "plt.xlabel('Epochs')\n",
    "plt.legend(['Train', 'Validation'], loc='upper left')\n",
    "plt.show()"
   ]
  },
  {
   "cell_type": "code",
   "execution_count": 59,
   "metadata": {},
   "outputs": [
    {
     "data": {
      "image/png": "[encoded data removed]",
      "text/plain": [
       "<Figure size 432x288 with 1 Axes>"
      ]
     },
     "metadata": {
      "needs_background": "light"
     },
     "output_type": "display_data"
    }
   ],
   "source": [
    "plt.plot(history.history['loss'])\n",
    "plt.plot(history.history['val_loss'])\n",
    "plt.title('Model Loss')\n",
    "plt.ylabel('Loss')\n",
    "plt.xlabel('Epoch')\n",
    "plt.legend(['Train', 'Valition'], loc='upper left')\n",
    "plt.show()"
   ]
  },
  {
   "cell_type": "code",
   "execution_count": null,
   "metadata": {},
   "outputs": [],
   "source": []
  }
 ],
 "metadata": {
  "kernelspec": {
   "display_name": "Python 3",
   "language": "python",
   "name": "python3"
  },
  "language_info": {
   "codemirror_mode": {
    "name": "ipython",
    "version": 3
   },
   "file_extension": ".py",
   "mimetype": "text/x-python",
   "name": "python",
   "nbconvert_exporter": "python",
   "pygments_lexer": "ipython3",
   "version": "3.7.4"
  }
 },
 "nbformat": 4,
 "nbformat_minor": 2
}
