{
 "cells": [
  {
   "cell_type": "code",
   "execution_count": 18,
   "metadata": {},
   "outputs": [],
   "source": [
    "import pandas as pd\n",
    "from matplotlib import pyplot as plt\n",
    "%matplotlib inline\n",
    "import numpy as np\n",
    "import time\n",
    "from sklearn.preprocessing import MinMaxScaler\n",
    "import tensorflow as tf\n",
    "from tensorflow.keras import datasets, layers, models\n",
    "from sklearn.model_selection import train_test_split"
   ]
  },
  {
   "cell_type": "code",
   "execution_count": 19,
   "metadata": {},
   "outputs": [],
   "source": [
    "df = pd.read_csv('E:\\SnehaWork\\AIProject\\Dataset\\Customer-Churn.csv')"
   ]
  },
  {
   "cell_type": "code",
   "execution_count": 17,
   "metadata": {},
   "outputs": [
    {
     "name": "stdout",
     "output_type": "stream",
     "text": [
      "5174 1869\n"
     ]
    },
    {
     "data": {
      "text/plain": [
       "['SeniorCitizen',\n",
       " 'tenure',\n",
       " 'PhoneService',\n",
       " 'MultipleLines',\n",
       " 'InternetService',\n",
       " 'OnlineSecurity',\n",
       " 'TechSupport',\n",
       " 'Contract',\n",
       " 'PaperlessBilling',\n",
       " 'PaymentMethod',\n",
       " 'Churn']"
      ]
     },
     "execution_count": 17,
     "metadata": {},
     "output_type": "execute_result"
    }
   ],
   "source": [
    "Churned = df[df.Churn == 'Yes']\n",
    "NonChurned = df[df.Churn == 'No']\n",
    "\n",
    "number_of_Churned = len(Churned)\n",
    "number_of_NonChurned = len(NonChurned)\n",
    "\n",
    "Churned_percentage = round((number_of_Churned / (number_of_Churned + number_of_NonChurned)) * 100, 2)\n",
    "valid_percentage = round((number_of_NonChurned / (number_of_Churned + number_of_NonChurned)) * 100, 2)\n",
    "print(number_of_NonChurned,number_of_Churned)\n",
    "df.columns.tolist()"
   ]
  },
  {
   "cell_type": "code",
   "execution_count": 6,
   "metadata": {},
   "outputs": [],
   "source": [
    "#df.dtypes\n",
    "#count yes and no on base data, train and test"
   ]
  },
  {
   "cell_type": "code",
   "execution_count": 21,
   "metadata": {},
   "outputs": [
    {
     "ename": "KeyError",
     "evalue": "\"['customerID' 'gender' 'Partner' 'Dependents' 'OnlineBackup'\\n 'DeviceProtection' 'StreamingTV' 'StreamingMovies' 'MonthlyCharges'\\n 'TotalCharges'] not found in axis\"",
     "output_type": "error",
     "traceback": [
      "\u001b[1;31m---------------------------------------------------------------------------\u001b[0m",
      "\u001b[1;31mKeyError\u001b[0m                                  Traceback (most recent call last)",
      "\u001b[1;32m<ipython-input-21-3e64e28abb6f>\u001b[0m in \u001b[0;36m<module>\u001b[1;34m\u001b[0m\n\u001b[0;32m      9\u001b[0m  \u001b[1;34m'MonthlyCharges'\u001b[0m\u001b[1;33m,\u001b[0m\u001b[1;33m\u001b[0m\u001b[1;33m\u001b[0m\u001b[0m\n\u001b[0;32m     10\u001b[0m  'TotalCharges']\n\u001b[1;32m---> 11\u001b[1;33m \u001b[0mdf\u001b[0m\u001b[1;33m.\u001b[0m\u001b[0mdrop\u001b[0m\u001b[1;33m(\u001b[0m\u001b[0mlist_of_cols\u001b[0m\u001b[1;33m,\u001b[0m\u001b[0maxis\u001b[0m\u001b[1;33m=\u001b[0m\u001b[1;34m'columns'\u001b[0m\u001b[1;33m,\u001b[0m\u001b[0minplace\u001b[0m\u001b[1;33m=\u001b[0m\u001b[1;32mTrue\u001b[0m\u001b[1;33m)\u001b[0m\u001b[1;33m\u001b[0m\u001b[1;33m\u001b[0m\u001b[0m\n\u001b[0m",
      "\u001b[1;32m~\\Anaconda3\\lib\\site-packages\\pandas\\core\\frame.py\u001b[0m in \u001b[0;36mdrop\u001b[1;34m(self, labels, axis, index, columns, level, inplace, errors)\u001b[0m\n\u001b[0;32m   4100\u001b[0m             \u001b[0mlevel\u001b[0m\u001b[1;33m=\u001b[0m\u001b[0mlevel\u001b[0m\u001b[1;33m,\u001b[0m\u001b[1;33m\u001b[0m\u001b[1;33m\u001b[0m\u001b[0m\n\u001b[0;32m   4101\u001b[0m             \u001b[0minplace\u001b[0m\u001b[1;33m=\u001b[0m\u001b[0minplace\u001b[0m\u001b[1;33m,\u001b[0m\u001b[1;33m\u001b[0m\u001b[1;33m\u001b[0m\u001b[0m\n\u001b[1;32m-> 4102\u001b[1;33m             \u001b[0merrors\u001b[0m\u001b[1;33m=\u001b[0m\u001b[0merrors\u001b[0m\u001b[1;33m,\u001b[0m\u001b[1;33m\u001b[0m\u001b[1;33m\u001b[0m\u001b[0m\n\u001b[0m\u001b[0;32m   4103\u001b[0m         )\n\u001b[0;32m   4104\u001b[0m \u001b[1;33m\u001b[0m\u001b[0m\n",
      "\u001b[1;32m~\\Anaconda3\\lib\\site-packages\\pandas\\core\\generic.py\u001b[0m in \u001b[0;36mdrop\u001b[1;34m(self, labels, axis, index, columns, level, inplace, errors)\u001b[0m\n\u001b[0;32m   3912\u001b[0m         \u001b[1;32mfor\u001b[0m \u001b[0maxis\u001b[0m\u001b[1;33m,\u001b[0m \u001b[0mlabels\u001b[0m \u001b[1;32min\u001b[0m \u001b[0maxes\u001b[0m\u001b[1;33m.\u001b[0m\u001b[0mitems\u001b[0m\u001b[1;33m(\u001b[0m\u001b[1;33m)\u001b[0m\u001b[1;33m:\u001b[0m\u001b[1;33m\u001b[0m\u001b[1;33m\u001b[0m\u001b[0m\n\u001b[0;32m   3913\u001b[0m             \u001b[1;32mif\u001b[0m \u001b[0mlabels\u001b[0m \u001b[1;32mis\u001b[0m \u001b[1;32mnot\u001b[0m \u001b[1;32mNone\u001b[0m\u001b[1;33m:\u001b[0m\u001b[1;33m\u001b[0m\u001b[1;33m\u001b[0m\u001b[0m\n\u001b[1;32m-> 3914\u001b[1;33m                 \u001b[0mobj\u001b[0m \u001b[1;33m=\u001b[0m \u001b[0mobj\u001b[0m\u001b[1;33m.\u001b[0m\u001b[0m_drop_axis\u001b[0m\u001b[1;33m(\u001b[0m\u001b[0mlabels\u001b[0m\u001b[1;33m,\u001b[0m \u001b[0maxis\u001b[0m\u001b[1;33m,\u001b[0m \u001b[0mlevel\u001b[0m\u001b[1;33m=\u001b[0m\u001b[0mlevel\u001b[0m\u001b[1;33m,\u001b[0m \u001b[0merrors\u001b[0m\u001b[1;33m=\u001b[0m\u001b[0merrors\u001b[0m\u001b[1;33m)\u001b[0m\u001b[1;33m\u001b[0m\u001b[1;33m\u001b[0m\u001b[0m\n\u001b[0m\u001b[0;32m   3915\u001b[0m \u001b[1;33m\u001b[0m\u001b[0m\n\u001b[0;32m   3916\u001b[0m         \u001b[1;32mif\u001b[0m \u001b[0minplace\u001b[0m\u001b[1;33m:\u001b[0m\u001b[1;33m\u001b[0m\u001b[1;33m\u001b[0m\u001b[0m\n",
      "\u001b[1;32m~\\Anaconda3\\lib\\site-packages\\pandas\\core\\generic.py\u001b[0m in \u001b[0;36m_drop_axis\u001b[1;34m(self, labels, axis, level, errors)\u001b[0m\n\u001b[0;32m   3944\u001b[0m                 \u001b[0mnew_axis\u001b[0m \u001b[1;33m=\u001b[0m \u001b[0maxis\u001b[0m\u001b[1;33m.\u001b[0m\u001b[0mdrop\u001b[0m\u001b[1;33m(\u001b[0m\u001b[0mlabels\u001b[0m\u001b[1;33m,\u001b[0m \u001b[0mlevel\u001b[0m\u001b[1;33m=\u001b[0m\u001b[0mlevel\u001b[0m\u001b[1;33m,\u001b[0m \u001b[0merrors\u001b[0m\u001b[1;33m=\u001b[0m\u001b[0merrors\u001b[0m\u001b[1;33m)\u001b[0m\u001b[1;33m\u001b[0m\u001b[1;33m\u001b[0m\u001b[0m\n\u001b[0;32m   3945\u001b[0m             \u001b[1;32melse\u001b[0m\u001b[1;33m:\u001b[0m\u001b[1;33m\u001b[0m\u001b[1;33m\u001b[0m\u001b[0m\n\u001b[1;32m-> 3946\u001b[1;33m                 \u001b[0mnew_axis\u001b[0m \u001b[1;33m=\u001b[0m \u001b[0maxis\u001b[0m\u001b[1;33m.\u001b[0m\u001b[0mdrop\u001b[0m\u001b[1;33m(\u001b[0m\u001b[0mlabels\u001b[0m\u001b[1;33m,\u001b[0m \u001b[0merrors\u001b[0m\u001b[1;33m=\u001b[0m\u001b[0merrors\u001b[0m\u001b[1;33m)\u001b[0m\u001b[1;33m\u001b[0m\u001b[1;33m\u001b[0m\u001b[0m\n\u001b[0m\u001b[0;32m   3947\u001b[0m             \u001b[0mresult\u001b[0m \u001b[1;33m=\u001b[0m \u001b[0mself\u001b[0m\u001b[1;33m.\u001b[0m\u001b[0mreindex\u001b[0m\u001b[1;33m(\u001b[0m\u001b[1;33m**\u001b[0m\u001b[1;33m{\u001b[0m\u001b[0maxis_name\u001b[0m\u001b[1;33m:\u001b[0m \u001b[0mnew_axis\u001b[0m\u001b[1;33m}\u001b[0m\u001b[1;33m)\u001b[0m\u001b[1;33m\u001b[0m\u001b[1;33m\u001b[0m\u001b[0m\n\u001b[0;32m   3948\u001b[0m \u001b[1;33m\u001b[0m\u001b[0m\n",
      "\u001b[1;32m~\\Anaconda3\\lib\\site-packages\\pandas\\core\\indexes\\base.py\u001b[0m in \u001b[0;36mdrop\u001b[1;34m(self, labels, errors)\u001b[0m\n\u001b[0;32m   5338\u001b[0m         \u001b[1;32mif\u001b[0m \u001b[0mmask\u001b[0m\u001b[1;33m.\u001b[0m\u001b[0many\u001b[0m\u001b[1;33m(\u001b[0m\u001b[1;33m)\u001b[0m\u001b[1;33m:\u001b[0m\u001b[1;33m\u001b[0m\u001b[1;33m\u001b[0m\u001b[0m\n\u001b[0;32m   5339\u001b[0m             \u001b[1;32mif\u001b[0m \u001b[0merrors\u001b[0m \u001b[1;33m!=\u001b[0m \u001b[1;34m\"ignore\"\u001b[0m\u001b[1;33m:\u001b[0m\u001b[1;33m\u001b[0m\u001b[1;33m\u001b[0m\u001b[0m\n\u001b[1;32m-> 5340\u001b[1;33m                 \u001b[1;32mraise\u001b[0m \u001b[0mKeyError\u001b[0m\u001b[1;33m(\u001b[0m\u001b[1;34m\"{} not found in axis\"\u001b[0m\u001b[1;33m.\u001b[0m\u001b[0mformat\u001b[0m\u001b[1;33m(\u001b[0m\u001b[0mlabels\u001b[0m\u001b[1;33m[\u001b[0m\u001b[0mmask\u001b[0m\u001b[1;33m]\u001b[0m\u001b[1;33m)\u001b[0m\u001b[1;33m)\u001b[0m\u001b[1;33m\u001b[0m\u001b[1;33m\u001b[0m\u001b[0m\n\u001b[0m\u001b[0;32m   5341\u001b[0m             \u001b[0mindexer\u001b[0m \u001b[1;33m=\u001b[0m \u001b[0mindexer\u001b[0m\u001b[1;33m[\u001b[0m\u001b[1;33m~\u001b[0m\u001b[0mmask\u001b[0m\u001b[1;33m]\u001b[0m\u001b[1;33m\u001b[0m\u001b[1;33m\u001b[0m\u001b[0m\n\u001b[0;32m   5342\u001b[0m         \u001b[1;32mreturn\u001b[0m \u001b[0mself\u001b[0m\u001b[1;33m.\u001b[0m\u001b[0mdelete\u001b[0m\u001b[1;33m(\u001b[0m\u001b[0mindexer\u001b[0m\u001b[1;33m)\u001b[0m\u001b[1;33m\u001b[0m\u001b[1;33m\u001b[0m\u001b[0m\n",
      "\u001b[1;31mKeyError\u001b[0m: \"['customerID' 'gender' 'Partner' 'Dependents' 'OnlineBackup'\\n 'DeviceProtection' 'StreamingTV' 'StreamingMovies' 'MonthlyCharges'\\n 'TotalCharges'] not found in axis\""
     ]
    }
   ],
   "source": [
    "list_of_cols = ['customerID',\n",
    " 'gender',\n",
    " 'Partner',\n",
    " 'Dependents',\n",
    " 'OnlineBackup',\n",
    " 'DeviceProtection',\n",
    " 'StreamingTV',\n",
    " 'StreamingMovies',\n",
    " 'MonthlyCharges',\n",
    " 'TotalCharges']\n",
    "df.drop(list_of_cols,axis='columns',inplace=True)"
   ]
  },
  {
   "cell_type": "code",
   "execution_count": 16,
   "metadata": {},
   "outputs": [
    {
     "ename": "AttributeError",
     "evalue": "'DataFrame' object has no attribute 'TotalCharges'",
     "output_type": "error",
     "traceback": [
      "\u001b[1;31m---------------------------------------------------------------------------\u001b[0m",
      "\u001b[1;31mAttributeError\u001b[0m                            Traceback (most recent call last)",
      "\u001b[1;32m<ipython-input-16-adfdd9d40f62>\u001b[0m in \u001b[0;36m<module>\u001b[1;34m\u001b[0m\n\u001b[0;32m      3\u001b[0m \u001b[1;31m#shows the data which has TotalCharges as null. Good to drop these\u001b[0m\u001b[1;33m\u001b[0m\u001b[1;33m\u001b[0m\u001b[1;33m\u001b[0m\u001b[0m\n\u001b[0;32m      4\u001b[0m \u001b[1;33m\u001b[0m\u001b[0m\n\u001b[1;32m----> 5\u001b[1;33m \u001b[0mdf\u001b[0m\u001b[1;33m[\u001b[0m\u001b[0mpd\u001b[0m\u001b[1;33m.\u001b[0m\u001b[0mto_numeric\u001b[0m\u001b[1;33m(\u001b[0m\u001b[0mdf\u001b[0m\u001b[1;33m.\u001b[0m\u001b[0mTotalCharges\u001b[0m\u001b[1;33m,\u001b[0m\u001b[0merrors\u001b[0m\u001b[1;33m=\u001b[0m\u001b[1;34m'coerce'\u001b[0m\u001b[1;33m)\u001b[0m\u001b[1;33m.\u001b[0m\u001b[0misnull\u001b[0m\u001b[1;33m(\u001b[0m\u001b[1;33m)\u001b[0m\u001b[1;33m]\u001b[0m\u001b[1;33m.\u001b[0m\u001b[0mshape\u001b[0m\u001b[1;33m\u001b[0m\u001b[1;33m\u001b[0m\u001b[0m\n\u001b[0m",
      "\u001b[1;32m~\\Anaconda3\\lib\\site-packages\\pandas\\core\\generic.py\u001b[0m in \u001b[0;36m__getattr__\u001b[1;34m(self, name)\u001b[0m\n\u001b[0;32m   5177\u001b[0m             \u001b[1;32mif\u001b[0m \u001b[0mself\u001b[0m\u001b[1;33m.\u001b[0m\u001b[0m_info_axis\u001b[0m\u001b[1;33m.\u001b[0m\u001b[0m_can_hold_identifiers_and_holds_name\u001b[0m\u001b[1;33m(\u001b[0m\u001b[0mname\u001b[0m\u001b[1;33m)\u001b[0m\u001b[1;33m:\u001b[0m\u001b[1;33m\u001b[0m\u001b[1;33m\u001b[0m\u001b[0m\n\u001b[0;32m   5178\u001b[0m                 \u001b[1;32mreturn\u001b[0m \u001b[0mself\u001b[0m\u001b[1;33m[\u001b[0m\u001b[0mname\u001b[0m\u001b[1;33m]\u001b[0m\u001b[1;33m\u001b[0m\u001b[1;33m\u001b[0m\u001b[0m\n\u001b[1;32m-> 5179\u001b[1;33m             \u001b[1;32mreturn\u001b[0m \u001b[0mobject\u001b[0m\u001b[1;33m.\u001b[0m\u001b[0m__getattribute__\u001b[0m\u001b[1;33m(\u001b[0m\u001b[0mself\u001b[0m\u001b[1;33m,\u001b[0m \u001b[0mname\u001b[0m\u001b[1;33m)\u001b[0m\u001b[1;33m\u001b[0m\u001b[1;33m\u001b[0m\u001b[0m\n\u001b[0m\u001b[0;32m   5180\u001b[0m \u001b[1;33m\u001b[0m\u001b[0m\n\u001b[0;32m   5181\u001b[0m     \u001b[1;32mdef\u001b[0m \u001b[0m__setattr__\u001b[0m\u001b[1;33m(\u001b[0m\u001b[0mself\u001b[0m\u001b[1;33m,\u001b[0m \u001b[0mname\u001b[0m\u001b[1;33m,\u001b[0m \u001b[0mvalue\u001b[0m\u001b[1;33m)\u001b[0m\u001b[1;33m:\u001b[0m\u001b[1;33m\u001b[0m\u001b[1;33m\u001b[0m\u001b[0m\n",
      "\u001b[1;31mAttributeError\u001b[0m: 'DataFrame' object has no attribute 'TotalCharges'"
     ]
    }
   ],
   "source": [
    "#error='coerce' ignores the errors. Conversion for all except for error values i.e. empty spaces. \n",
    "#.isnull() gives columns which have empty spaces\n",
    "#shows the data which has TotalCharges as null. Good to drop these\n",
    "\n",
    "df[pd.to_numeric(df.TotalCharges,errors='coerce').isnull()].shape"
   ]
  },
  {
   "cell_type": "code",
   "execution_count": 9,
   "metadata": {},
   "outputs": [],
   "source": [
    "#Drop rows with TotalCharges as null\n",
    "\n",
    "df1 = df[df.TotalCharges!=' ']"
   ]
  },
  {
   "cell_type": "code",
   "execution_count": 11,
   "metadata": {},
   "outputs": [
    {
     "name": "stderr",
     "output_type": "stream",
     "text": [
      "C:\\Users\\USER\\Anaconda3\\lib\\site-packages\\pandas\\core\\generic.py:5208: SettingWithCopyWarning: \n",
      "A value is trying to be set on a copy of a slice from a DataFrame.\n",
      "Try using .loc[row_indexer,col_indexer] = value instead\n",
      "\n",
      "See the caveats in the documentation: http://pandas.pydata.org/pandas-docs/stable/user_guide/indexing.html#returning-a-view-versus-a-copy\n",
      "  self[name] = value\n"
     ]
    }
   ],
   "source": [
    "df1.TotalCharges = pd.to_numeric(df1.TotalCharges)"
   ]
  },
  {
   "cell_type": "code",
   "execution_count": 34,
   "metadata": {},
   "outputs": [],
   "source": [
    "df.replace('No internet service','No',inplace=True)\n",
    "df.replace('No phone service','No',inplace=True)"
   ]
  },
  {
   "cell_type": "code",
   "execution_count": 43,
   "metadata": {},
   "outputs": [],
   "source": [
    "#replace Yes/No to 1/0 since ML doesn't understand text\n",
    "\n",
    "yes_no_columns = ['PhoneService','MultipleLines','OnlineSecurity',\n",
    "                  'TechSupport','PaperlessBilling','Churn']\n",
    "\n",
    "for col in yes_no_columns:\n",
    "    df[col].replace({'Yes': 1,'No': 0},inplace=True)\n",
    "    \n",
    "#df['MultipleLines'].replace({'Yes': 1,'No': 0},inplace=True)   "
   ]
  },
  {
   "cell_type": "code",
   "execution_count": 18,
   "metadata": {},
   "outputs": [],
   "source": [
    "df1['gender'].replace({'Male':1,'Female':0},inplace=True)\n"
   ]
  },
  {
   "cell_type": "code",
   "execution_count": 24,
   "metadata": {},
   "outputs": [],
   "source": [
    "#One hot encoding for multiclass i.e. InternetService, Contract, PaymentMethod\n",
    "\n",
    "multiclass_col=['InternetService', 'Contract', 'PaymentMethod']\n",
    "df = pd.get_dummies(data=df,columns=multiclass_col)\n",
    " "
   ]
  },
  {
   "cell_type": "code",
   "execution_count": 36,
   "metadata": {},
   "outputs": [],
   "source": [
    "#scaling the values between 1 and 0 for below\n",
    "cols_to_scale = ['tenure']\n",
    "                 #,'MonthlyCharges','TotalCharges']\n",
    "\n",
    "#MinMaxScaler scales the data between 0 and 1\n",
    "scaler = MinMaxScaler()\n",
    "\n",
    "df[cols_to_scale] = scaler.fit_transform(df[cols_to_scale])\n"
   ]
  },
  {
   "cell_type": "code",
   "execution_count": 25,
   "metadata": {},
   "outputs": [],
   "source": [
    "def print_unique_col_values(df):\n",
    "    for column in df:\n",
    "        print(f'{column} : {df[column].unique()}')"
   ]
  },
  {
   "cell_type": "code",
   "execution_count": 44,
   "metadata": {},
   "outputs": [
    {
     "name": "stdout",
     "output_type": "stream",
     "text": [
      "SeniorCitizen : [0 1]\n",
      "tenure : [0.01388889 0.47222222 0.02777778 0.625      0.11111111 0.30555556\n",
      " 0.13888889 0.38888889 0.86111111 0.18055556 0.22222222 0.80555556\n",
      " 0.68055556 0.34722222 0.95833333 0.72222222 0.98611111 0.29166667\n",
      " 0.16666667 0.41666667 0.65277778 1.         0.23611111 0.375\n",
      " 0.06944444 0.63888889 0.15277778 0.97222222 0.875      0.59722222\n",
      " 0.20833333 0.83333333 0.25       0.91666667 0.125      0.04166667\n",
      " 0.43055556 0.69444444 0.88888889 0.77777778 0.09722222 0.58333333\n",
      " 0.48611111 0.66666667 0.40277778 0.90277778 0.52777778 0.94444444\n",
      " 0.44444444 0.76388889 0.51388889 0.5        0.56944444 0.08333333\n",
      " 0.05555556 0.45833333 0.93055556 0.31944444 0.79166667 0.84722222\n",
      " 0.19444444 0.27777778 0.73611111 0.55555556 0.81944444 0.33333333\n",
      " 0.61111111 0.26388889 0.75       0.70833333 0.36111111 0.\n",
      " 0.54166667]\n",
      "PhoneService : [0 1]\n",
      "MultipleLines : [0 1]\n",
      "OnlineSecurity : [0 1]\n",
      "TechSupport : [0 1]\n",
      "PaperlessBilling : [1 0]\n",
      "Churn : [0 1]\n",
      "InternetService_DSL : [1 0]\n",
      "InternetService_Fiber optic : [0 1]\n",
      "InternetService_No : [0 1]\n",
      "Contract_Month-to-month : [1 0]\n",
      "Contract_One year : [0 1]\n",
      "Contract_Two year : [0 1]\n",
      "PaymentMethod_Bank transfer (automatic) : [0 1]\n",
      "PaymentMethod_Credit card (automatic) : [0 1]\n",
      "PaymentMethod_Electronic check : [1 0]\n",
      "PaymentMethod_Mailed check : [0 1]\n"
     ]
    }
   ],
   "source": [
    "print_unique_col_values(df)"
   ]
  },
  {
   "cell_type": "code",
   "execution_count": 45,
   "metadata": {},
   "outputs": [
    {
     "data": {
      "text/plain": [
       "0    5174\n",
       "1    1869\n",
       "Name: Churn, dtype: int64"
      ]
     },
     "execution_count": 45,
     "metadata": {},
     "output_type": "execute_result"
    }
   ],
   "source": [
    "#Drop churn \n",
    "x = df.drop('Churn',axis=1)  #check axis=0/1\n",
    "y = df['Churn']\n",
    "y.value_counts()"
   ]
  },
  {
   "cell_type": "code",
   "execution_count": 46,
   "metadata": {},
   "outputs": [],
   "source": [
    "#test and train split. 80% for training and 20% for test\n",
    "\n",
    "X_train, X_test, y_train, y_test = train_test_split(x,y,test_size=0.2,random_state=5)"
   ]
  },
  {
   "cell_type": "code",
   "execution_count": 47,
   "metadata": {},
   "outputs": [],
   "source": [
    "X_train, X_val, y_train, y_val = train_test_split(X_train,y_train,test_size=0.2,random_state=5)"
   ]
  },
  {
   "cell_type": "code",
   "execution_count": 52,
   "metadata": {},
   "outputs": [
    {
     "data": {
      "text/plain": [
       "0    3329\n",
       "1    1171\n",
       "Name: Churn, dtype: int64"
      ]
     },
     "execution_count": 52,
     "metadata": {},
     "output_type": "execute_result"
    }
   ],
   "source": [
    "y_train.value_counts()"
   ]
  },
  {
   "cell_type": "code",
   "execution_count": 53,
   "metadata": {},
   "outputs": [
    {
     "data": {
      "text/plain": [
       "0    835\n",
       "1    290\n",
       "Name: Churn, dtype: int64"
      ]
     },
     "execution_count": 53,
     "metadata": {},
     "output_type": "execute_result"
    }
   ],
   "source": [
    "y_val.value_counts()"
   ]
  },
  {
   "cell_type": "code",
   "execution_count": 48,
   "metadata": {},
   "outputs": [
    {
     "data": {
      "text/plain": [
       "17"
      ]
     },
     "execution_count": 48,
     "metadata": {},
     "output_type": "execute_result"
    }
   ],
   "source": [
    "y_test.value_counts()\n",
    "num_of_cols = len(x.columns)\n",
    "num_of_cols"
   ]
  },
  {
   "cell_type": "code",
   "execution_count": 49,
   "metadata": {},
   "outputs": [],
   "source": [
    "num_of_cols = len(x.columns)\n",
    "X_train=X_train.values.reshape(X_train.shape[0],num_of_cols, 1).astype('float32') \n",
    "X_test=X_test.values.reshape(X_test.shape[0],num_of_cols, 1).astype('float32')\n",
    "X_val=X_val.values.reshape(X_val.shape[0],num_of_cols, 1).astype('float32')\n",
    "\n",
    "#sometimes works as X_val.values.reshape(X_val.shape[0],26, 1).astype('float32')"
   ]
  },
  {
   "cell_type": "code",
   "execution_count": 56,
   "metadata": {
    "scrolled": true
   },
   "outputs": [
    {
     "data": {
      "text/plain": [
       "(1407, 26, 1)"
      ]
     },
     "execution_count": 56,
     "metadata": {},
     "output_type": "execute_result"
    }
   ],
   "source": [
    "X_test.shape"
   ]
  },
  {
   "cell_type": "code",
   "execution_count": 57,
   "metadata": {},
   "outputs": [
    {
     "data": {
      "text/plain": [
       "(1125, 26, 1)"
      ]
     },
     "execution_count": 57,
     "metadata": {},
     "output_type": "execute_result"
    }
   ],
   "source": [
    "X_val.shape"
   ]
  },
  {
   "cell_type": "code",
   "execution_count": 58,
   "metadata": {},
   "outputs": [
    {
     "data": {
      "text/plain": [
       "(4500, 26, 1)"
      ]
     },
     "execution_count": 58,
     "metadata": {},
     "output_type": "execute_result"
    }
   ],
   "source": [
    "X_train.shape"
   ]
  },
  {
   "cell_type": "code",
   "execution_count": 51,
   "metadata": {},
   "outputs": [
    {
     "name": "stdout",
     "output_type": "stream",
     "text": [
      "Train on 4507 samples, validate on 1127 samples\n",
      "Epoch 1/70\n",
      " 375/4507 [=>............................] - ETA: 1:10 - loss: 0.6489 - accuracy: 0.7733WARNING:tensorflow:Method (on_train_batch_end) is slow compared to the batch update (0.159573). Check your callbacks.\n",
      "4507/4507 [==============================] - 8s 2ms/sample - loss: 0.5896 - accuracy: 0.7362 - val_loss: 0.5641 - val_accuracy: 0.7391\n",
      "Epoch 2/70\n",
      "4507/4507 [==============================] - 1s 168us/sample - loss: 0.5630 - accuracy: 0.7362 - val_loss: 0.5514 - val_accuracy: 0.7391\n",
      "Epoch 3/70\n",
      "4507/4507 [==============================] - 1s 150us/sample - loss: 0.5479 - accuracy: 0.7362 - val_loss: 0.5374 - val_accuracy: 0.7391\n",
      "Epoch 4/70\n",
      "4507/4507 [==============================] - 1s 182us/sample - loss: 0.5309 - accuracy: 0.7362 - val_loss: 0.5233 - val_accuracy: 0.7391\n",
      "Epoch 5/70\n",
      "4507/4507 [==============================] - 1s 167us/sample - loss: 0.5211 - accuracy: 0.7362 - val_loss: 0.5095 - val_accuracy: 0.7391\n",
      "Epoch 6/70\n",
      "4507/4507 [==============================] - 1s 138us/sample - loss: 0.4994 - accuracy: 0.7475 - val_loss: 0.4986 - val_accuracy: 0.7391\n",
      "Epoch 7/70\n",
      "4507/4507 [==============================] - 1s 138us/sample - loss: 0.4952 - accuracy: 0.7621 - val_loss: 0.4967 - val_accuracy: 0.7915\n",
      "Epoch 8/70\n",
      "4507/4507 [==============================] - 1s 137us/sample - loss: 0.4802 - accuracy: 0.7817 - val_loss: 0.4856 - val_accuracy: 0.7853\n",
      "Epoch 9/70\n",
      "4507/4507 [==============================] - 1s 140us/sample - loss: 0.4911 - accuracy: 0.7710 - val_loss: 0.4888 - val_accuracy: 0.7569\n",
      "Epoch 10/70\n",
      "4507/4507 [==============================] - 1s 152us/sample - loss: 0.4694 - accuracy: 0.7823 - val_loss: 0.4686 - val_accuracy: 0.7782\n",
      "Epoch 11/70\n",
      "4507/4507 [==============================] - 1s 140us/sample - loss: 0.4676 - accuracy: 0.7837 - val_loss: 0.4643 - val_accuracy: 0.7941\n",
      "Epoch 12/70\n",
      "4507/4507 [==============================] - 1s 135us/sample - loss: 0.4582 - accuracy: 0.7892 - val_loss: 0.4599 - val_accuracy: 0.7915\n",
      "Epoch 13/70\n",
      "4507/4507 [==============================] - 1s 155us/sample - loss: 0.4527 - accuracy: 0.7888 - val_loss: 0.4622 - val_accuracy: 0.7799\n",
      "Epoch 14/70\n",
      "4507/4507 [==============================] - 1s 140us/sample - loss: 0.4507 - accuracy: 0.7899 - val_loss: 0.4554 - val_accuracy: 0.7915\n",
      "Epoch 15/70\n",
      "4507/4507 [==============================] - 1s 137us/sample - loss: 0.4465 - accuracy: 0.7945 - val_loss: 0.4584 - val_accuracy: 0.7746\n",
      "Epoch 16/70\n",
      "4507/4507 [==============================] - 1s 150us/sample - loss: 0.4530 - accuracy: 0.7863 - val_loss: 0.4505 - val_accuracy: 0.8021\n",
      "Epoch 17/70\n",
      "4507/4507 [==============================] - 1s 150us/sample - loss: 0.4426 - accuracy: 0.7928 - val_loss: 0.4507 - val_accuracy: 0.7959\n",
      "Epoch 18/70\n",
      "4507/4507 [==============================] - 1s 155us/sample - loss: 0.4410 - accuracy: 0.7919 - val_loss: 0.4487 - val_accuracy: 0.7933\n",
      "Epoch 19/70\n",
      "4507/4507 [==============================] - 1s 160us/sample - loss: 0.4383 - accuracy: 0.7943 - val_loss: 0.4502 - val_accuracy: 0.7933\n",
      "Epoch 20/70\n",
      "4507/4507 [==============================] - 1s 157us/sample - loss: 0.4477 - accuracy: 0.7819 - val_loss: 0.4482 - val_accuracy: 0.7950\n",
      "Epoch 21/70\n",
      "4507/4507 [==============================] - 1s 130us/sample - loss: 0.4396 - accuracy: 0.7937 - val_loss: 0.4437 - val_accuracy: 0.8039\n",
      "Epoch 22/70\n",
      "4507/4507 [==============================] - 1s 135us/sample - loss: 0.4377 - accuracy: 0.7917 - val_loss: 0.4457 - val_accuracy: 0.7950\n",
      "Epoch 23/70\n",
      "4507/4507 [==============================] - 1s 142us/sample - loss: 0.4351 - accuracy: 0.7952 - val_loss: 0.4403 - val_accuracy: 0.8057\n",
      "Epoch 24/70\n",
      "4507/4507 [==============================] - 1s 140us/sample - loss: 0.4381 - accuracy: 0.7937 - val_loss: 0.4421 - val_accuracy: 0.8048\n",
      "Epoch 25/70\n",
      "4507/4507 [==============================] - 1s 137us/sample - loss: 0.4301 - accuracy: 0.7994 - val_loss: 0.4412 - val_accuracy: 0.7995\n",
      "Epoch 26/70\n",
      "4507/4507 [==============================] - 1s 135us/sample - loss: 0.4335 - accuracy: 0.7939 - val_loss: 0.4416 - val_accuracy: 0.8066\n",
      "Epoch 27/70\n",
      "4507/4507 [==============================] - 1s 140us/sample - loss: 0.4308 - accuracy: 0.7999 - val_loss: 0.4427 - val_accuracy: 0.8030\n",
      "Epoch 28/70\n",
      "4507/4507 [==============================] - 1s 145us/sample - loss: 0.4323 - accuracy: 0.7983 - val_loss: 0.4412 - val_accuracy: 0.8004\n",
      "Epoch 29/70\n",
      "4507/4507 [==============================] - 1s 155us/sample - loss: 0.4309 - accuracy: 0.7957 - val_loss: 0.4377 - val_accuracy: 0.7968\n",
      "Epoch 30/70\n",
      "4507/4507 [==============================] - 1s 140us/sample - loss: 0.4313 - accuracy: 0.7959 - val_loss: 0.4397 - val_accuracy: 0.8004\n",
      "Epoch 31/70\n",
      "4507/4507 [==============================] - 1s 137us/sample - loss: 0.4284 - accuracy: 0.7979 - val_loss: 0.4374 - val_accuracy: 0.8004\n",
      "Epoch 32/70\n",
      "4507/4507 [==============================] - 1s 170us/sample - loss: 0.4294 - accuracy: 0.7981 - val_loss: 0.4362 - val_accuracy: 0.7977\n",
      "Epoch 33/70\n",
      "4507/4507 [==============================] - 1s 137us/sample - loss: 0.4275 - accuracy: 0.7990 - val_loss: 0.4361 - val_accuracy: 0.8039\n",
      "Epoch 34/70\n",
      "4507/4507 [==============================] - 1s 137us/sample - loss: 0.4254 - accuracy: 0.7994 - val_loss: 0.4384 - val_accuracy: 0.7977\n",
      "Epoch 35/70\n",
      "4507/4507 [==============================] - 1s 137us/sample - loss: 0.4232 - accuracy: 0.7988 - val_loss: 0.4359 - val_accuracy: 0.8004\n",
      "Epoch 36/70\n",
      "4507/4507 [==============================] - 1s 137us/sample - loss: 0.4263 - accuracy: 0.7970 - val_loss: 0.4362 - val_accuracy: 0.7986\n",
      "Epoch 37/70\n",
      "4507/4507 [==============================] - 1s 140us/sample - loss: 0.4331 - accuracy: 0.7950 - val_loss: 0.4395 - val_accuracy: 0.8092\n",
      "Epoch 38/70\n",
      "4507/4507 [==============================] - 1s 130us/sample - loss: 0.4264 - accuracy: 0.8003 - val_loss: 0.4356 - val_accuracy: 0.8066\n",
      "Epoch 39/70\n",
      "4507/4507 [==============================] - 1s 152us/sample - loss: 0.4238 - accuracy: 0.8003 - val_loss: 0.4397 - val_accuracy: 0.8066\n",
      "Epoch 40/70\n",
      "4507/4507 [==============================] - 1s 148us/sample - loss: 0.4303 - accuracy: 0.7972 - val_loss: 0.4432 - val_accuracy: 0.8066\n",
      "Epoch 41/70\n",
      "4507/4507 [==============================] - 1s 145us/sample - loss: 0.4290 - accuracy: 0.7976 - val_loss: 0.4326 - val_accuracy: 0.8128\n",
      "Epoch 42/70\n",
      "4507/4507 [==============================] - 1s 147us/sample - loss: 0.4274 - accuracy: 0.7959 - val_loss: 0.4392 - val_accuracy: 0.7995\n",
      "Epoch 43/70\n",
      "4507/4507 [==============================] - 1s 155us/sample - loss: 0.4227 - accuracy: 0.8003 - val_loss: 0.4367 - val_accuracy: 0.8048\n",
      "Epoch 44/70\n",
      "4507/4507 [==============================] - 1s 148us/sample - loss: 0.4270 - accuracy: 0.7970 - val_loss: 0.4324 - val_accuracy: 0.8075\n",
      "Epoch 45/70\n",
      "4507/4507 [==============================] - 1s 145us/sample - loss: 0.4226 - accuracy: 0.8008 - val_loss: 0.4341 - val_accuracy: 0.8039\n",
      "Epoch 46/70\n",
      "4507/4507 [==============================] - 1s 140us/sample - loss: 0.4201 - accuracy: 0.8028 - val_loss: 0.4315 - val_accuracy: 0.8101\n",
      "Epoch 47/70\n",
      "4507/4507 [==============================] - 1s 152us/sample - loss: 0.4184 - accuracy: 0.8045 - val_loss: 0.4318 - val_accuracy: 0.8092\n",
      "Epoch 48/70\n",
      "4507/4507 [==============================] - 1s 137us/sample - loss: 0.4174 - accuracy: 0.8047 - val_loss: 0.4504 - val_accuracy: 0.7799\n",
      "Epoch 49/70\n",
      "4507/4507 [==============================] - 1s 147us/sample - loss: 0.4351 - accuracy: 0.7919 - val_loss: 0.4312 - val_accuracy: 0.8021\n",
      "Epoch 50/70\n",
      "4507/4507 [==============================] - 1s 131us/sample - loss: 0.4186 - accuracy: 0.8032 - val_loss: 0.4333 - val_accuracy: 0.8021\n",
      "Epoch 51/70\n",
      "4507/4507 [==============================] - 1s 148us/sample - loss: 0.4223 - accuracy: 0.7985 - val_loss: 0.4317 - val_accuracy: 0.8021\n",
      "Epoch 52/70\n",
      "4507/4507 [==============================] - 1s 138us/sample - loss: 0.4202 - accuracy: 0.8014 - val_loss: 0.4334 - val_accuracy: 0.8012\n",
      "Epoch 53/70\n",
      "4507/4507 [==============================] - 1s 172us/sample - loss: 0.4208 - accuracy: 0.7983 - val_loss: 0.4451 - val_accuracy: 0.7870\n",
      "Epoch 54/70\n"
     ]
    },
    {
     "name": "stdout",
     "output_type": "stream",
     "text": [
      "4507/4507 [==============================] - 1s 150us/sample - loss: 0.4461 - accuracy: 0.7850 - val_loss: 0.4303 - val_accuracy: 0.8066\n",
      "Epoch 55/70\n",
      "4507/4507 [==============================] - 1s 145us/sample - loss: 0.4181 - accuracy: 0.8034 - val_loss: 0.4399 - val_accuracy: 0.8021\n",
      "Epoch 56/70\n",
      "4507/4507 [==============================] - 1s 135us/sample - loss: 0.4343 - accuracy: 0.7899 - val_loss: 0.4284 - val_accuracy: 0.8128\n",
      "Epoch 57/70\n",
      "4507/4507 [==============================] - 1s 135us/sample - loss: 0.4283 - accuracy: 0.7952 - val_loss: 0.4304 - val_accuracy: 0.8075\n",
      "Epoch 58/70\n",
      "4507/4507 [==============================] - 1s 205us/sample - loss: 0.4273 - accuracy: 0.7988 - val_loss: 0.4337 - val_accuracy: 0.8012\n",
      "Epoch 59/70\n",
      "4507/4507 [==============================] - 1s 134us/sample - loss: 0.4203 - accuracy: 0.7976 - val_loss: 0.4354 - val_accuracy: 0.8004\n",
      "Epoch 60/70\n",
      "4507/4507 [==============================] - 1s 138us/sample - loss: 0.4222 - accuracy: 0.8047 - val_loss: 0.4360 - val_accuracy: 0.8012\n",
      "Epoch 61/70\n",
      "4507/4507 [==============================] - 1s 145us/sample - loss: 0.4185 - accuracy: 0.8016 - val_loss: 0.4294 - val_accuracy: 0.8057\n",
      "Epoch 62/70\n",
      "4507/4507 [==============================] - 1s 133us/sample - loss: 0.4311 - accuracy: 0.7939 - val_loss: 0.4471 - val_accuracy: 0.7924\n",
      "Epoch 63/70\n",
      "4507/4507 [==============================] - 1s 138us/sample - loss: 0.4263 - accuracy: 0.7970 - val_loss: 0.4293 - val_accuracy: 0.8012\n",
      "Epoch 64/70\n",
      "4507/4507 [==============================] - 1s 162us/sample - loss: 0.4184 - accuracy: 0.7992 - val_loss: 0.4322 - val_accuracy: 0.8039\n",
      "Epoch 65/70\n",
      "4507/4507 [==============================] - 1s 145us/sample - loss: 0.4163 - accuracy: 0.8001 - val_loss: 0.4287 - val_accuracy: 0.8030\n",
      "Epoch 66/70\n",
      "4507/4507 [==============================] - 1s 150us/sample - loss: 0.4154 - accuracy: 0.8072 - val_loss: 0.4286 - val_accuracy: 0.8039\n",
      "Epoch 67/70\n",
      "4507/4507 [==============================] - 1s 142us/sample - loss: 0.4150 - accuracy: 0.8074 - val_loss: 0.4282 - val_accuracy: 0.8066\n",
      "Epoch 68/70\n",
      "4507/4507 [==============================] - 1s 143us/sample - loss: 0.4202 - accuracy: 0.8025 - val_loss: 0.4371 - val_accuracy: 0.7959\n",
      "Epoch 69/70\n",
      "4507/4507 [==============================] - 1s 133us/sample - loss: 0.4217 - accuracy: 0.8008 - val_loss: 0.4289 - val_accuracy: 0.8021\n",
      "Epoch 70/70\n",
      "4507/4507 [==============================] - 1s 140us/sample - loss: 0.4147 - accuracy: 0.8070 - val_loss: 0.4309 - val_accuracy: 0.8030\n"
     ]
    },
    {
     "data": {
      "text/plain": [
       "<tensorflow.python.keras.callbacks.History at 0x20576505088>"
      ]
     },
     "execution_count": 51,
     "metadata": {},
     "output_type": "execute_result"
    }
   ],
   "source": [
    "Name = \"CNN_{}\".format(int(time.time())) \n",
    "log_dir=\"E:\\\\SnehaWork\\\\AIProject\\\\TF_Logs\\\\{}\".format(Name)\n",
    "cnn = models.Sequential([\n",
    "    layers.Conv1D(filters=128, kernel_size=3, activation='relu', input_shape=(num_of_cols,1)),  \n",
    "    layers.MaxPooling1D(pool_size=3),\n",
    "    \n",
    "    layers.Conv1D(filters=128, kernel_size=3, activation='relu'),\n",
    "    layers.MaxPooling1D(pool_size=3),\n",
    "    \n",
    "    layers.Flatten(),\n",
    "    layers.Dense(20, activation='relu'),\n",
    "    layers.Dense(1, activation='sigmoid')\n",
    "])\n",
    "\n",
    "#cnn.summary()\n",
    "tb_callback = tf.keras.callbacks.TensorBoard(log_dir=log_dir,histogram_freq=0)\n",
    "\n",
    "cnn.compile(optimizer='Adam',loss='binary_crossentropy',metrics=['accuracy'])\n",
    "\n",
    "cnn.fit(X_train, y_train, validation_data=(X_val,y_val), batch_size=375,epochs=70, callbacks=[tb_callback])"
   ]
  },
  {
   "cell_type": "code",
   "execution_count": 52,
   "metadata": {},
   "outputs": [
    {
     "name": "stdout",
     "output_type": "stream",
     "text": [
      "1409/1409 [==============================] - 0s 44us/sample - loss: 0.4450 - accuracy: 0.7835\n"
     ]
    },
    {
     "data": {
      "text/plain": [
       "[0.4450469503934033, 0.7835344]"
      ]
     },
     "execution_count": 52,
     "metadata": {},
     "output_type": "execute_result"
    }
   ],
   "source": [
    "cnn.evaluate(X_test,y_test,batch_size=375)"
   ]
  },
  {
   "cell_type": "code",
   "execution_count": 21,
   "metadata": {},
   "outputs": [],
   "source": [
    "#conda install tensorboard"
   ]
  },
  {
   "cell_type": "code",
   "execution_count": 88,
   "metadata": {},
   "outputs": [
    {
     "name": "stdout",
     "output_type": "stream",
     "text": [
      "The tensorboard extension is already loaded. To reload it, use:\n",
      "  %reload_ext tensorboard\n"
     ]
    },
    {
     "data": {
      "text/plain": [
       "Reusing TensorBoard on port 6006 (pid 15092), started 2 days, 22:58:06 ago. (Use '!kill 15092' to kill it.)"
      ]
     },
     "metadata": {},
     "output_type": "display_data"
    },
    {
     "data": {
      "text/html": [
       "\n",
       "      <iframe id=\"tensorboard-frame-169c83da7c25869d\" width=\"100%\" height=\"800\" frameborder=\"0\">\n",
       "      </iframe>\n",
       "      <script>\n",
       "        (function() {\n",
       "          const frame = document.getElementById(\"tensorboard-frame-169c83da7c25869d\");\n",
       "          const url = new URL(\"/\", window.location);\n",
       "          const port = 6006;\n",
       "          if (port) {\n",
       "            url.port = port;\n",
       "          }\n",
       "          frame.src = url;\n",
       "        })();\n",
       "      </script>\n",
       "    "
      ],
      "text/plain": [
       "<IPython.core.display.HTML object>"
      ]
     },
     "metadata": {},
     "output_type": "display_data"
    }
   ],
   "source": [
    "%load_ext tensorboard\n",
    "%tensorboard --logdir log_dir\n",
    "#The tensorboard extension is already loaded. To reload it, use:\n",
    "#%reload_ext tensorboard\n",
    "#%tensorboard --logdir log_dir\n",
    "\n",
    "#taskkill /F /PID 15092"
   ]
  },
  {
   "cell_type": "code",
   "execution_count": 51,
   "metadata": {},
   "outputs": [
    {
     "ename": "ValueError",
     "evalue": "Found array with dim 3. Estimator expected <= 2.",
     "output_type": "error",
     "traceback": [
      "\u001b[1;31m---------------------------------------------------------------------------\u001b[0m",
      "\u001b[1;31mValueError\u001b[0m                                Traceback (most recent call last)",
      "\u001b[1;32m<ipython-input-51-e05c87386791>\u001b[0m in \u001b[0;36m<module>\u001b[1;34m\u001b[0m\n\u001b[0;32m      1\u001b[0m \u001b[1;32mfrom\u001b[0m \u001b[0msklearn\u001b[0m\u001b[1;33m.\u001b[0m\u001b[0mfeature_selection\u001b[0m \u001b[1;32mimport\u001b[0m \u001b[0mVarianceThreshold\u001b[0m\u001b[1;33m\u001b[0m\u001b[1;33m\u001b[0m\u001b[0m\n\u001b[0;32m      2\u001b[0m \u001b[0mselector\u001b[0m \u001b[1;33m=\u001b[0m \u001b[0mVarianceThreshold\u001b[0m\u001b[1;33m(\u001b[0m\u001b[1;33m)\u001b[0m\u001b[1;33m\u001b[0m\u001b[1;33m\u001b[0m\u001b[0m\n\u001b[1;32m----> 3\u001b[1;33m \u001b[0mX_train\u001b[0m\u001b[1;33m=\u001b[0m\u001b[0mselector\u001b[0m\u001b[1;33m.\u001b[0m\u001b[0mfit_transform\u001b[0m\u001b[1;33m(\u001b[0m\u001b[0mX_train\u001b[0m\u001b[1;33m)\u001b[0m\u001b[1;33m\u001b[0m\u001b[1;33m\u001b[0m\u001b[0m\n\u001b[0m\u001b[0;32m      4\u001b[0m \u001b[0mX_test\u001b[0m\u001b[1;33m=\u001b[0m\u001b[0mselector\u001b[0m\u001b[1;33m.\u001b[0m\u001b[0mtransform\u001b[0m\u001b[1;33m(\u001b[0m\u001b[0mX_test\u001b[0m\u001b[1;33m)\u001b[0m\u001b[1;33m\u001b[0m\u001b[1;33m\u001b[0m\u001b[0m\n",
      "\u001b[1;32m~\\Anaconda3\\lib\\site-packages\\sklearn\\base.py\u001b[0m in \u001b[0;36mfit_transform\u001b[1;34m(self, X, y, **fit_params)\u001b[0m\n\u001b[0;32m    551\u001b[0m         \u001b[1;32mif\u001b[0m \u001b[0my\u001b[0m \u001b[1;32mis\u001b[0m \u001b[1;32mNone\u001b[0m\u001b[1;33m:\u001b[0m\u001b[1;33m\u001b[0m\u001b[1;33m\u001b[0m\u001b[0m\n\u001b[0;32m    552\u001b[0m             \u001b[1;31m# fit method of arity 1 (unsupervised transformation)\u001b[0m\u001b[1;33m\u001b[0m\u001b[1;33m\u001b[0m\u001b[1;33m\u001b[0m\u001b[0m\n\u001b[1;32m--> 553\u001b[1;33m             \u001b[1;32mreturn\u001b[0m \u001b[0mself\u001b[0m\u001b[1;33m.\u001b[0m\u001b[0mfit\u001b[0m\u001b[1;33m(\u001b[0m\u001b[0mX\u001b[0m\u001b[1;33m,\u001b[0m \u001b[1;33m**\u001b[0m\u001b[0mfit_params\u001b[0m\u001b[1;33m)\u001b[0m\u001b[1;33m.\u001b[0m\u001b[0mtransform\u001b[0m\u001b[1;33m(\u001b[0m\u001b[0mX\u001b[0m\u001b[1;33m)\u001b[0m\u001b[1;33m\u001b[0m\u001b[1;33m\u001b[0m\u001b[0m\n\u001b[0m\u001b[0;32m    554\u001b[0m         \u001b[1;32melse\u001b[0m\u001b[1;33m:\u001b[0m\u001b[1;33m\u001b[0m\u001b[1;33m\u001b[0m\u001b[0m\n\u001b[0;32m    555\u001b[0m             \u001b[1;31m# fit method of arity 2 (supervised transformation)\u001b[0m\u001b[1;33m\u001b[0m\u001b[1;33m\u001b[0m\u001b[1;33m\u001b[0m\u001b[0m\n",
      "\u001b[1;32m~\\Anaconda3\\lib\\site-packages\\sklearn\\feature_selection\\variance_threshold.py\u001b[0m in \u001b[0;36mfit\u001b[1;34m(self, X, y)\u001b[0m\n\u001b[0;32m     62\u001b[0m         \u001b[0mself\u001b[0m\u001b[1;33m\u001b[0m\u001b[1;33m\u001b[0m\u001b[0m\n\u001b[0;32m     63\u001b[0m         \"\"\"\n\u001b[1;32m---> 64\u001b[1;33m         \u001b[0mX\u001b[0m \u001b[1;33m=\u001b[0m \u001b[0mcheck_array\u001b[0m\u001b[1;33m(\u001b[0m\u001b[0mX\u001b[0m\u001b[1;33m,\u001b[0m \u001b[1;33m(\u001b[0m\u001b[1;34m'csr'\u001b[0m\u001b[1;33m,\u001b[0m \u001b[1;34m'csc'\u001b[0m\u001b[1;33m)\u001b[0m\u001b[1;33m,\u001b[0m \u001b[0mdtype\u001b[0m\u001b[1;33m=\u001b[0m\u001b[0mnp\u001b[0m\u001b[1;33m.\u001b[0m\u001b[0mfloat64\u001b[0m\u001b[1;33m)\u001b[0m\u001b[1;33m\u001b[0m\u001b[1;33m\u001b[0m\u001b[0m\n\u001b[0m\u001b[0;32m     65\u001b[0m \u001b[1;33m\u001b[0m\u001b[0m\n\u001b[0;32m     66\u001b[0m         \u001b[1;32mif\u001b[0m \u001b[0mhasattr\u001b[0m\u001b[1;33m(\u001b[0m\u001b[0mX\u001b[0m\u001b[1;33m,\u001b[0m \u001b[1;34m\"toarray\"\u001b[0m\u001b[1;33m)\u001b[0m\u001b[1;33m:\u001b[0m   \u001b[1;31m# sparse matrix\u001b[0m\u001b[1;33m\u001b[0m\u001b[1;33m\u001b[0m\u001b[0m\n",
      "\u001b[1;32m~\\Anaconda3\\lib\\site-packages\\sklearn\\utils\\validation.py\u001b[0m in \u001b[0;36mcheck_array\u001b[1;34m(array, accept_sparse, accept_large_sparse, dtype, order, copy, force_all_finite, ensure_2d, allow_nd, ensure_min_samples, ensure_min_features, warn_on_dtype, estimator)\u001b[0m\n\u001b[0;32m    537\u001b[0m         \u001b[1;32mif\u001b[0m \u001b[1;32mnot\u001b[0m \u001b[0mallow_nd\u001b[0m \u001b[1;32mand\u001b[0m \u001b[0marray\u001b[0m\u001b[1;33m.\u001b[0m\u001b[0mndim\u001b[0m \u001b[1;33m>=\u001b[0m \u001b[1;36m3\u001b[0m\u001b[1;33m:\u001b[0m\u001b[1;33m\u001b[0m\u001b[1;33m\u001b[0m\u001b[0m\n\u001b[0;32m    538\u001b[0m             raise ValueError(\"Found array with dim %d. %s expected <= 2.\"\n\u001b[1;32m--> 539\u001b[1;33m                              % (array.ndim, estimator_name))\n\u001b[0m\u001b[0;32m    540\u001b[0m         \u001b[1;32mif\u001b[0m \u001b[0mforce_all_finite\u001b[0m\u001b[1;33m:\u001b[0m\u001b[1;33m\u001b[0m\u001b[1;33m\u001b[0m\u001b[0m\n\u001b[0;32m    541\u001b[0m             _assert_all_finite(array,\n",
      "\u001b[1;31mValueError\u001b[0m: Found array with dim 3. Estimator expected <= 2."
     ]
    }
   ],
   "source": []
  },
  {
   "cell_type": "code",
   "execution_count": 52,
   "metadata": {},
   "outputs": [
    {
     "data": {
      "text/plain": [
       "array([[[1.],\n",
       "        [0.],\n",
       "        [1.],\n",
       "        ...,\n",
       "        [0.],\n",
       "        [1.],\n",
       "        [0.]],\n",
       "\n",
       "       [[0.],\n",
       "        [0.],\n",
       "        [1.],\n",
       "        ...,\n",
       "        [0.],\n",
       "        [1.],\n",
       "        [0.]],\n",
       "\n",
       "       [[0.],\n",
       "        [0.],\n",
       "        [0.],\n",
       "        ...,\n",
       "        [0.],\n",
       "        [0.],\n",
       "        [1.]],\n",
       "\n",
       "       ...,\n",
       "\n",
       "       [[0.],\n",
       "        [0.],\n",
       "        [0.],\n",
       "        ...,\n",
       "        [0.],\n",
       "        [0.],\n",
       "        [1.]],\n",
       "\n",
       "       [[0.],\n",
       "        [0.],\n",
       "        [1.],\n",
       "        ...,\n",
       "        [0.],\n",
       "        [0.],\n",
       "        [0.]],\n",
       "\n",
       "       [[1.],\n",
       "        [0.],\n",
       "        [0.],\n",
       "        ...,\n",
       "        [0.],\n",
       "        [0.],\n",
       "        [0.]]], dtype=float32)"
      ]
     },
     "execution_count": 52,
     "metadata": {},
     "output_type": "execute_result"
    }
   ],
   "source": [
    "X_train"
   ]
  },
  {
   "cell_type": "code",
   "execution_count": null,
   "metadata": {},
   "outputs": [],
   "source": []
  }
 ],
 "metadata": {
  "kernelspec": {
   "display_name": "Python 3",
   "language": "python",
   "name": "python3"
  },
  "language_info": {
   "codemirror_mode": {
    "name": "ipython",
    "version": 3
   },
   "file_extension": ".py",
   "mimetype": "text/x-python",
   "name": "python",
   "nbconvert_exporter": "python",
   "pygments_lexer": "ipython3",
   "version": "3.7.4"
  }
 },
 "nbformat": 4,
 "nbformat_minor": 2
}
